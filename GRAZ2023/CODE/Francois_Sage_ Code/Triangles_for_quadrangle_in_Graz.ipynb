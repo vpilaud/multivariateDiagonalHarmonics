{
 "cells": [
  {
   "cell_type": "markdown",
   "metadata": {},
   "source": [
    "# <div align=\"center\">  <span style=\"color:blue\">    Triangles in Graz</span>\n",
    "### <div align=\"center\">  <span style=\"color:green\"> *François Bergeron, Nantel Bergeron, Cesar Ceballos, and Vincent Pilaud*</span>\n",
    "#### <div align=\"center\">  <span style=\"color:blue\"> (June 2023)</span>\n",
    "\n",
    "\n",
    " "
   ]
  },
  {
   "cell_type": "markdown",
   "metadata": {},
   "source": [
    "Triangular partition and associated symmetric functions are motivated by the work of J. Blasiak, M. Haiman, J. Morse, A. Pun, and G. H. Seelinger, in the paper: <a href=\"https://arxiv.org/abs/2102.07931\"><span style=\"color:blue\">*A Shuffle Theorem for Paths under any Line*</span></a>, 2021; and subsequent work. \n",
    "\n",
    "For combinatorial properties of triangular partitions, see:\n",
    "<ol>\n",
    " <li> F. Bergeron et M. Mazin; <a href=\"https://ecajournal.haifa.ac.il/Volume2023/ECA2023_S2A1.pdf\"><span style=\"color:blue\">Combinatorics of Triangular Partitions</span></a>; Enumerative Combinatorics and Applications, ECA 3:1 (2023) Article S2R1, 24 pages. (version préliminaire <a href=\"https://arxiv.org/abs/2203.15942\"><span style=\"color:blue\">arXiv:2203.15942</span></a>).</li>\n",
    "</ol>\n",
    "\n",
    "\n",
    "Other associated papers study the equivalent notion of «Corner Cut».\n",
    "<ol>\n",
    " <li> Shmuel Onn, Bernd Sturmfels; <a href=\"https://doi.org/10.1006/aama.1999.0645\"><span style=\"color:blue\">Cutting corners</span></a>; Advances in Applied Math, Volume 23 Issue 1 (1999), 29-48.</li>\n",
    "<li>Sylvie Corteel, Gaël Rémond, Gilles Schaeffer,  et Hugh Thomas; <a href=\"https://doi.org/10.1006/aama.1999.0646\"><span style=\"color:blue\">The Number of Plane Corner Cut</span></a>; Advances in Applied Math, Volume 23 Issue 1 (1999), pp 49-53. </li>\n",
    "<li>Irene Müller; <a href=\"https://www.emis.de/journals/BAG/vol.44/no.2/b44h2mue.pdf\"><span style=\"color:blue\">Corner Cuts and their Polytopes</span></a>; Contributions to Algebra and Geometry, Volume 44 (2003), No. 2, 323-333.  </li>\n",
    "</ol>\n",
    "\n"
   ]
  },
  {
   "cell_type": "markdown",
   "metadata": {},
   "source": [
    "The basic tools are loaded as follows. These include symmetric function tools,tools for triangular (and concave) partitions. There are two dictionnaries for precalculated values of the fonctions $$F_\\tau(\\boldsymbol{q};\\boldsymbol{z})=\\sum_{\\mu\\vdash n} c_{\\lambda\\mu} s_\\lambda(\\boldsymbol{q})\\otimes e_{\\overline{\\mu}}(\\boldsymbol{z}),$$ where $\\overline{\\mu}$ denotes the partition obtained by removing from $\\mu$ its largest part; and (for more values) of $$A_\\tau(\\boldsymbol{q})=\\langle F_\\tau(\\boldsymbol{q};\\boldsymbol{z}),e_0(\\boldsymbol{z})\\rangle.$$"
   ]
  },
  {
   "cell_type": "code",
   "execution_count": 3,
   "metadata": {},
   "outputs": [],
   "source": [
    "%display latex\n",
    "%runfile Tools_For_Symmetric_Functions.py\n",
    "%runfile Tools_For_Triangular_Partitions.py\n",
    "%runfile Ajouts_Classe_Partages.py\n",
    "%runfile Ajouts_Classe_Tenseurs.py\n",
    "%runfile F_Dict.py\n",
    "%runfile A_Dict.py\n",
    "\n",
    "@cached_function\n",
    "def e_decontracte(F,n):\n",
    "    return add(c*tensor([s(mu),s(e(nu)*e[n-nu.size()])])  \n",
    "                  for (mu,nu),c in tensor([s,e])(F)).Pleth(Z-Integer(1))\n",
    "\n",
    "def Bar(nu):\n",
    "    if nu.length()==1:\n",
    "        return zero\n",
    "    else:\n",
    "        return Partition(nu[1:])\n",
    "    \n",
    "@cached_function\n",
    "def E_via_F(tau,n):\n",
    "    tau=Partition(tau)\n",
    "    if tau in Precalculated_F.keys():\n",
    "        return e_decontracte(Precalculated_F[tau],n)\n",
    "    else:\n",
    "        print((tau,'To be calculated'))\n",
    "        return None\n",
    "        \n",
    "@cached_function\n",
    "def F(tau,n=None):\n",
    "    tau=Partition(tau)\n",
    "    if tau in Precalculated_F.keys() and n==None:\n",
    "        return Precalculated_F[tau]\n",
    "    elif tau in Precalculated_F.keys():\n",
    "        return fixe_n(Precalculated_F[tau],n)\n",
    "    else:\n",
    "        print((tau,'To be calculated'))\n",
    "        return None\n",
    "        \n",
    "@cached_function\n",
    "def fixe_n(F,n):\n",
    "    return tensor([s,e])(add(c*tensor([s(mu),s(e(nu)*e[n-nu.size()])])  \n",
    "                  for (mu,nu),c in tensor([s,e])(F)))\n",
    "        \n",
    "@cached_function\n",
    "def A(tau):\n",
    "    tau=Partition(list(tau))\n",
    "    if tau in Precalculated_A.keys():\n",
    "        return Precalculated_A[tau]\n",
    "    elif not Is_Dominant(tau):\n",
    "        return A(tau.conjugate())\n",
    "    elif tau.length()<=1:\n",
    "        return s[tau.size()]\n",
    "    elif tau.length()==2:\n",
    "        (a,b)=tau\n",
    "        return add(s[a+b-2*d,d] for d in range(b+1) if 3*d<=a+b)\n",
    "    elif tau.length()==3 and not tau.Moins((3,2,1))==None  and Est_Concave(tau):\n",
    "        return A_v(part_to_vect(tau))+(A(tau.Moins((3,2,1)))*e[3]).restrict_partition_lengths(3)\n",
    "    elif tau.length()==3 and Est_Concave(tau):\n",
    "        return A_v(part_to_vect(tau))\n",
    "    else:\n",
    "        print((tau,'To be calculated or is not concave'))\n",
    "        return None\n",
    "\n",
    "@cached_function\n",
    "def E(tau,n=None):\n",
    "    tau=Partition(list(tau))\n",
    "    if n==None:\n",
    "        return E(tau,tau.length()+1)\n",
    "    elif tau.length()==3 and tau[1]>1 and n==4 and Est_Concave(tau):\n",
    "        return (Formal_Symmetric(E_v(part_to_vect(tau,n)))\n",
    "                +(tensor([e[3],Un])*E(tau.Moins((3,2,1)),n)).restrict_length(3))\n",
    "    else:\n",
    "        return Formal_Symmetric(E_v(part_to_vect(tau,n)))\n",
    "\n",
    "\n",
    "\n",
    "@cached_function\n",
    "def A_v(v,Formal=True):\n",
    "    n=len(v)\n",
    "    rep=s(add(Weight(mu,v) for mu in Partitions(n))).scalar(Un)\n",
    "    if Formal:\n",
    "        return InSchur(rep)\n",
    "    else:\n",
    "        return rep\n",
    "\n",
    "def e_bar(F):\n",
    "    return add(c*e(Bar(nu)) for nu,c in e(F))\n",
    "\n",
    "def e_debar(F,n):\n",
    "    return add(c*e(nu)*e(nu)*e[n-nu.size()] for nu,c in e(F))"
   ]
  },
  {
   "cell_type": "code",
   "execution_count": 4,
   "metadata": {},
   "outputs": [
    {
     "data": {
      "text/html": [
       "<html>\\(\\displaystyle \\left[1111111111, 211111111, 22111111, 2221111, 322111, 33211, 4321, 532, 631, 73, 82, 91, 10.\\right]\\)</html>"
      ],
      "text/latex": [
       "$\\displaystyle \\left[1111111111, 211111111, 22111111, 2221111, 322111, 33211, 4321, 532, 631, 73, 82, 91, 10.\\right]$"
      ],
      "text/plain": [
       "[[1, 1, 1, 1, 1, 1, 1, 1, 1, 1],\n",
       " [2, 1, 1, 1, 1, 1, 1, 1, 1],\n",
       " [2, 2, 1, 1, 1, 1, 1, 1],\n",
       " [2, 2, 2, 1, 1, 1, 1],\n",
       " [3, 2, 2, 1, 1, 1],\n",
       " [3, 3, 2, 1, 1],\n",
       " [4, 3, 2, 1],\n",
       " [5, 3, 2],\n",
       " [6, 3, 1],\n",
       " [7, 3],\n",
       " [8, 2],\n",
       " [9, 1],\n",
       " [10]]"
      ]
     },
     "execution_count": 4,
     "metadata": {},
     "output_type": "execute_result"
    }
   ],
   "source": [
    "TriangularPartitions(10)"
   ]
  },
  {
   "cell_type": "markdown",
   "metadata": {},
   "source": [
    "# <div align=\"center\">   <span style=\"color:blue\">   $\\tau$-Dyck paths</span>\n",
    "\n",
    "The set of <span style=\"color:blue\">**$\\tau$-Dyck paths**</span> is simply the set of partitions contained ina given triangular partition  $\\tau$: $\\mathcal{D}_\\tau:= \\{\\alpha \\, |\\, \\alpha\\subseteq \\tau\\}$. For sure, for $k$-staircases, $(k(n-1),\\ldots,2k,k,0)$, the cardinalities of these sets are the Fu&szlig;-Catalan numbers. Other special cases include rational and rectangular Catalan situations. "
   ]
  },
  {
   "cell_type": "code",
   "execution_count": 5,
   "metadata": {},
   "outputs": [
    {
     "data": {
      "text/html": [
       "<html>\\(\\displaystyle \\left\\{2, 542, 5, 31, 222, 43, 54, 441, 51, 421, 632, 321, 521, 22, 332, 62, 432, 532, 541, 4, 42, 1, 33, 611, 221, 53, 631, 311, 331, 21, 622, 61, 431, 411, 64, 642, 511, 63, 531, 32, 41, 3, 52, 6, 211, 44, 422, 522, 442, 11, 322, 621, 0, 111, 641\\right\\}\\)</html>"
      ],
      "text/latex": [
       "$\\displaystyle \\left\\{2, 542, 5, 31, 222, 43, 54, 441, 51, 421, 632, 321, 521, 22, 332, 62, 432, 532, 541, 4, 42, 1, 33, 611, 221, 53, 631, 311, 331, 21, 622, 61, 431, 411, 64, 642, 511, 63, 531, 32, 41, 3, 52, 6, 211, 44, 422, 522, 442, 11, 322, 621, 0, 111, 641\\right\\}$"
      ],
      "text/plain": [
       "{[2], [5, 4, 2], [5], [3, 1], [2, 2, 2], [4, 3], [5, 4], [4, 4, 1], [5, 1], [4, 2, 1], [6, 3, 2], [3, 2, 1], [5, 2, 1], [2, 2], [3, 3, 2], [6, 2], [4, 3, 2], [5, 3, 2], [5, 4, 1], [4], [4, 2], [1], [3, 3], [6, 1, 1], [2, 2, 1], [5, 3], [6, 3, 1], [3, 1, 1], [3, 3, 1], [2, 1], [6, 2, 2], [6, 1], [4, 3, 1], [4, 1, 1], [6, 4], [6, 4, 2], [5, 1, 1], [6, 3], [5, 3, 1], [3, 2], [4, 1], [3], [5, 2], [6], [2, 1, 1], [4, 4], [4, 2, 2], [5, 2, 2], [4, 4, 2], [1, 1], [3, 2, 2], [6, 2, 1], [], [1, 1, 1], [6, 4, 1]}"
      ]
     },
     "execution_count": 5,
     "metadata": {},
     "output_type": "execute_result"
    }
   ],
   "source": [
    "Dyck_tau((6,4,2))"
   ]
  },
  {
   "cell_type": "code",
   "execution_count": 6,
   "metadata": {
    "scrolled": true
   },
   "outputs": [
    {
     "data": {
      "text/html": [
       "<div class=\"notruncate\">\n",
       "<table  class=\"table_form\">\n",
       "<tbody>\n",
       "<tr class =\"row-a\">\n",
       "<td style=\"text-align:left\">\\(1\\)</td>\n",
       "</tr>\n",
       "<tr class =\"row-b\">\n",
       "<td style=\"text-align:left\">\\(2\\)</td>\n",
       "</tr>\n",
       "<tr class =\"row-a\">\n",
       "<td style=\"text-align:left\">\\(3\\)</td>\n",
       "<td style=\"text-align:left\">\\(3\\)</td>\n",
       "</tr>\n",
       "<tr class =\"row-b\">\n",
       "<td style=\"text-align:left\">\\(4\\)</td>\n",
       "<td style=\"text-align:left\">\\(5\\)</td>\n",
       "<td style=\"text-align:left\">\\(4\\)</td>\n",
       "</tr>\n",
       "<tr class =\"row-a\">\n",
       "<td style=\"text-align:left\">\\(5\\)</td>\n",
       "<td style=\"text-align:left\">\\(7\\)</td>\n",
       "<td style=\"text-align:left\">\\(7\\)</td>\n",
       "<td style=\"text-align:left\">\\(5\\)</td>\n",
       "</tr>\n",
       "<tr class =\"row-b\">\n",
       "<td style=\"text-align:left\">\\(6\\)</td>\n",
       "<td style=\"text-align:left\">\\(9\\)</td>\n",
       "<td style=\"text-align:left\">\\(9\\)</td>\n",
       "<td style=\"text-align:left\">\\(9\\)</td>\n",
       "<td style=\"text-align:left\">\\(9\\)</td>\n",
       "<td style=\"text-align:left\">\\(6\\)</td>\n",
       "</tr>\n",
       "<tr class =\"row-a\">\n",
       "<td style=\"text-align:left\">\\(7\\)</td>\n",
       "<td style=\"text-align:left\">\\(11\\)</td>\n",
       "<td style=\"text-align:left\">\\(12\\)</td>\n",
       "<td style=\"text-align:left\">\\(14\\)</td>\n",
       "<td style=\"text-align:left\">\\(12\\)</td>\n",
       "<td style=\"text-align:left\">\\(11\\)</td>\n",
       "<td style=\"text-align:left\">\\(7\\)</td>\n",
       "</tr>\n",
       "<tr class =\"row-b\">\n",
       "<td style=\"text-align:left\">\\(8\\)</td>\n",
       "<td style=\"text-align:left\">\\(13\\)</td>\n",
       "<td style=\"text-align:left\">\\(15\\)</td>\n",
       "<td style=\"text-align:left\">\\(19\\)</td>\n",
       "<td style=\"text-align:left\">\\(19\\)</td>\n",
       "<td style=\"text-align:left\">\\(15\\)</td>\n",
       "<td style=\"text-align:left\">\\(13\\)</td>\n",
       "<td style=\"text-align:left\">\\(8\\)</td>\n",
       "</tr>\n",
       "<tr class =\"row-a\">\n",
       "<td style=\"text-align:left\">\\(9\\)</td>\n",
       "<td style=\"text-align:left\">\\(15\\)</td>\n",
       "<td style=\"text-align:left\">\\(18\\)</td>\n",
       "<td style=\"text-align:left\">\\(18\\)</td>\n",
       "<td style=\"text-align:left\">\\(23\\)</td>\n",
       "<td style=\"text-align:left\">\\(23\\)</td>\n",
       "<td style=\"text-align:left\">\\(18\\)</td>\n",
       "<td style=\"text-align:left\">\\(18\\)</td>\n",
       "<td style=\"text-align:left\">\\(15\\)</td>\n",
       "<td style=\"text-align:left\">\\(9\\)</td>\n",
       "</tr>\n",
       "<tr class =\"row-b\">\n",
       "<td style=\"text-align:left\">\\(10\\)</td>\n",
       "<td style=\"text-align:left\">\\(17\\)</td>\n",
       "<td style=\"text-align:left\">\\(21\\)</td>\n",
       "<td style=\"text-align:left\">\\(22\\)</td>\n",
       "<td style=\"text-align:left\">\\(30\\)</td>\n",
       "<td style=\"text-align:left\">\\(28\\)</td>\n",
       "<td style=\"text-align:left\">\\(28\\)</td>\n",
       "<td style=\"text-align:left\">\\(30\\)</td>\n",
       "<td style=\"text-align:left\">\\(22\\)</td>\n",
       "<td style=\"text-align:left\">\\(21\\)</td>\n",
       "<td style=\"text-align:left\">\\(17\\)</td>\n",
       "<td style=\"text-align:left\">\\(10\\)</td>\n",
       "</tr>\n",
       "</tbody>\n",
       "</table>\n",
       "</div>"
      ],
      "text/plain": [
       "  1\n",
       "  2\n",
       "  3\n",
       "  4\n",
       "  5\n",
       "  6\n",
       "  7\n",
       "  8\n",
       "  9\n",
       "  10"
      ]
     },
     "execution_count": 6,
     "metadata": {},
     "output_type": "execute_result"
    }
   ],
   "source": [
    "table([[Dyck_tau(tau).cardinality() for tau in TriangularPartitions(n)] \n",
    "       for n in range(10)])"
   ]
  },
  {
   "cell_type": "markdown",
   "metadata": {},
   "source": [
    "# <div align=\"center\">   <span style=\"color:blue\">    $\\mathcal{A}_\\tau(q,t)$: is the $q^\\mathrm{area}\\,t^\\mathrm{dinv}$ enumeration of $\\tau$-Dyck paths</span>\n",
    "\n",
    "#### This is a symmetric polynomial, which is known to be Schur positive, hence expanding in Schur functions indexed by partitions having at most two parts. It is the specialization of the \"multivariate version\" $\\mathcal{A}_\\tau(\\boldsymbol{q})$, which is also Schur positive as it appears as a $\\mathrm{GL}_{\\infty}$-character (at least in known ibnstances). "
   ]
  },
  {
   "cell_type": "code",
   "execution_count": 7,
   "metadata": {
    "scrolled": true
   },
   "outputs": [
    {
     "data": {
      "text/html": [
       "<html>\\(\\displaystyle s_{6} + s_{41} + s_{31} + s_{111}\\)</html>"
      ],
      "text/latex": [
       "$\\displaystyle s_{6} + s_{41} + s_{31} + s_{111}$"
      ],
      "text/plain": [
       "s[6] + s[4, 1] + s[3, 1] + s[1, 1, 1]"
      ]
     },
     "execution_count": 7,
     "metadata": {},
     "output_type": "execute_result"
    }
   ],
   "source": [
    "A((3,2,1))"
   ]
  },
  {
   "cell_type": "code",
   "execution_count": 8,
   "metadata": {},
   "outputs": [
    {
     "data": {
      "text/html": [
       "<div class=\"notruncate\">\n",
       "<table  class=\"table_form\">\n",
       "<tbody>\n",
       "<tr class =\"row-a\">\n",
       "<td style=\"text-align:left\">\\(\\left(1, s_{1}\\right)\\)</td>\n",
       "</tr>\n",
       "<tr class =\"row-b\">\n",
       "<td style=\"text-align:left\">\\(\\left(2, s_{2}\\right)\\)</td>\n",
       "</tr>\n",
       "<tr class =\"row-a\">\n",
       "<td style=\"text-align:left\">\\(\\left(21, s_{3} + s_{11}\\right)\\)</td>\n",
       "<td style=\"text-align:left\">\\(\\left(3, s_{3}\\right)\\)</td>\n",
       "</tr>\n",
       "<tr class =\"row-b\">\n",
       "<td style=\"text-align:left\">\\(\\left(31, s_{4} + s_{21}\\right)\\)</td>\n",
       "<td style=\"text-align:left\">\\(\\left(4, s_{4}\\right)\\)</td>\n",
       "</tr>\n",
       "<tr class =\"row-a\">\n",
       "<td style=\"text-align:left\">\\(\\left(32, s_{5} + s_{31}\\right)\\)</td>\n",
       "<td style=\"text-align:left\">\\(\\left(41, s_{5} + s_{31}\\right)\\)</td>\n",
       "<td style=\"text-align:left\">\\(\\left(5, s_{5}\\right)\\)</td>\n",
       "</tr>\n",
       "<tr class =\"row-b\">\n",
       "<td style=\"text-align:left\">\\(\\left(321, s_{6} + s_{41} + s_{31} + s_{111}\\right)\\)</td>\n",
       "<td style=\"text-align:left\">\\(\\left(42, s_{6} + s_{41} + s_{22}\\right)\\)</td>\n",
       "<td style=\"text-align:left\">\\(\\left(51, s_{6} + s_{41}\\right)\\)</td>\n",
       "<td style=\"text-align:left\">\\(\\left(6, s_{6}\\right)\\)</td>\n",
       "</tr>\n",
       "<tr class =\"row-a\">\n",
       "<td style=\"text-align:left\">\\(\\left(421, s_{7} + s_{51} + s_{41} + s_{32} + s_{211}\\right)\\)</td>\n",
       "<td style=\"text-align:left\">\\(\\left(52, s_{7} + s_{51} + s_{32}\\right)\\)</td>\n",
       "<td style=\"text-align:left\">\\(\\left(61, s_{7} + s_{51}\\right)\\)</td>\n",
       "<td style=\"text-align:left\">\\(\\left(7, s_{7}\\right)\\)</td>\n",
       "</tr>\n",
       "<tr class =\"row-b\">\n",
       "<td style=\"text-align:left\">\\(\\left(431, s_{8} + s_{61} + s_{51} + s_{42} + s_{311}\\right)\\)</td>\n",
       "<td style=\"text-align:left\">\\(\\left(53, s_{8} + s_{61} + s_{42}\\right)\\)</td>\n",
       "<td style=\"text-align:left\">\\(\\left(62, s_{8} + s_{61} + s_{42}\\right)\\)</td>\n",
       "<td style=\"text-align:left\">\\(\\left(71, s_{8} + s_{61}\\right)\\)</td>\n",
       "<td style=\"text-align:left\">\\(\\left(8, s_{8}\\right)\\)</td>\n",
       "</tr>\n",
       "<tr class =\"row-a\">\n",
       "<td style=\"text-align:left\">\\(\\left(432, s_{9} + s_{71} + s_{61} + s_{52} + s_{33} + s_{411}\\right)\\)</td>\n",
       "<td style=\"text-align:left\">\\(\\left(531, s_{9} + s_{71} + s_{61} + s_{52} + s_{42} + s_{411} + s_{221}\\right)\\)</td>\n",
       "<td style=\"text-align:left\">\\(\\left(63, s_{9} + s_{71} + s_{52} + s_{33}\\right)\\)</td>\n",
       "<td style=\"text-align:left\">\\(\\left(72, s_{9} + s_{71} + s_{52}\\right)\\)</td>\n",
       "<td style=\"text-align:left\">\\(\\left(81, s_{9} + s_{71}\\right)\\)</td>\n",
       "<td style=\"text-align:left\">\\(\\left(9, s_{9}\\right)\\)</td>\n",
       "</tr>\n",
       "<tr class =\"row-b\">\n",
       "<td style=\"text-align:left\">\\(\\left(4321, s_{10.} + s_{81} + s_{71} + s_{61} + s_{62} + s_{43} + s_{42} + s_{511} + s_{411} + s_{311} + s_{1111}\\right)\\)</td>\n",
       "<td style=\"text-align:left\">\\(\\left(532, s_{10.} + s_{81} + s_{71} + s_{62} + s_{52} + s_{43} + s_{511} + s_{321}\\right)\\)</td>\n",
       "<td style=\"text-align:left\">\\(\\left(631, s_{10.} + s_{81} + s_{71} + s_{62} + s_{52} + s_{43} + s_{511} + s_{321}\\right)\\)</td>\n",
       "<td style=\"text-align:left\">\\(\\left(73, s_{10.} + s_{81} + s_{62} + s_{43}\\right)\\)</td>\n",
       "<td style=\"text-align:left\">\\(\\left(82, s_{10.} + s_{81} + s_{62}\\right)\\)</td>\n",
       "<td style=\"text-align:left\">\\(\\left(91, s_{10.} + s_{81}\\right)\\)</td>\n",
       "<td style=\"text-align:left\">\\(\\left(10., s_{10.}\\right)\\)</td>\n",
       "</tr>\n",
       "</tbody>\n",
       "</table>\n",
       "</div>"
      ],
      "text/plain": [
       "  ([1], s[1])\n",
       "  ([2], s[2])\n",
       "  ([2, 1], s[3] + s[1, 1])\n",
       "  ([3, 1], s[4] + s[2, 1])\n",
       "  ([3, 2], s[5] + s[3, 1])\n",
       "  ([3, 2, 1], s[6] + s[4, 1] + s[3, 1] + s[1, 1, 1])\n",
       "  ([4, 2, 1], s[7] + s[5, 1] + s[4, 1] + s[3, 2] + s[2, 1, 1])\n",
       "  ([4, 3, 1], s[8] + s[6, 1] + s[5, 1] + s[4, 2] + s[3, 1, 1])\n",
       "  ([4, 3, 2], s[9] + s[7, 1] + s[6, 1] + s[5, 2] + s[3, 3] + s[4, 1, 1])\n",
       "  ([4, 3, 2, 1], s[10] + s[8, 1] + s[7, 1] + s[6, 1] + s[6, 2] + s[4, 3] + s[4, 2] + s[5, 1, 1] + s[4, 1, 1] + s[3, 1, 1] + s[1, 1, 1, 1])"
      ]
     },
     "execution_count": 8,
     "metadata": {},
     "output_type": "execute_result"
    }
   ],
   "source": [
    "table([[(tau,A(tau)) \n",
    "        for tau in TriangularPartitions(n) if Is_Dominant(tau)] \n",
    "       for n in range(1,11)])"
   ]
  },
  {
   "cell_type": "code",
   "execution_count": 9,
   "metadata": {},
   "outputs": [
    {
     "data": {
      "text/html": [
       "<html>\\(\\displaystyle s_{21.} + s_{17.2} + s_{16.2} + s_{15.3} + 2 s_{15.2} + s_{14.3} + s_{13.4} + s_{14.2} + 2 s_{13.3} + s_{12.4} + s_{11.5} + 2 s_{13.2} + 2 s_{12.3} + 2 s_{11.4} + s_{10.5} + s_{96} + s_{12.2} + 2 s_{11.3} + 2 s_{10.4} + s_{95} + s_{86} + s_{77} + s_{11.2} + s_{10.3} + 2 s_{94} + s_{85} + s_{76} + s_{93} + s_{84} + s_{75} + s_{74} + s_{19.1} + s_{18.1} + s_{17.1} + s_{16.1} + s_{15.1} + s_{14.21} + 2 s_{13.21} + s_{12.31} + 2 s_{12.21} + 2 s_{11.31} + s_{10.41} + 3 s_{11.21} + 3 s_{10.31} + 2 s_{941} + s_{851} + 3 s_{10.21} + 3 s_{931} + 3 s_{841} + s_{751} + s_{661} + 2 s_{921} + 3 s_{831} + 3 s_{741} + s_{651} + 2 s_{821} + 2 s_{731} + 2 s_{641} + s_{721} + s_{631} + s_{541} + s_{441} + s_{11.22} + s_{932} + s_{832} + s_{922} + s_{742} + s_{732} + s_{822} + s_{642} + s_{632} + s_{722} + s_{542} + s_{532} + s_{442} + s_{522} + s_{633} + s_{443} + s_{16.11} + s_{15.11} + 2 s_{14.11} + 2 s_{13.11} + 2 s_{12.11} + s_{11.11} + s_{10.11} + s_{10.211} + s_{9211} + s_{8311} + 2 s_{8211} + s_{7311} + s_{6411} + s_{7211} + 2 s_{6311} + s_{5411} + 2 s_{6211} + s_{5311} + s_{4411} + s_{5211} + s_{4311} + s_{4211} + s_{12.111} + s_{11.111} + 2 s_{10.111} + 2 s_{9111} + 2 s_{8111} + s_{7111} + s_{6111} + s_{71111} + s_{61111} + s_{51111} + s_{41111} + s_{31111} + s_{111111}\\)</html>"
      ],
      "text/latex": [
       "$\\displaystyle s_{21.} + s_{17.2} + s_{16.2} + s_{15.3} + 2 s_{15.2} + s_{14.3} + s_{13.4} + s_{14.2} + 2 s_{13.3} + s_{12.4} + s_{11.5} + 2 s_{13.2} + 2 s_{12.3} + 2 s_{11.4} + s_{10.5} + s_{96} + s_{12.2} + 2 s_{11.3} + 2 s_{10.4} + s_{95} + s_{86} + s_{77} + s_{11.2} + s_{10.3} + 2 s_{94} + s_{85} + s_{76} + s_{93} + s_{84} + s_{75} + s_{74} + s_{19.1} + s_{18.1} + s_{17.1} + s_{16.1} + s_{15.1} + s_{14.21} + 2 s_{13.21} + s_{12.31} + 2 s_{12.21} + 2 s_{11.31} + s_{10.41} + 3 s_{11.21} + 3 s_{10.31} + 2 s_{941} + s_{851} + 3 s_{10.21} + 3 s_{931} + 3 s_{841} + s_{751} + s_{661} + 2 s_{921} + 3 s_{831} + 3 s_{741} + s_{651} + 2 s_{821} + 2 s_{731} + 2 s_{641} + s_{721} + s_{631} + s_{541} + s_{441} + s_{11.22} + s_{932} + s_{832} + s_{922} + s_{742} + s_{732} + s_{822} + s_{642} + s_{632} + s_{722} + s_{542} + s_{532} + s_{442} + s_{522} + s_{633} + s_{443} + s_{16.11} + s_{15.11} + 2 s_{14.11} + 2 s_{13.11} + 2 s_{12.11} + s_{11.11} + s_{10.11} + s_{10.211} + s_{9211} + s_{8311} + 2 s_{8211} + s_{7311} + s_{6411} + s_{7211} + 2 s_{6311} + s_{5411} + 2 s_{6211} + s_{5311} + s_{4411} + s_{5211} + s_{4311} + s_{4211} + s_{12.111} + s_{11.111} + 2 s_{10.111} + 2 s_{9111} + 2 s_{8111} + s_{7111} + s_{6111} + s_{71111} + s_{61111} + s_{51111} + s_{41111} + s_{31111} + s_{111111}$"
      ],
      "text/plain": [
       "s[21] + s[17, 2] + s[16, 2] + s[15, 3] + 2*s[15, 2] + s[14, 3] + s[13, 4] + s[14, 2] + 2*s[13, 3] + s[12, 4] + s[11, 5] + 2*s[13, 2] + 2*s[12, 3] + 2*s[11, 4] + s[10, 5] + s[9, 6] + s[12, 2] + 2*s[11, 3] + 2*s[10, 4] + s[9, 5] + s[8, 6] + s[7, 7] + s[11, 2] + s[10, 3] + 2*s[9, 4] + s[8, 5] + s[7, 6] + s[9, 3] + s[8, 4] + s[7, 5] + s[7, 4] + s[19, 1] + s[18, 1] + s[17, 1] + s[16, 1] + s[15, 1] + s[14, 2, 1] + 2*s[13, 2, 1] + s[12, 3, 1] + 2*s[12, 2, 1] + 2*s[11, 3, 1] + s[10, 4, 1] + 3*s[11, 2, 1] + 3*s[10, 3, 1] + 2*s[9, 4, 1] + s[8, 5, 1] + 3*s[10, 2, 1] + 3*s[9, 3, 1] + 3*s[8, 4, 1] + s[7, 5, 1] + s[6, 6, 1] + 2*s[9, 2, 1] + 3*s[8, 3, 1] + 3*s[7, 4, 1] + s[6, 5, 1] + 2*s[8, 2, 1] + 2*s[7, 3, 1] + 2*s[6, 4, 1] + s[7, 2, 1] + s[6, 3, 1] + s[5, 4, 1] + s[4, 4, 1] + s[11, 2, 2] + s[9, 3, 2] + s[8, 3, 2] + s[9, 2, 2] + s[7, 4, 2] + s[7, 3, 2] + s[8, 2, 2] + s[6, 4, 2] + s[6, 3, 2] + s[7, 2, 2] + s[5, 4, 2] + s[5, 3, 2] + s[4, 4, 2] + s[5, 2, 2] + s[6, 3, 3] + s[4, 4, 3] + s[16, 1, 1] + s[15, 1, 1] + 2*s[14, 1, 1] + 2*s[13, 1, 1] + 2*s[12, 1, 1] + s[11, 1, 1] + s[10, 1, 1] + s[10, 2, 1, 1] + s[9, 2, 1, 1] + s[8, 3, 1, 1] + 2*s[8, 2, 1, 1] + s[7, 3, 1, 1] + s[6, 4, 1, 1] + s[7, 2, 1, 1] + 2*s[6, 3, 1, 1] + s[5, 4, 1, 1] + 2*s[6, 2, 1, 1] + s[5, 3, 1, 1] + s[4, 4, 1, 1] + s[5, 2, 1, 1] + s[4, 3, 1, 1] + s[4, 2, 1, 1] + s[12, 1, 1, 1] + s[11, 1, 1, 1] + 2*s[10, 1, 1, 1] + 2*s[9, 1, 1, 1] + 2*s[8, 1, 1, 1] + s[7, 1, 1, 1] + s[6, 1, 1, 1] + s[7, 1, 1, 1, 1] + s[6, 1, 1, 1, 1] + s[5, 1, 1, 1, 1] + s[4, 1, 1, 1, 1] + s[3, 1, 1, 1, 1] + s[1, 1, 1, 1, 1, 1]"
      ]
     },
     "execution_count": 9,
     "metadata": {},
     "output_type": "execute_result"
    }
   ],
   "source": [
    "A((6,5,4,3,2,1))"
   ]
  },
  {
   "cell_type": "markdown",
   "metadata": {},
   "source": [
    "# <div align=\"center\">   <span style=\"color:blue\">    Formula for triangular partitions with at most 2 parts</span>\n",
    "    \n",
    "#### Lorsque $\\tau$ a $2$ parts (ou conjugué), on a  $$\\mathcal{A}_{\\tau} = \\sum_{i} s_{(n-2i,i)},$$ \n",
    "#### où la somme a lieu sur l'ensemble des $i\\geq 0$ tels que $3i\\leq n$."
   ]
  },
  {
   "cell_type": "code",
   "execution_count": 10,
   "metadata": {},
   "outputs": [
    {
     "data": {
      "text/html": [
       "<html>\\(\\displaystyle s_{18.} + s_{16.1} + s_{14.2} + s_{12.3} + s_{10.4} + s_{85}\\)</html>"
      ],
      "text/latex": [
       "$\\displaystyle s_{18.} + s_{16.1} + s_{14.2} + s_{12.3} + s_{10.4} + s_{85}$"
      ],
      "text/plain": [
       "s[18] + s[16, 1] + s[14, 2] + s[12, 3] + s[10, 4] + s[8, 5]"
      ]
     },
     "execution_count": 10,
     "metadata": {},
     "output_type": "execute_result"
    }
   ],
   "source": [
    "A((13,5))"
   ]
  },
  {
   "cell_type": "markdown",
   "metadata": {},
   "source": [
    "# <div align=\"center\">   <span style=\"color:blue\">    Formula for triangular partitions $3$ parts</span>\n",
    "    \n",
    "Using the formula with Negut kernel, and the property that skewing by $e_3$ corresponds to $\\nabla$ (hence removing the staircase $321$, we can recursively calculate all cases of triangular partitions with $3$ parts (and their conjugate). "
   ]
  },
  {
   "cell_type": "code",
   "execution_count": 11,
   "metadata": {
    "scrolled": false
   },
   "outputs": [
    {
     "data": {
      "text/html": [
       "<html>\\(\\displaystyle s_{12.} + s_{10.1} + s_{91} + s_{82} + s_{72} + s_{63} + s_{62} + s_{44} + s_{711} + s_{521} + s_{421} + s_{222}\\)</html>"
      ],
      "text/latex": [
       "$\\displaystyle s_{12.} + s_{10.1} + s_{91} + s_{82} + s_{72} + s_{63} + s_{62} + s_{44} + s_{711} + s_{521} + s_{421} + s_{222}$"
      ],
      "text/plain": [
       "s[12] + s[10, 1] + s[9, 1] + s[8, 2] + s[7, 2] + s[6, 3] + s[6, 2] + s[4, 4] + s[7, 1, 1] + s[5, 2, 1] + s[4, 2, 1] + s[2, 2, 2]"
      ]
     },
     "execution_count": 11,
     "metadata": {},
     "output_type": "execute_result"
    }
   ],
   "source": [
    "A_v(part_to_vect((6,4,2)))+(A((3,2,1))*e[3]).restrict_partition_lengths(3)"
   ]
  },
  {
   "cell_type": "code",
   "execution_count": 12,
   "metadata": {
    "scrolled": true
   },
   "outputs": [
    {
     "data": {
      "text/html": [
       "<html>\\(\\displaystyle s_{12.} + s_{10.1} + s_{91} + s_{82} + s_{72} + s_{63} + s_{62} + s_{44} + s_{711} + s_{521} + s_{421} + s_{222}\\)</html>"
      ],
      "text/latex": [
       "$\\displaystyle s_{12.} + s_{10.1} + s_{91} + s_{82} + s_{72} + s_{63} + s_{62} + s_{44} + s_{711} + s_{521} + s_{421} + s_{222}$"
      ],
      "text/plain": [
       "s[12] + s[10, 1] + s[9, 1] + s[8, 2] + s[7, 2] + s[6, 3] + s[6, 2] + s[4, 4] + s[7, 1, 1] + s[5, 2, 1] + s[4, 2, 1] + s[2, 2, 2]"
      ]
     },
     "execution_count": 12,
     "metadata": {},
     "output_type": "execute_result"
    }
   ],
   "source": [
    "A((6,4,2))"
   ]
  },
  {
   "cell_type": "markdown",
   "metadata": {},
   "source": [
    "# <div align=\"center\">   <span style=\"color:blue\">    $q$-enumeration of $(\\tau,n)$-Parking Functions</span>\n",
    "\n",
    "\n",
    "### The expression becomes stable for $n$ large enough."
   ]
  },
  {
   "cell_type": "code",
   "execution_count": 13,
   "metadata": {},
   "outputs": [
    {
     "data": {
      "text/html": [
       "<html>\\(\\displaystyle q^{6} e_{4} + \\left(q^{5} + q^{4} + 2 q^{3}\\right) e_{31} + \\left(q^{4} + q^{2}\\right) e_{22} + \\left(q^{3} + 2 q^{2} + 3 q\\right) e_{211} + e_{1111}\\)</html>"
      ],
      "text/latex": [
       "$\\displaystyle q^{6} e_{4} + \\left(q^{5} + q^{4} + 2 q^{3}\\right) e_{31} + \\left(q^{4} + q^{2}\\right) e_{22} + \\left(q^{3} + 2 q^{2} + 3 q\\right) e_{211} + e_{1111}$"
      ],
      "text/plain": [
       "q^6*e[4] + (q^5+q^4+2*q^3)*e[3, 1] + (q^4+q^2)*e[2, 2] + (q^3+2*q^2+3*q)*e[2, 1, 1] + e[1, 1, 1, 1]"
      ]
     },
     "execution_count": 13,
     "metadata": {},
     "output_type": "execute_result"
    }
   ],
   "source": [
    "Sym_P_tau((3,2,1),4)"
   ]
  },
  {
   "cell_type": "code",
   "execution_count": 14,
   "metadata": {},
   "outputs": [
    {
     "data": {
      "text/html": [
       "<html>\\(\\displaystyle q^{6} e_{6} + \\left(q^{5} + q^{4} + q^{3}\\right) e_{51} + \\left(q^{4} + q^{2}\\right) e_{42} + q^{3} e_{33} + \\left(q^{2} + 2 q\\right) e_{321} + \\left(q^{3} + q^{2} + q\\right) e_{411} + e_{3111}\\)</html>"
      ],
      "text/latex": [
       "$\\displaystyle q^{6} e_{6} + \\left(q^{5} + q^{4} + q^{3}\\right) e_{51} + \\left(q^{4} + q^{2}\\right) e_{42} + q^{3} e_{33} + \\left(q^{2} + 2 q\\right) e_{321} + \\left(q^{3} + q^{2} + q\\right) e_{411} + e_{3111}$"
      ],
      "text/plain": [
       "q^6*e[6] + (q^5+q^4+q^3)*e[5, 1] + (q^4+q^2)*e[4, 2] + q^3*e[3, 3] + (q^2+2*q)*e[3, 2, 1] + (q^3+q^2+q)*e[4, 1, 1] + e[3, 1, 1, 1]"
      ]
     },
     "execution_count": 14,
     "metadata": {},
     "output_type": "execute_result"
    }
   ],
   "source": [
    "Sym_P_tau((3,2,1),6)"
   ]
  },
  {
   "cell_type": "markdown",
   "metadata": {},
   "source": [
    "### For $n\\geq 5$,  $$\\mathcal{P}_{(321,n)}(q;\\boldsymbol z)=(e_{111}\n",
    "    +(q^2+2q)\\,e_{21}\n",
    "    +q^3\\,e_3)\\,e_{n-3}\n",
    "    +((q^3+q^2+q)\\,e_{11}\n",
    "     +(q^4+q^2)\\,e_{2})\\, e_{n-2}\n",
    "    +(q^5+q^4+q^3)\\, e_{1}e_{n-1}\n",
    "    +q^6\\, e_{n}$$"
   ]
  },
  {
   "cell_type": "markdown",
   "metadata": {},
   "source": [
    "# <div align=\"center\">   <span style=\"color:blue\">    Test that we get parking functions with the univariate $\\mathcal{F}_\\tau(q;\\boldsymbol{z})$.   </span>\n"
   ]
  },
  {
   "cell_type": "code",
   "execution_count": 19,
   "metadata": {
    "scrolled": true
   },
   "outputs": [
    {
     "data": {
      "text/html": [
       "<html>\\(\\displaystyle q^{6} e_{6} + \\left(q^{5} + q^{4} + q^{3}\\right) e_{51} + \\left(q^{4} + q^{2}\\right) e_{42} + q^{3} e_{33} + \\left(q^{3} + q^{2} + q\\right) e_{411} + \\left(q^{2} + 2 q\\right) e_{321} + e_{3111}\\)</html>"
      ],
      "text/latex": [
       "$\\displaystyle q^{6} e_{6} + \\left(q^{5} + q^{4} + q^{3}\\right) e_{51} + \\left(q^{4} + q^{2}\\right) e_{42} + q^{3} e_{33} + \\left(q^{3} + q^{2} + q\\right) e_{411} + \\left(q^{2} + 2 q\\right) e_{321} + e_{3111}$"
      ],
      "text/plain": [
       "q^6*e[6] + (q^5+q^4+q^3)*e[5, 1] + (q^4+q^2)*e[4, 2] + q^3*e[3, 3] + (q^3+q^2+q)*e[4, 1, 1] + (q^2+2*q)*e[3, 2, 1] + e[3, 1, 1, 1]"
      ]
     },
     "execution_count": 19,
     "metadata": {},
     "output_type": "execute_result"
    }
   ],
   "source": [
    "tau=(3,2,1)\n",
    "e(F(tau,6).Eval(q))"
   ]
  },
  {
   "cell_type": "code",
   "execution_count": 20,
   "metadata": {
    "scrolled": true
   },
   "outputs": [
    {
     "data": {
      "text/html": [
       "<html>\\(\\displaystyle q^{6} e_{6} + \\left(q^{5} + q^{4} + q^{3}\\right) e_{51} + \\left(q^{4} + q^{2}\\right) e_{42} + q^{3} e_{33} + \\left(q^{2} + 2 q\\right) e_{321} + \\left(q^{3} + q^{2} + q\\right) e_{411} + e_{3111}\\)</html>"
      ],
      "text/latex": [
       "$\\displaystyle q^{6} e_{6} + \\left(q^{5} + q^{4} + q^{3}\\right) e_{51} + \\left(q^{4} + q^{2}\\right) e_{42} + q^{3} e_{33} + \\left(q^{2} + 2 q\\right) e_{321} + \\left(q^{3} + q^{2} + q\\right) e_{411} + e_{3111}$"
      ],
      "text/plain": [
       "q^6*e[6] + (q^5+q^4+q^3)*e[5, 1] + (q^4+q^2)*e[4, 2] + q^3*e[3, 3] + (q^2+2*q)*e[3, 2, 1] + (q^3+q^2+q)*e[4, 1, 1] + e[3, 1, 1, 1]"
      ]
     },
     "execution_count": 20,
     "metadata": {},
     "output_type": "execute_result"
    }
   ],
   "source": [
    "Sym_P_tau(tau,6)"
   ]
  },
  {
   "cell_type": "code",
   "execution_count": 21,
   "metadata": {},
   "outputs": [],
   "source": [
    "for tau in Precalculated_F.keys():\n",
    "     if tau.size()>0:\n",
    "        n=2*tau.length()\n",
    "        if not Sym_P_tau(tau,n)==e(F(tau,n).Eval(q)):\n",
    "            show(tau)"
   ]
  },
  {
   "cell_type": "markdown",
   "metadata": {},
   "source": [
    "# <div align=\"center\">   <span style=\"color:blue\">    Symmetric functions (in two variables) calculated via the Negut Formula</span>"
   ]
  },
  {
   "cell_type": "code",
   "execution_count": 22,
   "metadata": {},
   "outputs": [
    {
     "data": {
      "text/html": [
       "<html>\\(\\displaystyle s_{6} + s_{41} + s_{32}\\)</html>"
      ],
      "text/latex": [
       "$\\displaystyle s_{6} + s_{41} + s_{32}$"
      ],
      "text/plain": [
       "s[6] + s[4, 1] + s[3, 2]"
      ]
     },
     "execution_count": 22,
     "metadata": {},
     "output_type": "execute_result"
    }
   ],
   "source": [
    "A_v(part_to_vect((4,1,1)))"
   ]
  },
  {
   "cell_type": "code",
   "execution_count": 23,
   "metadata": {},
   "outputs": [
    {
     "data": {
      "text/html": [
       "<html>\\(\\displaystyle \\left(q^{3} + 2 q^{2} t + 2 q t^{2} + t^{3}\\right) s_{31} + \\left(q^{4} + q^{3} t + q^{2} t^{2} + q t^{3} + t^{4} + q^{2} t + q t^{2}\\right) s_{22} + \\left(q^{5} + q^{4} t + q^{3} t^{2} + q^{2} t^{3} + q t^{4} + t^{5} + q^{4} + 3 q^{3} t + 4 q^{2} t^{2} + 3 q t^{3} + t^{4}\\right) s_{211} + \\left(q^{6} + q^{5} t + q^{4} t^{2} + q^{3} t^{3} + q^{2} t^{4} + q t^{5} + t^{6} + q^{4} t + 2 q^{3} t^{2} + 2 q^{2} t^{3} + q t^{4}\\right) s_{1111}\\)</html>"
      ],
      "text/latex": [
       "$\\displaystyle \\left(q^{3} + 2 q^{2} t + 2 q t^{2} + t^{3}\\right) s_{31} + \\left(q^{4} + q^{3} t + q^{2} t^{2} + q t^{3} + t^{4} + q^{2} t + q t^{2}\\right) s_{22} + \\left(q^{5} + q^{4} t + q^{3} t^{2} + q^{2} t^{3} + q t^{4} + t^{5} + q^{4} + 3 q^{3} t + 4 q^{2} t^{2} + 3 q t^{3} + t^{4}\\right) s_{211} + \\left(q^{6} + q^{5} t + q^{4} t^{2} + q^{3} t^{3} + q^{2} t^{4} + q t^{5} + t^{6} + q^{4} t + 2 q^{3} t^{2} + 2 q^{2} t^{3} + q t^{4}\\right) s_{1111}$"
      ],
      "text/plain": [
       "(q^3+2*q^2*t+2*q*t^2+t^3)*s[3, 1] + (q^4+q^3*t+q^2*t^2+q*t^3+t^4+q^2*t+q*t^2)*s[2, 2] + (q^5+q^4*t+q^3*t^2+q^2*t^3+q*t^4+t^5+q^4+3*q^3*t+4*q^2*t^2+3*q*t^3+t^4)*s[2, 1, 1] + (q^6+q^5*t+q^4*t^2+q^3*t^3+q^2*t^4+q*t^5+t^6+q^4*t+2*q^3*t^2+2*q^2*t^3+q*t^4)*s[1, 1, 1, 1]"
      ]
     },
     "execution_count": 23,
     "metadata": {},
     "output_type": "execute_result"
    }
   ],
   "source": [
    "E_v(part_to_vect((4,1,1)))"
   ]
  },
  {
   "cell_type": "code",
   "execution_count": 24,
   "metadata": {},
   "outputs": [
    {
     "data": {
      "text/html": [
       "<html>\\(\\displaystyle s_{21} \\otimes s_{22} + s_{21} \\otimes s_{31} + s_{22} \\otimes s_{211} + s_{3} \\otimes s_{31} + 2 s_{31} \\otimes s_{211} + s_{32} \\otimes s_{1111} + s_{4} \\otimes s_{211} + s_{4} \\otimes s_{22} + s_{41} \\otimes s_{1111} + s_{5} \\otimes s_{211} + s_{6} \\otimes s_{1111}\\)</html>"
      ],
      "text/latex": [
       "$\\displaystyle s_{21} \\otimes s_{22} + s_{21} \\otimes s_{31} + s_{22} \\otimes s_{211} + s_{3} \\otimes s_{31} + 2 s_{31} \\otimes s_{211} + s_{32} \\otimes s_{1111} + s_{4} \\otimes s_{211} + s_{4} \\otimes s_{22} + s_{41} \\otimes s_{1111} + s_{5} \\otimes s_{211} + s_{6} \\otimes s_{1111}$"
      ],
      "text/plain": [
       "s[2, 1] # s[2, 2] + s[2, 1] # s[3, 1] + s[2, 2] # s[2, 1, 1] + s[3] # s[3, 1] + 2*s[3, 1] # s[2, 1, 1] + s[3, 2] # s[1, 1, 1, 1] + s[4] # s[2, 1, 1] + s[4] # s[2, 2] + s[4, 1] # s[1, 1, 1, 1] + s[5] # s[2, 1, 1] + s[6] # s[1, 1, 1, 1]"
      ]
     },
     "execution_count": 24,
     "metadata": {},
     "output_type": "execute_result"
    }
   ],
   "source": [
    "Formal_Symmetric(E_v(part_to_vect((4,1,1))))"
   ]
  },
  {
   "cell_type": "markdown",
   "metadata": {},
   "source": [
    "\n",
    "# <div align=\"center\">   <span style=\"color:blue\">    Two variable version of $\\mathcal{E}_\\tau(q,t;\\boldsymbol{z})$.</span>"
   ]
  },
  {
   "cell_type": "code",
   "execution_count": 25,
   "metadata": {},
   "outputs": [
    {
     "data": {
      "text/html": [
       "<html>\\(\\displaystyle s_{21} \\otimes s_{22} + s_{21} \\otimes s_{31} + s_{22} \\otimes s_{211} + s_{3} \\otimes s_{31} + 2 s_{31} \\otimes s_{211} + s_{32} \\otimes s_{1111} + s_{4} \\otimes s_{211} + s_{4} \\otimes s_{22} + s_{41} \\otimes s_{1111} + s_{5} \\otimes s_{211} + s_{6} \\otimes s_{1111}\\)</html>"
      ],
      "text/latex": [
       "$\\displaystyle s_{21} \\otimes s_{22} + s_{21} \\otimes s_{31} + s_{22} \\otimes s_{211} + s_{3} \\otimes s_{31} + 2 s_{31} \\otimes s_{211} + s_{32} \\otimes s_{1111} + s_{4} \\otimes s_{211} + s_{4} \\otimes s_{22} + s_{41} \\otimes s_{1111} + s_{5} \\otimes s_{211} + s_{6} \\otimes s_{1111}$"
      ],
      "text/plain": [
       "s[2, 1] # s[2, 2] + s[2, 1] # s[3, 1] + s[2, 2] # s[2, 1, 1] + s[3] # s[3, 1] + 2*s[3, 1] # s[2, 1, 1] + s[3, 2] # s[1, 1, 1, 1] + s[4] # s[2, 1, 1] + s[4] # s[2, 2] + s[4, 1] # s[1, 1, 1, 1] + s[5] # s[2, 1, 1] + s[6] # s[1, 1, 1, 1]"
      ]
     },
     "execution_count": 25,
     "metadata": {},
     "output_type": "execute_result"
    }
   ],
   "source": [
    "E((4,1,1),n=4)"
   ]
  },
  {
   "cell_type": "markdown",
   "metadata": {},
   "source": [
    "### Test that, for $\\tau$ of length $n$, we do have $$e_n^\\perp A_\\tau = A_{\\tau-(n,\\ldots,1,2)}$$"
   ]
  },
  {
   "cell_type": "code",
   "execution_count": 26,
   "metadata": {},
   "outputs": [
    {
     "name": "stdout",
     "output_type": "stream",
     "text": [
      "([8, 5, 3, 1], 'To be calculated or is not concave')\n",
      "([7, 5, 3, 2], 'To be calculated or is not concave')\n",
      "([8, 6, 3, 1], 'To be calculated or is not concave')\n",
      "([7, 5, 4, 2], 'To be calculated or is not concave')\n",
      "([9, 6, 3, 1], 'To be calculated or is not concave')\n",
      "([8, 6, 4, 1], 'To be calculated or is not concave')\n",
      "([7, 6, 4, 2], 'To be calculated or is not concave')\n",
      "([7, 5, 4, 2, 1], 'To be calculated or is not concave')\n",
      "([9, 6, 4, 1], 'To be calculated or is not concave')\n",
      "([8, 6, 4, 2], 'To be calculated or is not concave')\n",
      "([7, 6, 4, 2, 1], 'To be calculated or is not concave')\n",
      "([7, 5, 4, 3, 1], 'To be calculated or is not concave')\n",
      "([9, 7, 4, 1], 'To be calculated or is not concave')\n",
      "([9, 6, 4, 2], 'To be calculated or is not concave')\n",
      "([8, 6, 4, 2, 1], 'To be calculated or is not concave')\n",
      "([7, 6, 4, 3, 1], 'To be calculated or is not concave')\n",
      "([7, 5, 4, 3, 2], 'To be calculated or is not concave')\n"
     ]
    }
   ],
   "source": [
    "for n in range(22):\n",
    "    for tau in PartagesTriangulaires(n):\n",
    "        tau=Partition(list(tau))\n",
    "        if ((not A(tau)==None) and \n",
    "            (not tau.Moins(delta(tau.length()+1,tau.length()+2))==None) and\n",
    "            (not A(tau).skew_by(e[tau.length()])==A(tau.Moins(delta(tau.length()+1,tau.length()+2))))):\n",
    "            show(tau)"
   ]
  },
  {
   "cell_type": "code",
   "execution_count": 27,
   "metadata": {},
   "outputs": [
    {
     "data": {
      "text/html": [
       "<html>\\(\\displaystyle \\big( s_{6} + s_{41} + s_{32} \\big) \\otimes s_{11111}\\)</html>"
      ],
      "text/latex": [
       "$\\displaystyle \\big( s_{6} + s_{41} + s_{32} \\big) \\otimes s_{11111}$"
      ],
      "text/plain": [
       "\\big( s[6] + s[4, 1] + s[3, 2] \\big) \\otimes s[1, 1, 1, 1, 1]"
      ]
     },
     "metadata": {},
     "output_type": "display_data"
    },
    {
     "data": {
      "text/html": [
       "<html>\\(\\displaystyle \\qquad +\\  \\big( s_{5} + s_{4} + 2 s_{31} + s_{22} \\big) \\otimes s_{2111}\\)</html>"
      ],
      "text/latex": [
       "$\\displaystyle \\qquad +\\  \\big( s_{5} + s_{4} + 2 s_{31} + s_{22} \\big) \\otimes s_{2111}$"
      ],
      "text/plain": [
       "\\qquad +\\  \\big( s[5] + s[4] + 2*s[3, 1] + s[2, 2] \\big) \\otimes s[2, 1, 1, 1]"
      ]
     },
     "metadata": {},
     "output_type": "display_data"
    },
    {
     "data": {
      "text/html": [
       "<html>\\(\\displaystyle \\qquad +\\  \\big( s_{4} + s_{3} + s_{21} \\big) \\otimes s_{221}\\)</html>"
      ],
      "text/latex": [
       "$\\displaystyle \\qquad +\\  \\big( s_{4} + s_{3} + s_{21} \\big) \\otimes s_{221}$"
      ],
      "text/plain": [
       "\\qquad +\\  \\big( s[4] + s[3] + s[2, 1] \\big) \\otimes s[2, 2, 1]"
      ]
     },
     "metadata": {},
     "output_type": "display_data"
    },
    {
     "data": {
      "text/html": [
       "<html>\\(\\displaystyle \\qquad +\\  \\big( s_{3} + s_{21} \\big) \\otimes s_{311}\\)</html>"
      ],
      "text/latex": [
       "$\\displaystyle \\qquad +\\  \\big( s_{3} + s_{21} \\big) \\otimes s_{311}$"
      ],
      "text/plain": [
       "\\qquad +\\  \\big( s[3] + s[2, 1] \\big) \\otimes s[3, 1, 1]"
      ]
     },
     "metadata": {},
     "output_type": "display_data"
    },
    {
     "data": {
      "text/html": [
       "<html>\\(\\displaystyle \\qquad +\\  s_{2} \\otimes s_{32}\\)</html>"
      ],
      "text/latex": [
       "$\\displaystyle \\qquad +\\  s_{2} \\otimes s_{32}$"
      ],
      "text/plain": [
       "\\qquad +\\  s[2] \\otimes s[3, 2]"
      ]
     },
     "metadata": {},
     "output_type": "display_data"
    }
   ],
   "source": [
    "Dishout(E((4,1,1),5))"
   ]
  },
  {
   "cell_type": "markdown",
   "metadata": {},
   "source": [
    "# <div align=\"center\">   <span style=\"color:blue\">    The $s_\\lambda\\otimes e_{\\overline{\\mu}}$ generic stable multivariate version of $\\mathcal{F}_\\tau$.</span>"
   ]
  },
  {
   "cell_type": "code",
   "execution_count": 28,
   "metadata": {},
   "outputs": [
    {
     "data": {
      "text/html": [
       "<html>\\(\\displaystyle \\big( s_{6} + s_{31} + s_{41} + s_{111} \\big) \\otimes \\boldsymbol{1}\\)</html>"
      ],
      "text/latex": [
       "$\\displaystyle \\big( s_{6} + s_{31} + s_{41} + s_{111} \\big) \\otimes \\boldsymbol{1}$"
      ],
      "text/plain": [
       "\\big( s[6] + s[3, 1] + s[4, 1] + s[1, 1, 1] \\big) \\otimes e[]"
      ]
     },
     "metadata": {},
     "output_type": "display_data"
    },
    {
     "data": {
      "text/html": [
       "<html>\\(\\displaystyle \\qquad +\\  \\big( s_{3} + s_{4} + s_{5} + s_{11} + s_{21} + s_{31} \\big) \\otimes e_{1}\\)</html>"
      ],
      "text/latex": [
       "$\\displaystyle \\qquad +\\  \\big( s_{3} + s_{4} + s_{5} + s_{11} + s_{21} + s_{31} \\big) \\otimes e_{1}$"
      ],
      "text/plain": [
       "\\qquad +\\  \\big( s[3] + s[4] + s[5] + s[1, 1] + s[2, 1] + s[3, 1] \\big) \\otimes e[1]"
      ]
     },
     "metadata": {},
     "output_type": "display_data"
    },
    {
     "data": {
      "text/html": [
       "<html>\\(\\displaystyle \\qquad +\\  \\big( s_{1} + s_{2} + s_{3} \\big) \\otimes e_{11}\\)</html>"
      ],
      "text/latex": [
       "$\\displaystyle \\qquad +\\  \\big( s_{1} + s_{2} + s_{3} \\big) \\otimes e_{11}$"
      ],
      "text/plain": [
       "\\qquad +\\  \\big( s[1] + s[2] + s[3] \\big) \\otimes e[1, 1]"
      ]
     },
     "metadata": {},
     "output_type": "display_data"
    },
    {
     "data": {
      "text/html": [
       "<html>\\(\\displaystyle \\qquad +\\  \\boldsymbol{1} \\otimes e_{111}\\)</html>"
      ],
      "text/latex": [
       "$\\displaystyle \\qquad +\\  \\boldsymbol{1} \\otimes e_{111}$"
      ],
      "text/plain": [
       "\\qquad +\\  s[] \\otimes e[1, 1, 1]"
      ]
     },
     "metadata": {},
     "output_type": "display_data"
    },
    {
     "data": {
      "text/html": [
       "<html>\\(\\displaystyle \\qquad +\\  \\big( s_{2} + s_{4} + s_{11} + s_{21} \\big) \\otimes e_{2}\\)</html>"
      ],
      "text/latex": [
       "$\\displaystyle \\qquad +\\  \\big( s_{2} + s_{4} + s_{11} + s_{21} \\big) \\otimes e_{2}$"
      ],
      "text/plain": [
       "\\qquad +\\  \\big( s[2] + s[4] + s[1, 1] + s[2, 1] \\big) \\otimes e[2]"
      ]
     },
     "metadata": {},
     "output_type": "display_data"
    },
    {
     "data": {
      "text/html": [
       "<html>\\(\\displaystyle \\qquad +\\  \\big( 2 s_{1} + s_{2} \\big) \\otimes e_{21}\\)</html>"
      ],
      "text/latex": [
       "$\\displaystyle \\qquad +\\  \\big( 2 s_{1} + s_{2} \\big) \\otimes e_{21}$"
      ],
      "text/plain": [
       "\\qquad +\\  \\big( 2*s[1] + s[2] \\big) \\otimes e[2, 1]"
      ]
     },
     "metadata": {},
     "output_type": "display_data"
    },
    {
     "data": {
      "text/html": [
       "<html>\\(\\displaystyle \\qquad +\\  \\big( s_{3} + s_{11} \\big) \\otimes e_{3}\\)</html>"
      ],
      "text/latex": [
       "$\\displaystyle \\qquad +\\  \\big( s_{3} + s_{11} \\big) \\otimes e_{3}$"
      ],
      "text/plain": [
       "\\qquad +\\  \\big( s[3] + s[1, 1] \\big) \\otimes e[3]"
      ]
     },
     "metadata": {},
     "output_type": "display_data"
    }
   ],
   "source": [
    "Dishout_F(F((3,2,1)))"
   ]
  },
  {
   "cell_type": "markdown",
   "metadata": {},
   "source": [
    "### A version of $F_\\tau$ with specified sum of part."
   ]
  },
  {
   "cell_type": "code",
   "execution_count": 29,
   "metadata": {},
   "outputs": [
    {
     "data": {
      "text/html": [
       "<html>\\(\\displaystyle \\boldsymbol{1} \\otimes e_{2111}\\)</html>"
      ],
      "text/latex": [
       "$\\displaystyle \\boldsymbol{1} \\otimes e_{2111}$"
      ],
      "text/plain": [
       "s[] \\otimes e[2, 1, 1, 1]"
      ]
     },
     "metadata": {},
     "output_type": "display_data"
    },
    {
     "data": {
      "text/html": [
       "<html>\\(\\displaystyle \\qquad +\\  \\big( 2 s_{1} + s_{2} \\big) \\otimes e_{221}\\)</html>"
      ],
      "text/latex": [
       "$\\displaystyle \\qquad +\\  \\big( 2 s_{1} + s_{2} \\big) \\otimes e_{221}$"
      ],
      "text/plain": [
       "\\qquad +\\  \\big( 2*s[1] + s[2] \\big) \\otimes e[2, 2, 1]"
      ]
     },
     "metadata": {},
     "output_type": "display_data"
    },
    {
     "data": {
      "text/html": [
       "<html>\\(\\displaystyle \\qquad +\\  \\big( s_{1} + s_{2} + s_{3} \\big) \\otimes e_{311}\\)</html>"
      ],
      "text/latex": [
       "$\\displaystyle \\qquad +\\  \\big( s_{1} + s_{2} + s_{3} \\big) \\otimes e_{311}$"
      ],
      "text/plain": [
       "\\qquad +\\  \\big( s[1] + s[2] + s[3] \\big) \\otimes e[3, 1, 1]"
      ]
     },
     "metadata": {},
     "output_type": "display_data"
    },
    {
     "data": {
      "text/html": [
       "<html>\\(\\displaystyle \\qquad +\\  \\big( s_{2} + s_{3} + s_{4} + 2 s_{11} + s_{21} \\big) \\otimes e_{32}\\)</html>"
      ],
      "text/latex": [
       "$\\displaystyle \\qquad +\\  \\big( s_{2} + s_{3} + s_{4} + 2 s_{11} + s_{21} \\big) \\otimes e_{32}$"
      ],
      "text/plain": [
       "\\qquad +\\  \\big( s[2] + s[3] + s[4] + 2*s[1, 1] + s[2, 1] \\big) \\otimes e[3, 2]"
      ]
     },
     "metadata": {},
     "output_type": "display_data"
    },
    {
     "data": {
      "text/html": [
       "<html>\\(\\displaystyle \\qquad +\\  \\big( s_{3} + s_{4} + s_{5} + s_{11} + s_{21} + s_{31} \\big) \\otimes e_{41}\\)</html>"
      ],
      "text/latex": [
       "$\\displaystyle \\qquad +\\  \\big( s_{3} + s_{4} + s_{5} + s_{11} + s_{21} + s_{31} \\big) \\otimes e_{41}$"
      ],
      "text/plain": [
       "\\qquad +\\  \\big( s[3] + s[4] + s[5] + s[1, 1] + s[2, 1] + s[3, 1] \\big) \\otimes e[4, 1]"
      ]
     },
     "metadata": {},
     "output_type": "display_data"
    },
    {
     "data": {
      "text/html": [
       "<html>\\(\\displaystyle \\qquad +\\  \\big( s_{6} + s_{31} + s_{41} + s_{111} \\big) \\otimes e_{5}\\)</html>"
      ],
      "text/latex": [
       "$\\displaystyle \\qquad +\\  \\big( s_{6} + s_{31} + s_{41} + s_{111} \\big) \\otimes e_{5}$"
      ],
      "text/plain": [
       "\\qquad +\\  \\big( s[6] + s[3, 1] + s[4, 1] + s[1, 1, 1] \\big) \\otimes e[5]"
      ]
     },
     "metadata": {},
     "output_type": "display_data"
    }
   ],
   "source": [
    "Dishout_F(F((3,2,1),5))"
   ]
  },
  {
   "cell_type": "markdown",
   "metadata": {},
   "source": [
    "# <div align=\"center\">   <span style=\"color:blue\">    $s_\\lambda \\otimes s_\\mu$ multivariate version of $\\mathcal{E}_\\tau(\\boldsymbol{q};\\boldsymbol{z})$, using precalculate data. </span>"
   ]
  },
  {
   "cell_type": "code",
   "execution_count": 30,
   "metadata": {},
   "outputs": [
    {
     "data": {
      "text/html": [
       "<html>\\(\\displaystyle \\big( s_{10.} + s_{42} + s_{61} + s_{71} + s_{43} + s_{62} + s_{81} + s_{311} + s_{411} + s_{511} + s_{1111} \\big) \\otimes s_{11111}\\)</html>"
      ],
      "text/latex": [
       "$\\displaystyle \\big( s_{10.} + s_{42} + s_{61} + s_{71} + s_{43} + s_{62} + s_{81} + s_{311} + s_{411} + s_{511} + s_{1111} \\big) \\otimes s_{11111}$"
      ],
      "text/plain": [
       "\\big( s[10] + s[4, 2] + s[6, 1] + s[7, 1] + s[4, 3] + s[6, 2] + s[8, 1] + s[3, 1, 1] + s[4, 1, 1] + s[5, 1, 1] + s[1, 1, 1, 1] \\big) \\otimes s[1, 1, 1, 1, 1]"
      ]
     },
     "metadata": {},
     "output_type": "display_data"
    },
    {
     "data": {
      "text/html": [
       "<html>\\(\\displaystyle \\qquad +\\  \\big( s_{7} + s_{6} + s_{8} + s_{9} + s_{31} + s_{32} + s_{33} + 2 s_{41} + s_{42} + 2 s_{51} + s_{52} + 2 s_{61} + s_{71} + s_{111} + s_{211} + s_{311} + s_{411} \\big) \\otimes s_{2111}\\)</html>"
      ],
      "text/latex": [
       "$\\displaystyle \\qquad +\\  \\big( s_{7} + s_{6} + s_{8} + s_{9} + s_{31} + s_{32} + s_{33} + 2 s_{41} + s_{42} + 2 s_{51} + s_{52} + 2 s_{61} + s_{71} + s_{111} + s_{211} + s_{311} + s_{411} \\big) \\otimes s_{2111}$"
      ],
      "text/plain": [
       "\\qquad +\\  \\big( s[7] + s[6] + s[8] + s[9] + s[3, 1] + s[3, 2] + s[3, 3] + 2*s[4, 1] + s[4, 2] + 2*s[5, 1] + s[5, 2] + 2*s[6, 1] + s[7, 1] + s[1, 1, 1] + s[2, 1, 1] + s[3, 1, 1] + s[4, 1, 1] \\big) \\otimes s[2, 1, 1, 1]"
      ]
     },
     "metadata": {},
     "output_type": "display_data"
    },
    {
     "data": {
      "text/html": [
       "<html>\\(\\displaystyle \\qquad +\\  \\big( s_{4} + s_{6} + s_{7} + s_{5} + s_{8} + s_{32} + s_{22} + 2 s_{41} + 2 s_{51} + s_{21} + s_{42} + s_{31} + s_{61} + s_{211} + s_{311} \\big) \\otimes s_{221}\\)</html>"
      ],
      "text/latex": [
       "$\\displaystyle \\qquad +\\  \\big( s_{4} + s_{6} + s_{7} + s_{5} + s_{8} + s_{32} + s_{22} + 2 s_{41} + 2 s_{51} + s_{21} + s_{42} + s_{31} + s_{61} + s_{211} + s_{311} \\big) \\otimes s_{221}$"
      ],
      "text/plain": [
       "\\qquad +\\  \\big( s[4] + s[6] + s[7] + s[5] + s[8] + s[3, 2] + s[2, 2] + 2*s[4, 1] + 2*s[5, 1] + s[2, 1] + s[4, 2] + s[3, 1] + s[6, 1] + s[2, 1, 1] + s[3, 1, 1] \\big) \\otimes s[2, 2, 1]"
      ]
     },
     "metadata": {},
     "output_type": "display_data"
    },
    {
     "data": {
      "text/html": [
       "<html>\\(\\displaystyle \\qquad +\\  \\big( s_{3} + 2 s_{5} + s_{4} + s_{6} + s_{7} + s_{21} + 2 s_{31} + s_{32} + s_{41} + s_{51} + s_{11} \\big) \\otimes s_{311}\\)</html>"
      ],
      "text/latex": [
       "$\\displaystyle \\qquad +\\  \\big( s_{3} + 2 s_{5} + s_{4} + s_{6} + s_{7} + s_{21} + 2 s_{31} + s_{32} + s_{41} + s_{51} + s_{11} \\big) \\otimes s_{311}$"
      ],
      "text/plain": [
       "\\qquad +\\  \\big( s[3] + 2*s[5] + s[4] + s[6] + s[7] + s[2, 1] + 2*s[3, 1] + s[3, 2] + s[4, 1] + s[5, 1] + s[1, 1] \\big) \\otimes s[3, 1, 1]"
      ]
     },
     "metadata": {},
     "output_type": "display_data"
    },
    {
     "data": {
      "text/html": [
       "<html>\\(\\displaystyle \\qquad +\\  \\big( s_{2} + s_{4} + s_{3} + s_{5} + s_{6} + s_{21} + s_{22} + s_{31} + s_{41} \\big) \\otimes s_{32}\\)</html>"
      ],
      "text/latex": [
       "$\\displaystyle \\qquad +\\  \\big( s_{2} + s_{4} + s_{3} + s_{5} + s_{6} + s_{21} + s_{22} + s_{31} + s_{41} \\big) \\otimes s_{32}$"
      ],
      "text/plain": [
       "\\qquad +\\  \\big( s[2] + s[4] + s[3] + s[5] + s[6] + s[2, 1] + s[2, 2] + s[3, 1] + s[4, 1] \\big) \\otimes s[3, 2]"
      ]
     },
     "metadata": {},
     "output_type": "display_data"
    },
    {
     "data": {
      "text/html": [
       "<html>\\(\\displaystyle \\qquad +\\  \\big( s_{1} + s_{2} + s_{3} + s_{4} \\big) \\otimes s_{41}\\)</html>"
      ],
      "text/latex": [
       "$\\displaystyle \\qquad +\\  \\big( s_{1} + s_{2} + s_{3} + s_{4} \\big) \\otimes s_{41}$"
      ],
      "text/plain": [
       "\\qquad +\\  \\big( s[1] + s[2] + s[3] + s[4] \\big) \\otimes s[4, 1]"
      ]
     },
     "metadata": {},
     "output_type": "display_data"
    },
    {
     "data": {
      "text/html": [
       "<html>\\(\\displaystyle \\qquad +\\  \\boldsymbol{1} \\otimes s_{5}\\)</html>"
      ],
      "text/latex": [
       "$\\displaystyle \\qquad +\\  \\boldsymbol{1} \\otimes s_{5}$"
      ],
      "text/plain": [
       "\\qquad +\\  s[] \\otimes s[5]"
      ]
     },
     "metadata": {},
     "output_type": "display_data"
    }
   ],
   "source": [
    "Dishout(E_via_F((4,3,2,1),5))"
   ]
  },
  {
   "cell_type": "code",
   "execution_count": 31,
   "metadata": {},
   "outputs": [
    {
     "data": {
      "text/html": [
       "<html>\\(\\displaystyle \\big( s_{6} + s_{22} + s_{41} \\big) \\otimes \\boldsymbol{1}\\)</html>"
      ],
      "text/latex": [
       "$\\displaystyle \\big( s_{6} + s_{22} + s_{41} \\big) \\otimes \\boldsymbol{1}$"
      ],
      "text/plain": [
       "\\big( s[6] + s[2, 2] + s[4, 1] \\big) \\otimes e[]"
      ]
     },
     "metadata": {},
     "output_type": "display_data"
    },
    {
     "data": {
      "text/html": [
       "<html>\\(\\displaystyle \\qquad +\\  \\big( s_{4} + s_{5} + s_{21} + s_{31} \\big) \\otimes e_{1}\\)</html>"
      ],
      "text/latex": [
       "$\\displaystyle \\qquad +\\  \\big( s_{4} + s_{5} + s_{21} + s_{31} \\big) \\otimes e_{1}$"
      ],
      "text/plain": [
       "\\qquad +\\  \\big( s[4] + s[5] + s[2, 1] + s[3, 1] \\big) \\otimes e[1]"
      ]
     },
     "metadata": {},
     "output_type": "display_data"
    },
    {
     "data": {
      "text/html": [
       "<html>\\(\\displaystyle \\qquad +\\  \\big( s_{3} + s_{11} \\big) \\otimes e_{11}\\)</html>"
      ],
      "text/latex": [
       "$\\displaystyle \\qquad +\\  \\big( s_{3} + s_{11} \\big) \\otimes e_{11}$"
      ],
      "text/plain": [
       "\\qquad +\\  \\big( s[3] + s[1, 1] \\big) \\otimes e[1, 1]"
      ]
     },
     "metadata": {},
     "output_type": "display_data"
    },
    {
     "data": {
      "text/html": [
       "<html>\\(\\displaystyle \\qquad +\\  \\big( s_{2} + s_{4} - s_{11} + s_{21} \\big) \\otimes e_{2}\\)</html>"
      ],
      "text/latex": [
       "$\\displaystyle \\qquad +\\  \\big( s_{2} + s_{4} - s_{11} + s_{21} \\big) \\otimes e_{2}$"
      ],
      "text/plain": [
       "\\qquad +\\  \\big( s[2] + s[4] - s[1, 1] + s[2, 1] \\big) \\otimes e[2]"
      ]
     },
     "metadata": {},
     "output_type": "display_data"
    },
    {
     "data": {
      "text/html": [
       "<html>\\(\\displaystyle \\qquad +\\  \\big( s_{1} + s_{2} \\big) \\otimes e_{21}\\)</html>"
      ],
      "text/latex": [
       "$\\displaystyle \\qquad +\\  \\big( s_{1} + s_{2} \\big) \\otimes e_{21}$"
      ],
      "text/plain": [
       "\\qquad +\\  \\big( s[1] + s[2] \\big) \\otimes e[2, 1]"
      ]
     },
     "metadata": {},
     "output_type": "display_data"
    },
    {
     "data": {
      "text/html": [
       "<html>\\(\\displaystyle \\qquad +\\  \\boldsymbol{1} \\otimes e_{22}\\)</html>"
      ],
      "text/latex": [
       "$\\displaystyle \\qquad +\\  \\boldsymbol{1} \\otimes e_{22}$"
      ],
      "text/plain": [
       "\\qquad +\\  s[] \\otimes e[2, 2]"
      ]
     },
     "metadata": {},
     "output_type": "display_data"
    },
    {
     "data": {
      "text/html": [
       "<html>\\(\\displaystyle \\qquad +\\  \\big( s_{3} + s_{11} \\big) \\otimes e_{3}\\)</html>"
      ],
      "text/latex": [
       "$\\displaystyle \\qquad +\\  \\big( s_{3} + s_{11} \\big) \\otimes e_{3}$"
      ],
      "text/plain": [
       "\\qquad +\\  \\big( s[3] + s[1, 1] \\big) \\otimes e[3]"
      ]
     },
     "metadata": {},
     "output_type": "display_data"
    },
    {
     "data": {
      "text/html": [
       "<html>\\(\\displaystyle \\qquad +\\  s_{1} \\otimes e_{31}\\)</html>"
      ],
      "text/latex": [
       "$\\displaystyle \\qquad +\\  s_{1} \\otimes e_{31}$"
      ],
      "text/plain": [
       "\\qquad +\\  s[1] \\otimes e[3, 1]"
      ]
     },
     "metadata": {},
     "output_type": "display_data"
    },
    {
     "data": {
      "text/html": [
       "<html>\\(\\displaystyle \\qquad +\\  s_{2} \\otimes e_{4}\\)</html>"
      ],
      "text/latex": [
       "$\\displaystyle \\qquad +\\  s_{2} \\otimes e_{4}$"
      ],
      "text/plain": [
       "\\qquad +\\  s[2] \\otimes e[4]"
      ]
     },
     "metadata": {},
     "output_type": "display_data"
    }
   ],
   "source": [
    "Dishout_F(F((2,2,1,1)))"
   ]
  },
  {
   "cell_type": "code",
   "execution_count": 32,
   "metadata": {},
   "outputs": [
    {
     "data": {
      "text/html": [
       "<html>\\(\\displaystyle \\big( s_{6} + s_{22} + s_{41} \\big) \\otimes \\boldsymbol{1}\\)</html>"
      ],
      "text/latex": [
       "$\\displaystyle \\big( s_{6} + s_{22} + s_{41} \\big) \\otimes \\boldsymbol{1}$"
      ],
      "text/plain": [
       "\\big( s[6] + s[2, 2] + s[4, 1] \\big) \\otimes e[]"
      ]
     },
     "metadata": {},
     "output_type": "display_data"
    },
    {
     "data": {
      "text/html": [
       "<html>\\(\\displaystyle \\qquad +\\  \\big( s_{2} + s_{3} + s_{4} + s_{5} + s_{21} + s_{31} \\big) \\otimes e_{1}\\)</html>"
      ],
      "text/latex": [
       "$\\displaystyle \\qquad +\\  \\big( s_{2} + s_{3} + s_{4} + s_{5} + s_{21} + s_{31} \\big) \\otimes e_{1}$"
      ],
      "text/plain": [
       "\\qquad +\\  \\big( s[2] + s[3] + s[4] + s[5] + s[2, 1] + s[3, 1] \\big) \\otimes e[1]"
      ]
     },
     "metadata": {},
     "output_type": "display_data"
    },
    {
     "data": {
      "text/html": [
       "<html>\\(\\displaystyle \\qquad +\\  \\big( \\boldsymbol{1} + 2 s_{1} + s_{2} + s_{3} + s_{11} \\big) \\otimes e_{11}\\)</html>"
      ],
      "text/latex": [
       "$\\displaystyle \\qquad +\\  \\big( \\boldsymbol{1} + 2 s_{1} + s_{2} + s_{3} + s_{11} \\big) \\otimes e_{11}$"
      ],
      "text/plain": [
       "\\qquad +\\  \\big( s[] + 2*s[1] + s[2] + s[3] + s[1, 1] \\big) \\otimes e[1, 1]"
      ]
     },
     "metadata": {},
     "output_type": "display_data"
    },
    {
     "data": {
      "text/html": [
       "<html>\\(\\displaystyle \\qquad +\\  \\big( s_{2} + s_{4} + s_{21} \\big) \\otimes e_{2}\\)</html>"
      ],
      "text/latex": [
       "$\\displaystyle \\qquad +\\  \\big( s_{2} + s_{4} + s_{21} \\big) \\otimes e_{2}$"
      ],
      "text/plain": [
       "\\qquad +\\  \\big( s[2] + s[4] + s[2, 1] \\big) \\otimes e[2]"
      ]
     },
     "metadata": {},
     "output_type": "display_data"
    }
   ],
   "source": [
    "Dishout_F(F((4,2)))"
   ]
  },
  {
   "cell_type": "code",
   "execution_count": 33,
   "metadata": {},
   "outputs": [
    {
     "data": {
      "text/html": [
       "<html>\\(\\displaystyle \\big( s_{6} + s_{22} + s_{41} \\big) \\otimes s_{1111111}\\)</html>"
      ],
      "text/latex": [
       "$\\displaystyle \\big( s_{6} + s_{22} + s_{41} \\big) \\otimes s_{1111111}$"
      ],
      "text/plain": [
       "\\big( s[6] + s[2, 2] + s[4, 1] \\big) \\otimes s[1, 1, 1, 1, 1, 1, 1]"
      ]
     },
     "metadata": {},
     "output_type": "display_data"
    },
    {
     "data": {
      "text/html": [
       "<html>\\(\\displaystyle \\qquad +\\  \\big( s_{4} + s_{5} + s_{21} + s_{31} \\big) \\otimes s_{211111}\\)</html>"
      ],
      "text/latex": [
       "$\\displaystyle \\qquad +\\  \\big( s_{4} + s_{5} + s_{21} + s_{31} \\big) \\otimes s_{211111}$"
      ],
      "text/plain": [
       "\\qquad +\\  \\big( s[4] + s[5] + s[2, 1] + s[3, 1] \\big) \\otimes s[2, 1, 1, 1, 1, 1]"
      ]
     },
     "metadata": {},
     "output_type": "display_data"
    },
    {
     "data": {
      "text/html": [
       "<html>\\(\\displaystyle \\qquad +\\  \\big( s_{3} + s_{2} + s_{4} + s_{21} \\big) \\otimes s_{22111}\\)</html>"
      ],
      "text/latex": [
       "$\\displaystyle \\qquad +\\  \\big( s_{3} + s_{2} + s_{4} + s_{21} \\big) \\otimes s_{22111}$"
      ],
      "text/plain": [
       "\\qquad +\\  \\big( s[3] + s[2] + s[4] + s[2, 1] \\big) \\otimes s[2, 2, 1, 1, 1]"
      ]
     },
     "metadata": {},
     "output_type": "display_data"
    },
    {
     "data": {
      "text/html": [
       "<html>\\(\\displaystyle \\qquad +\\  \\big( s_{2} + s_{3} + s_{11} \\big) \\otimes s_{2221}\\)</html>"
      ],
      "text/latex": [
       "$\\displaystyle \\qquad +\\  \\big( s_{2} + s_{3} + s_{11} \\big) \\otimes s_{2221}$"
      ],
      "text/plain": [
       "\\qquad +\\  \\big( s[2] + s[3] + s[1, 1] \\big) \\otimes s[2, 2, 2, 1]"
      ]
     },
     "metadata": {},
     "output_type": "display_data"
    },
    {
     "data": {
      "text/html": [
       "<html>\\(\\displaystyle \\qquad +\\  \\big( s_{3} + s_{11} \\big) \\otimes s_{31111}\\)</html>"
      ],
      "text/latex": [
       "$\\displaystyle \\qquad +\\  \\big( s_{3} + s_{11} \\big) \\otimes s_{31111}$"
      ],
      "text/plain": [
       "\\qquad +\\  \\big( s[3] + s[1, 1] \\big) \\otimes s[3, 1, 1, 1, 1]"
      ]
     },
     "metadata": {},
     "output_type": "display_data"
    },
    {
     "data": {
      "text/html": [
       "<html>\\(\\displaystyle \\qquad +\\  \\big( s_{1} + s_{2} \\big) \\otimes s_{3211}\\)</html>"
      ],
      "text/latex": [
       "$\\displaystyle \\qquad +\\  \\big( s_{1} + s_{2} \\big) \\otimes s_{3211}$"
      ],
      "text/plain": [
       "\\qquad +\\  \\big( s[1] + s[2] \\big) \\otimes s[3, 2, 1, 1]"
      ]
     },
     "metadata": {},
     "output_type": "display_data"
    },
    {
     "data": {
      "text/html": [
       "<html>\\(\\displaystyle \\qquad +\\  s_{1} \\otimes s_{322}\\)</html>"
      ],
      "text/latex": [
       "$\\displaystyle \\qquad +\\  s_{1} \\otimes s_{322}$"
      ],
      "text/plain": [
       "\\qquad +\\  s[1] \\otimes s[3, 2, 2]"
      ]
     },
     "metadata": {},
     "output_type": "display_data"
    },
    {
     "data": {
      "text/html": [
       "<html>\\(\\displaystyle \\qquad +\\  \\boldsymbol{1} \\otimes s_{331}\\)</html>"
      ],
      "text/latex": [
       "$\\displaystyle \\qquad +\\  \\boldsymbol{1} \\otimes s_{331}$"
      ],
      "text/plain": [
       "\\qquad +\\  s[] \\otimes s[3, 3, 1]"
      ]
     },
     "metadata": {},
     "output_type": "display_data"
    }
   ],
   "source": [
    "Dishout(E_via_F((2,2,1,1),7))"
   ]
  },
  {
   "cell_type": "markdown",
   "metadata": {},
   "source": [
    "### Cases for which we have negative coefficients occuring in $\\mathcal{F}_\\tau$."
   ]
  },
  {
   "cell_type": "code",
   "execution_count": 34,
   "metadata": {},
   "outputs": [
    {
     "data": {
      "text/html": [
       "<html>\\(\\displaystyle \\left[2211, 22111, 221111, 2211111, 222111, 32211, 3321, 22111111, 2221111, 322111, 33211\\right]\\)</html>"
      ],
      "text/latex": [
       "$\\displaystyle \\left[2211, 22111, 221111, 2211111, 222111, 32211, 3321, 22111111, 2221111, 322111, 33211\\right]$"
      ],
      "text/plain": [
       "[[2, 2, 1, 1],\n",
       " [2, 2, 1, 1, 1],\n",
       " [2, 2, 1, 1, 1, 1],\n",
       " [2, 2, 1, 1, 1, 1, 1],\n",
       " [2, 2, 2, 1, 1, 1],\n",
       " [3, 2, 2, 1, 1],\n",
       " [3, 3, 2, 1],\n",
       " [2, 2, 1, 1, 1, 1, 1, 1],\n",
       " [2, 2, 2, 1, 1, 1, 1],\n",
       " [3, 2, 2, 1, 1, 1],\n",
       " [3, 3, 2, 1, 1]]"
      ]
     },
     "execution_count": 34,
     "metadata": {},
     "output_type": "execute_result"
    }
   ],
   "source": [
    "ListeNegatifs=[tau for tau in Precalculated_F.keys() if min([c for (mu,nu),c in F(tau)])<0]\n",
    "ListeNegatifs"
   ]
  },
  {
   "cell_type": "code",
   "execution_count": 35,
   "metadata": {},
   "outputs": [
    {
     "data": {
      "text/html": [
       "<html>\\(\\displaystyle \\left(2211, s_{11} \\otimes e_{2}\\right)\\)</html>"
      ],
      "text/latex": [
       "$\\displaystyle \\left(2211, s_{11} \\otimes e_{2}\\right)$"
      ],
      "text/plain": [
       "([2, 2, 1, 1], s[1, 1] # e[2])"
      ]
     },
     "metadata": {},
     "output_type": "display_data"
    },
    {
     "data": {
      "text/html": [
       "<html>\\(\\displaystyle \\left(22111, s_{11} \\otimes e_{3}\\right)\\)</html>"
      ],
      "text/latex": [
       "$\\displaystyle \\left(22111, s_{11} \\otimes e_{3}\\right)$"
      ],
      "text/plain": [
       "([2, 2, 1, 1, 1], s[1, 1] # e[3])"
      ]
     },
     "metadata": {},
     "output_type": "display_data"
    },
    {
     "data": {
      "text/html": [
       "<html>\\(\\displaystyle \\left(221111, s_{11} \\otimes e_{4}\\right)\\)</html>"
      ],
      "text/latex": [
       "$\\displaystyle \\left(221111, s_{11} \\otimes e_{4}\\right)$"
      ],
      "text/plain": [
       "([2, 2, 1, 1, 1, 1], s[1, 1] # e[4])"
      ]
     },
     "metadata": {},
     "output_type": "display_data"
    },
    {
     "data": {
      "text/html": [
       "<html>\\(\\displaystyle \\left(2211111, s_{11} \\otimes e_{5}\\right)\\)</html>"
      ],
      "text/latex": [
       "$\\displaystyle \\left(2211111, s_{11} \\otimes e_{5}\\right)$"
      ],
      "text/plain": [
       "([2, 2, 1, 1, 1, 1, 1], s[1, 1] # e[5])"
      ]
     },
     "metadata": {},
     "output_type": "display_data"
    },
    {
     "data": {
      "text/html": [
       "<html>\\(\\displaystyle \\left(222111, s_{11} \\otimes e_{31} + s_{21} \\otimes e_{3} + s_{22} \\otimes e_{2}\\right)\\)</html>"
      ],
      "text/latex": [
       "$\\displaystyle \\left(222111, s_{11} \\otimes e_{31} + s_{21} \\otimes e_{3} + s_{22} \\otimes e_{2}\\right)$"
      ],
      "text/plain": [
       "([2, 2, 2, 1, 1, 1], s[1, 1] # e[3, 1] + s[2, 1] # e[3] + s[2, 2] # e[2])"
      ]
     },
     "metadata": {},
     "output_type": "display_data"
    },
    {
     "data": {
      "text/html": [
       "<html>\\(\\displaystyle \\left(32211, s_{11} \\otimes e_{21} + s_{11} \\otimes e_{4} + s_{111} \\otimes e_{2}\\right)\\)</html>"
      ],
      "text/latex": [
       "$\\displaystyle \\left(32211, s_{11} \\otimes e_{21} + s_{11} \\otimes e_{4} + s_{111} \\otimes e_{2}\\right)$"
      ],
      "text/plain": [
       "([3, 2, 2, 1, 1], s[1, 1] # e[2, 1] + s[1, 1] # e[4] + s[1, 1, 1] # e[2])"
      ]
     },
     "metadata": {},
     "output_type": "display_data"
    },
    {
     "data": {
      "text/html": [
       "<html>\\(\\displaystyle \\left(3321, s_{22} \\otimes e_{2}\\right)\\)</html>"
      ],
      "text/latex": [
       "$\\displaystyle \\left(3321, s_{22} \\otimes e_{2}\\right)$"
      ],
      "text/plain": [
       "([3, 3, 2, 1], s[2, 2] # e[2])"
      ]
     },
     "metadata": {},
     "output_type": "display_data"
    },
    {
     "data": {
      "text/html": [
       "<html>\\(\\displaystyle \\left(22111111, s_{11} \\otimes e_{6}\\right)\\)</html>"
      ],
      "text/latex": [
       "$\\displaystyle \\left(22111111, s_{11} \\otimes e_{6}\\right)$"
      ],
      "text/plain": [
       "([2, 2, 1, 1, 1, 1, 1, 1], s[1, 1] # e[6])"
      ]
     },
     "metadata": {},
     "output_type": "display_data"
    },
    {
     "data": {
      "text/html": [
       "<html>\\(\\displaystyle \\left(2221111, s_{11} \\otimes e_{41} + s_{21} \\otimes e_{4} + s_{22} \\otimes e_{3}\\right)\\)</html>"
      ],
      "text/latex": [
       "$\\displaystyle \\left(2221111, s_{11} \\otimes e_{41} + s_{21} \\otimes e_{4} + s_{22} \\otimes e_{3}\\right)$"
      ],
      "text/plain": [
       "([2, 2, 2, 1, 1, 1, 1], s[1, 1] # e[4, 1] + s[2, 1] # e[4] + s[2, 2] # e[3])"
      ]
     },
     "metadata": {},
     "output_type": "display_data"
    },
    {
     "data": {
      "text/html": [
       "<html>\\(\\displaystyle \\left(322111, s_{11} \\otimes e_{31} + s_{11} \\otimes e_{5} + s_{111} \\otimes e_{3} + s_{21} \\otimes e_{4}\\right)\\)</html>"
      ],
      "text/latex": [
       "$\\displaystyle \\left(322111, s_{11} \\otimes e_{31} + s_{11} \\otimes e_{5} + s_{111} \\otimes e_{3} + s_{21} \\otimes e_{4}\\right)$"
      ],
      "text/plain": [
       "([3, 2, 2, 1, 1, 1],\n",
       " s[1, 1] # e[3, 1] + s[1, 1] # e[5] + s[1, 1, 1] # e[3] + s[2, 1] # e[4])"
      ]
     },
     "metadata": {},
     "output_type": "display_data"
    },
    {
     "data": {
      "text/html": [
       "<html>\\(\\displaystyle \\left(33211, s_{11} \\otimes e_{3} + s_{111} \\otimes e_{3} + s_{21} \\otimes e_{4}\\right)\\)</html>"
      ],
      "text/latex": [
       "$\\displaystyle \\left(33211, s_{11} \\otimes e_{3} + s_{111} \\otimes e_{3} + s_{21} \\otimes e_{4}\\right)$"
      ],
      "text/plain": [
       "([3, 3, 2, 1, 1], s[1, 1] # e[3] + s[1, 1, 1] # e[3] + s[2, 1] # e[4])"
      ]
     },
     "metadata": {},
     "output_type": "display_data"
    }
   ],
   "source": [
    "for tau in ListeNegatifs:\n",
    "    show((tau,add(-c*tensor([s(mu),e(nu)]) for (mu,nu),c in F(tau) if c<0)))"
   ]
  },
  {
   "cell_type": "markdown",
   "metadata": {},
   "source": [
    "# <div align=\"center\">   <span style=\"color:blue\">    Test of the property:    </span>\n",
    "## $$\\mathcal{E}^{(n)}_\\tau =_{2} \\Delta_{e_{n-1-k}}^{-1} e_k^\\perp \\mathcal{E}^{(n)}_\\tau,\\qquad {\\rm when}\\ \\tau\\ \\hbox{is dominant},$$\n",
    " for all $0\\leq k<n$. Together with the explicit formula for $\\mathcal{E}^{(n)}_\\tau(q,t;\\boldsymbol{z})$, the above forces many components of the multivariate version of $\\mathcal{E}^{(n)}_\\tau$.\n"
   ]
  },
  {
   "cell_type": "code",
   "execution_count": 36,
   "metadata": {},
   "outputs": [],
   "source": [
    "@cached_function\n",
    "def Delta(g,f):\n",
    "    if f==0:\n",
    "        return 0\n",
    "    else:\n",
    "        return s(add(c*g(B_mu(mu)*Un-1)*H(mu) for (mu,c) in H(f)))\n",
    "\n",
    "@cached_function\n",
    "def InvDelta(g,f):\n",
    "    if f==0:\n",
    "        return 0\n",
    "    else:\n",
    "        return s(add(c*(1/(g(B_mu(mu)*Un-1).scalar(Un)))*H(mu) for (mu,c) in H(f)))\n",
    "\n",
    "\n",
    "def B_mu(mu):\n",
    "    return add(q^(i-1)*t^(j-1) for (i,j) in Cellules(mu))\n",
    "\n",
    "def Test_skew_Delta(tau,n):\n",
    "    return all([E_via_F(tau,n).Eval(q+t)==(InvDelta(e[n-1-k],E_via_F(tau,n).skew_by(e[k]).Eval(q+t))).nabla() \n",
    "     for k in range(n)])"
   ]
  },
  {
   "cell_type": "code",
   "execution_count": 37,
   "metadata": {},
   "outputs": [],
   "source": [
    "for tau in Precalculated_F.keys():\n",
    "    if Is_Triangular(tau) and Is_Dominant(tau) and tau.length()>1 and not Test_skew_Delta(tau,tau.length()+1):\n",
    "        show(tau)"
   ]
  },
  {
   "cell_type": "markdown",
   "metadata": {},
   "source": [
    "# <div align=\"center\">   <span style=\"color:blue\">    Test that $\\mathcal{E}_\\tau^{(n)}\\preceq  \\mathcal{E}_{\\tau'}^{(n)}$, when $\\tau$ is dominant.   </span>\n",
    "Here $\\preceq $ stands for Schur$\\otimes$Schur inclusion."
   ]
  },
  {
   "cell_type": "code",
   "execution_count": 92,
   "metadata": {},
   "outputs": [],
   "source": [
    "for tau in Precalculated_F.keys():\n",
    "     if tau.size()>0 and Is_Dominant(tau):\n",
    "        n=2*tau[0]\n",
    "        rep=E_via_F(tau.conjugate(),n)-E_via_F(tau,n)\n",
    "        if min([0]+[c for (mu,nu),c in rep])<0:\n",
    "            show(tau)"
   ]
  },
  {
   "cell_type": "code",
   "execution_count": null,
   "metadata": {},
   "outputs": [],
   "source": []
  }
 ],
 "metadata": {
  "kernelspec": {
   "display_name": "SageMath 10.0",
   "language": "sage",
   "name": "sagemath-10.0"
  },
  "language_info": {
   "codemirror_mode": {
    "name": "ipython",
    "version": 3
   },
   "file_extension": ".py",
   "mimetype": "text/x-python",
   "name": "python",
   "nbconvert_exporter": "python",
   "pygments_lexer": "ipython3",
   "version": "3.11.1"
  }
 },
 "nbformat": 4,
 "nbformat_minor": 2
}

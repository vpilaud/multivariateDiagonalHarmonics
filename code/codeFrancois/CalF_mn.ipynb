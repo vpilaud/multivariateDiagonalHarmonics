{
 "cells": [
  {
   "cell_type": "markdown",
   "metadata": {},
   "source": [
    "\n",
    "## Description of the  $e$-expansion of \n",
    "\n",
    "### $$\\mathcal{F}_{mn}:=\\mathcal{E}_{mn}[\\mathbf{q}+1;\\mathbf{x}]$$\n",
    "We have\n",
    " $$\n",
    "\\langle \\mathcal{E}_{n}[\\mathbf{q}+1;\\mathbf{x}],f_{k,1^{n-k}}\\rangle \n",
    "= \\sum_{j=1}^{n-k+1} \\langle \\mathcal{E}_{n}, s_{j,1^{k-1}}\\rangle,\\qquad \\hbox{or equivalently}\\qquad\n",
    "\\langle \\mathcal{E}_{n}[\\mathbf{q};\\mathbf{x}],f_{k,1^{n-k}}\\rangle =\n",
    "\\sum_{j=1}^{n-k+1}e_{j-1}^\\perp \\mathcal{A}_n[\\mathbf{q}-1] $$\n"
   ]
  },
  {
   "cell_type": "code",
   "execution_count": 1,
   "metadata": {
    "scrolled": false
   },
   "outputs": [
    {
     "name": "stdout",
     "output_type": "stream",
     "text": [
      "Defining e as shorthand for Symmetric Functions over Fraction Field of Multivariate Polynomial Ring in q, t over Rational Field in the elementary basis\n",
      "Defining f as shorthand for Symmetric Functions over Fraction Field of Multivariate Polynomial Ring in q, t over Rational Field in the forgotten basis\n",
      "Defining h as shorthand for Symmetric Functions over Fraction Field of Multivariate Polynomial Ring in q, t over Rational Field in the homogeneous basis\n",
      "Defining m as shorthand for Symmetric Functions over Fraction Field of Multivariate Polynomial Ring in q, t over Rational Field in the monomial basis\n",
      "Defining p as shorthand for Symmetric Functions over Fraction Field of Multivariate Polynomial Ring in q, t over Rational Field in the powersum basis\n",
      "Defining s as shorthand for Symmetric Functions over Fraction Field of Multivariate Polynomial Ring in q, t over Rational Field in the Schur basis\n",
      "Defining z\n"
     ]
    }
   ],
   "source": [
    "%display latex\n",
    "%runfile MultiInit.py\n",
    "%runfile Outils_globaux.py\n",
    "%runfile Outils_impression.py\n",
    "%runfile Outils_symmetriques.py\n",
    "\n",
    "from sage.combinat.q_analogues import *\n",
    "\n",
    "%runfile Outils_partages.py\n",
    "%runfile Outils_tenseurs.py\n",
    "%runfile Outils_Hall.py\n",
    "\n",
    "\n",
    "Sym = SymmetricFunctions(FractionField(QQ['q','t']))\n",
    "Sym.inject_shorthands()\n",
    "H = Sym.macdonald().Ht()\n",
    "HH = Sym.macdonald().H()\n",
    "H.print_options(prefix=\"H\")\n",
    "t=H.t\n",
    "q=H.q\n",
    "\n",
    "P=Sym.macdonald(t=0).H()\n",
    "Qp = P.dual_basis(prefix='Qp');\n",
    "\n",
    "X=s[1]\n",
    "Un=s([])\n",
    "f = e.dual_basis(prefix='f');\n",
    "zero=Partition([0])\n",
    "\n",
    "M=(1-t)*(1-q)\n",
    "S = SymmetricFunctions(QQ)\n",
    "\n",
    "f._latex_term = lambda mu: \"\\mathbb{1}\" if mu==zero else \"f_{%s}\"%(''.join(mystr(i) for i in mu))\n",
    "H._latex_term = lambda mu: \"\\mathbb{1}\" if mu==zero else \"H_{%s}\"%(''.join(mystr(i) for i in mu))\n",
    "P._latex_term = lambda mu: \"\\mathbb{1}\" if mu==zero else \"P_{%s}\"%(''.join(mystr(i) for i in mu))\n",
    "s._latex_term = lambda mu: \"\\mathbb{1}\" if mu==zero else \"s_{%s}\"%(''.join(mystr(i) for i in mu))\n",
    "p._latex_term = lambda mu: \"\\mathbb{1}\" if mu==zero else \"p_{%s}\"%(''.join(mystr(i) for i in mu))\n",
    "h._latex_term = lambda mu: \"\\mathbb{1}\" if mu==zero else \"h_{%s}\"%(''.join(mystr(i) for i in mu))\n",
    "e._latex_term = lambda mu: \"\\mathbb{1}\" if mu==zero else \"e_{%s}\"%(''.join(mystr(i) for i in mu))\n",
    "m._latex_term = lambda mu: \"\\mathbb{1}\" if mu==zero else \"m_{%s}\"%(''.join(mystr(i) for i in mu))\n",
    "\n",
    "\n",
    "    \n",
    "%runfile LLT.py\n",
    "%runfile PLLT.py\n",
    "%runfile Phi.py\n",
    "RH.<z>=Sym[]\n",
    "RH.inject_variables()\n",
    "\n",
    "%runfile Rectangular.py\n",
    "\n",
    "Pol_qt=PolynomialRing(QQ,['q','t'])\n",
    "\n",
    "def MarcoPolo(ppol):\n",
    "    pol=Pol_qt(ppol)\n",
    "    N=pol.degree(Pol_qt(q))\n",
    "    return matrix([[pol.coefficient({q:N-i,t:j})\n",
    "                    for i in range(N+1)] \n",
    "                   for j in range(N+1)]).transpose()"
   ]
  },
  {
   "cell_type": "code",
   "execution_count": 2,
   "metadata": {},
   "outputs": [],
   "source": [
    "def CalE_mn_alt_k(m,n):\n",
    "    return ToBin(tobinom((Eval1(CalE_mn(m,n),q,{q}).scalar(e[n]))))\n",
    "\n",
    "def CalE_mn_k(m,n):\n",
    "    return ((s(Eval1(CalE_mn(m,n),q,{q})).map_coefficients(tobinom))).map_coefficients(ToBin)\n",
    "\n",
    "def CalF_mn_k(m,n):\n",
    "    return ((e(Eval1(CalF_mn(m,n),q,{q})).map_coefficients(tobinom))).map_coefficients(ToBin)\n",
    "\n",
    "def En_zeta(F):\n",
    "    return ((e(Eval1(F,q,{q})).map_coefficients(tobinom))).map_coefficients(ToBin)\n",
    "\n",
    "def En_k(F):\n",
    "     return (F.map_coefficients(tobinom)).map_coefficients(ToBin)\n",
    "\n",
    "@cached_function\n",
    "def Skew_hk_E_mn(k,m,n):\n",
    "    return Skew1(h[k],CalE_mn(m,n))\n",
    "\n",
    "def test_hook(m,n,k):\n",
    "    return (Scalar2(CalE_mn(m,n),e[n])(Un+X).skew_by(e[n-1-k])\n",
    "            ==Scalar2(CalF_mn(m,n),s([n-k]+[1 for i in range(k)])))\n",
    "\n",
    "def Test_hook(m,n,k):\n",
    "    return (Scalar2(CalF_mn(m,n),e[n]).skew_by(e[k-1])\n",
    "            ==Scalar2(CalF_mn(m,n),s([k]+[1 for i in range(n-k)])))\n",
    "\n",
    "@cached_function\n",
    "def test_epos_hook(n,k):\n",
    "    if k==0:\n",
    "        return true\n",
    "    else:\n",
    "        mu=Partition(hook(n,n-k-1))\n",
    "        return (Scalar2(CalF_mn(n,n),f(mu))\n",
    "                ==add(Scalar2(CalE_mn(k+j),s([j]+list(colone(k))))\n",
    "                      for j in range(1,n-k+1)))\n",
    "\n",
    "# Test of 7 for \"m\"\n",
    "\n",
    "def RHS_ekperp_F_mn(k,m,n):\n",
    "    return add(Tenseur(pol_to_s((q^Aire(mu,m,n)*e[k](Un*add(q^(-a(mu,m,n)[i]) \n",
    "                                          for i in range(n-1) \n",
    "                                           if a(mu,m,n)[i]>a(mu,m,n)[i+1])).scalar(Un)).numerator())\n",
    "               ,mul(e[k] for k in risers(mu,n))) for mu in Dyck(m,n))\n",
    "\n",
    "def RHS_ekperp_F_mn(k,m,n=None):\n",
    "    if n==None: return RHS_ekperp_F_mn(k,m,m)\n",
    "    else: return add(Tenseur(pol_to_s((q^Aire(mu,m,n)*e[k](Un*add(q^(-a(mu,m,n)[i]) \n",
    "                                          for i in range(n-1) \n",
    "                                           if a(mu,m,n)[i]>a(mu,m,n)[i+1])).scalar(Un)).numerator())\n",
    "               ,mul(e[k] for k in risers(mu,n)))*num_Intervale(mu,n) for mu in Dyck(m,n))\n",
    "\n",
    "def num_Intervale(mu,n):\n",
    "    return Intervale(staircase(3,3),Partition([0]),3).__len__()\n",
    "\n",
    "def test_rel_ens(n,k,j):\n",
    "    A=Set(range(1,k+1)+range(j,n))\n",
    "    return CalA_mn(j).skew_by(e[k])==sigma_ens(A,n)\n",
    "\n",
    "@cached_function\n",
    "def sigma_ens(A,n):\n",
    "    return add(sigma_prime(mu,n) for mu in Dyck(n) if to_ens(mu)==A)\n",
    "\n",
    "def classe_set(A,n):\n",
    "    return Set([mu for mu in Dyck(n) if to_ens(mu)==A])\n",
    "\n",
    "def to_ens(mu):\n",
    "    nu=list(mu)+[0]\n",
    "    return Set([k for k in range(1,nu.__len__()) if nu[k-1]>nu[k]])\n",
    "\n",
    "def relations_ens(n):\n",
    "    return Set([Set(range(1,n))]+[Set(range(1,k+1)).union(Set([n-i for i in range(1,j+1)])) \n",
    "                                  for j in range(n) for k in range(n-j-1)])\n",
    "\n",
    "@cached_function\n",
    "def les_chaines_max(mu,n):\n",
    "    if precede(mu,n)==[]:\n",
    "        return Set([[mu]])\n",
    "    else:\n",
    "        return Set([c+[mu] for nu in precede(mu,n) for c in les_chaines_max(nu,n)])\n",
    "    \n",
    "def les_chaines(mu,n):\n",
    "    mu=Partition(mu)\n",
    "    return Set([tuple(d) for c in les_chaines_max(mu,n) for d in sous_chaines(c)])\n",
    "\n",
    "def sous_chaines(c):\n",
    "    n=c.__len__()-1\n",
    "    if n==0: return Set([c])\n",
    "    else: return Set([[c[0]]+d+[c[n]] for d in sublists([c[i] for i in range(1,n)])])\n",
    "\n",
    "def sublists(c):\n",
    "    n=c.__len__()\n",
    "    if n==0:\n",
    "        return [c]\n",
    "    else:\n",
    "        S=sublists([c[i] for i in range(1,n)])\n",
    "        return S+[[c[0]]+d for d in S]\n",
    "\n",
    "def contribution_F_mn_k(mu,n):\n",
    "    return sigma_prime(mu,n)(q*Un,exclude={q}).scalar(Un)\n",
    "\n",
    "@cached_function\n",
    "def contribution_zeta(mu,n):\n",
    "    return add(binomial(q,w.__len__()-1) for w in les_chaines(mu,n))\n",
    "\n",
    "def Tout_zeta_k(n):\n",
    "    return En_k(add(contribution_zeta(mu,n)*e_rho_mu(mu,n) for mu in Dyck(n)))\n",
    "\n",
    "def En_k(F):\n",
    "     return (F.map_coefficients(tobinom)).map_coefficients(ToBin)\n",
    "    \n",
    "@cached_function\n",
    "def distance(mu,nu,n):\n",
    "    if mu==nu: return 0\n",
    "    else:\n",
    "        listdist=[distance(mu,rho,n) for rho in precede(nu,n)]\n",
    "        if listdist==[]: return -1\n",
    "        else: \n",
    "            mdist=max([distance(mu,rho,n) for rho in precede(nu,n)])\n",
    "            if mdist>=0:\n",
    "                return mdist+1\n",
    "            else: return -1\n",
    "            \n",
    "@cached_function\n",
    "def les_distances(c,n):\n",
    "    k=c.__len__()\n",
    "    if k==1: return Composition([])\n",
    "    else: return Composition([distance(c[i],c[i+1],n) for i in range(k-1)])\n",
    "    \n",
    "def LLT(mu,n,u=None):\n",
    "    if u==None:\n",
    "        return LLT(mu,n,t)\n",
    "    else:\n",
    "        if n>=7: correction=1\n",
    "        else: correction=0\n",
    "        mu=Partition(mu)\n",
    "        if mu==Partition([0]) and n==1: return e[1]\n",
    "        else:\n",
    "            for (nu,llt) in ListeLLT[n-1]:\n",
    "                if Partition(nu)==mu:\n",
    "                    return e(llt.map_coefficients(lambda c: c.substitute({t:u-correction})))\n",
    "\n",
    "@cached_function\n",
    "def PLLT(mu,n):\n",
    "    if n>PLLT_liste.__len__():\n",
    "        return None\n",
    "    else:\n",
    "        for (nu,llt) in PLLT_liste[n-1]:\n",
    "            if Partition(nu)==mu:\n",
    "                return llt"
   ]
  },
  {
   "cell_type": "markdown",
   "metadata": {},
   "source": [
    "### Test that we have $e$-positivity for $\\mathcal{S}_\\mu[\\mathbf{q}+1;\\mathbf{z}]$ only when $\\mu$ is a hook"
   ]
  },
  {
   "cell_type": "code",
   "execution_count": 3,
   "metadata": {},
   "outputs": [
    {
     "data": {
      "text/html": [
       "<html><script type=\"math/tex; mode=display\">\\newcommand{\\Bold}[1]{\\mathbf{#1}}\\left[\\left(1, \\mathrm{True}\\right)\\right]</script></html>"
      ],
      "text/plain": [
       "[([1], True)]"
      ]
     },
     "metadata": {},
     "output_type": "display_data"
    },
    {
     "data": {
      "text/html": [
       "<html><script type=\"math/tex; mode=display\">\\newcommand{\\Bold}[1]{\\mathbf{#1}}\\left[\\left(11, \\mathrm{True}\\right), \\left(2, \\mathrm{True}\\right)\\right]</script></html>"
      ],
      "text/plain": [
       "[([1, 1], True), ([2], True)]"
      ]
     },
     "metadata": {},
     "output_type": "display_data"
    },
    {
     "data": {
      "text/html": [
       "<html><script type=\"math/tex; mode=display\">\\newcommand{\\Bold}[1]{\\mathbf{#1}}\\left[\\left(111, \\mathrm{True}\\right), \\left(21, \\mathrm{True}\\right), \\left(3, \\mathrm{True}\\right)\\right]</script></html>"
      ],
      "text/plain": [
       "[([1, 1, 1], True), ([2, 1], True), ([3], True)]"
      ]
     },
     "metadata": {},
     "output_type": "display_data"
    },
    {
     "data": {
      "text/html": [
       "<html><script type=\"math/tex; mode=display\">\\newcommand{\\Bold}[1]{\\mathbf{#1}}\\left[\\left(1111, \\mathrm{True}\\right), \\left(211, \\mathrm{True}\\right), \\left(31, \\mathrm{True}\\right), \\left(4, \\mathrm{True}\\right)\\right]</script></html>"
      ],
      "text/plain": [
       "[([1, 1, 1, 1], True), ([2, 1, 1], True), ([3, 1], True), ([4], True)]"
      ]
     },
     "metadata": {},
     "output_type": "display_data"
    },
    {
     "data": {
      "text/html": [
       "<html><script type=\"math/tex; mode=display\">\\newcommand{\\Bold}[1]{\\mathbf{#1}}\\left[\\left(11111, \\mathrm{True}\\right), \\left(2111, \\mathrm{True}\\right), \\left(311, \\mathrm{True}\\right), \\left(41, \\mathrm{True}\\right), \\left(5, \\mathrm{True}\\right)\\right]</script></html>"
      ],
      "text/plain": [
       "[([1, 1, 1, 1, 1], True),\n",
       " ([2, 1, 1, 1], True),\n",
       " ([3, 1, 1], True),\n",
       " ([4, 1], True),\n",
       " ([5], True)]"
      ]
     },
     "metadata": {},
     "output_type": "display_data"
    },
    {
     "data": {
      "text/html": [
       "<html><script type=\"math/tex; mode=display\">\\newcommand{\\Bold}[1]{\\mathbf{#1}}\\left[\\left(111111, \\mathrm{True}\\right), \\left(21111, \\mathrm{True}\\right), \\left(3111, \\mathrm{True}\\right), \\left(411, \\mathrm{True}\\right), \\left(51, \\mathrm{True}\\right), \\left(6, \\mathrm{True}\\right)\\right]</script></html>"
      ],
      "text/plain": [
       "[([1, 1, 1, 1, 1, 1], True),\n",
       " ([2, 1, 1, 1, 1], True),\n",
       " ([3, 1, 1, 1], True),\n",
       " ([4, 1, 1], True),\n",
       " ([5, 1], True),\n",
       " ([6], True)]"
      ]
     },
     "metadata": {},
     "output_type": "display_data"
    }
   ],
   "source": [
    "for n in range(1,7):\n",
    "    show([(mu,Positif(CalF_mu(mu))) for mu in hooks(n)])"
   ]
  },
  {
   "cell_type": "code",
   "execution_count": 4,
   "metadata": {},
   "outputs": [],
   "source": [
    "def JT_F(nu):\n",
    "    mu=Partition(nu).conjugate()\n",
    "    n=mu.length()\n",
    "    M=(mu.jacobi_trudi())\n",
    "    def to_F(hk): \n",
    "        if hk==0: \n",
    "            return 0 \n",
    "        else:\n",
    "            k=hk.degree()\n",
    "            return CalF_mu(colone(k)) \n",
    "    return matrix(n,n,lambda i,j:to_F(M[i,j])).det()"
   ]
  },
  {
   "cell_type": "code",
   "execution_count": 5,
   "metadata": {},
   "outputs": [
    {
     "data": {
      "text/html": [
       "<html><script type=\"math/tex; mode=display\">\\newcommand{\\Bold}[1]{\\mathbf{#1}}s_{11} \\otimes e_{3} + s_{2} \\otimes e_{21} + s_{3} \\otimes e_{3}</script></html>"
      ],
      "text/plain": [
       "s[1, 1] # e[3] + s[2] # e[2, 1] + s[3] # e[3]"
      ]
     },
     "execution_count": 5,
     "metadata": {},
     "output_type": "execute_result"
    }
   ],
   "source": [
    "JT_F([3])"
   ]
  },
  {
   "cell_type": "code",
   "execution_count": 6,
   "metadata": {},
   "outputs": [
    {
     "data": {
      "text/html": [
       "<html><script type=\"math/tex; mode=display\">\\newcommand{\\Bold}[1]{\\mathbf{#1}}\\left(q^{3} + q^{2}\\right)s_{111} + q^{2}s_{21}</script></html>"
      ],
      "text/plain": [
       "(q^3+q^2)*s[1, 1, 1] + q^2*s[2, 1]"
      ]
     },
     "execution_count": 6,
     "metadata": {},
     "output_type": "execute_result"
    }
   ],
   "source": [
    "s[3].nabla(t=1)"
   ]
  },
  {
   "cell_type": "code",
   "execution_count": 7,
   "metadata": {},
   "outputs": [
    {
     "data": {
      "text/html": [
       "<html><script type=\"math/tex; mode=display\">\\newcommand{\\Bold}[1]{\\mathbf{#1}}\\left(1111, s_{21} + s_{4}\\right)</script></html>"
      ],
      "text/plain": [
       "([1, 1, 1, 1], s[2, 1] + s[4])"
      ]
     },
     "metadata": {},
     "output_type": "display_data"
    },
    {
     "data": {
      "text/html": [
       "<html><script type=\"math/tex; mode=display\">\\newcommand{\\Bold}[1]{\\mathbf{#1}}\\left(211, s_{11} + s_{2} + s_{3}\\right)</script></html>"
      ],
      "text/plain": [
       "([2, 1, 1], s[1, 1] + s[2] + s[3])"
      ]
     },
     "metadata": {},
     "output_type": "display_data"
    },
    {
     "data": {
      "text/html": [
       "<html><script type=\"math/tex; mode=display\">\\newcommand{\\Bold}[1]{\\mathbf{#1}}\\left(22, s_{2}\\right)</script></html>"
      ],
      "text/plain": [
       "([2, 2], s[2])"
      ]
     },
     "metadata": {},
     "output_type": "display_data"
    },
    {
     "data": {
      "text/html": [
       "<html><script type=\"math/tex; mode=display\">\\newcommand{\\Bold}[1]{\\mathbf{#1}}\\left(31, s_{1}\\right)</script></html>"
      ],
      "text/plain": [
       "([3, 1], s[1])"
      ]
     },
     "metadata": {},
     "output_type": "display_data"
    }
   ],
   "source": [
    "Dishout(N_Schur([3,1]))"
   ]
  },
  {
   "cell_type": "code",
   "execution_count": 9,
   "metadata": {},
   "outputs": [
    {
     "data": {
      "text/html": [
       "<html><script type=\"math/tex; mode=display\">\\newcommand{\\Bold}[1]{\\mathbf{#1}}-s_{1} \\otimes e_{21} - s_{11} \\otimes e_{3} - s_{2} \\otimes e_{21} - s_{3} \\otimes e_{3}</script></html>"
      ],
      "text/plain": [
       "-s[1] # e[2, 1] - s[1, 1] # e[3] - s[2] # e[2, 1] - s[3] # e[3]"
      ]
     },
     "execution_count": 9,
     "metadata": {},
     "output_type": "execute_result"
    }
   ],
   "source": [
    "JT_F([2,1])"
   ]
  },
  {
   "cell_type": "code",
   "execution_count": 10,
   "metadata": {},
   "outputs": [
    {
     "data": {
      "text/html": [
       "<html><script type=\"math/tex; mode=display\">\\newcommand{\\Bold}[1]{\\mathbf{#1}}\\left(211, \\mathbb{1} + s_{1}\\right)</script></html>"
      ],
      "text/plain": [
       "([2, 1, 1], s[] + s[1])"
      ]
     },
     "metadata": {},
     "output_type": "display_data"
    },
    {
     "data": {
      "text/html": [
       "<html><script type=\"math/tex; mode=display\">\\newcommand{\\Bold}[1]{\\mathbf{#1}}\\left(22, s_{2}\\right)</script></html>"
      ],
      "text/plain": [
       "([2, 2], s[2])"
      ]
     },
     "metadata": {},
     "output_type": "display_data"
    },
    {
     "data": {
      "text/html": [
       "<html><script type=\"math/tex; mode=display\">\\newcommand{\\Bold}[1]{\\mathbf{#1}}\\left(31, s_{1} + s_{11} + s_{2} + s_{3}\\right)</script></html>"
      ],
      "text/plain": [
       "([3, 1], s[1] + s[1, 1] + s[2] + s[3])"
      ]
     },
     "metadata": {},
     "output_type": "display_data"
    },
    {
     "data": {
      "text/html": [
       "<html><script type=\"math/tex; mode=display\">\\newcommand{\\Bold}[1]{\\mathbf{#1}}\\left(4, s_{21} + s_{4}\\right)</script></html>"
      ],
      "text/plain": [
       "([4], s[2, 1] + s[4])"
      ]
     },
     "metadata": {},
     "output_type": "display_data"
    }
   ],
   "source": [
    "Dishout(CalF_mu(Partition([3,1])),f)"
   ]
  },
  {
   "cell_type": "markdown",
   "metadata": {},
   "source": [
    "### Formal Frobenius in terms of $k$\n",
    "\n",
    "$$\n",
    "\\mathcal{E}_{mn}(k;z)=\\sum_{\\mu\\vdash n} \\sum_j b_{\\mu,j}\\binom{k}{j}\\ s_\\mu(z),\n",
    "\\qquad{\\rm and}\\qquad\n",
    "\\mathcal{E}_{mn}(1+k;z)=\\sum_{\\mu\\vdash n} \\sum_j c_{\\mu,j}\\binom{k}{j}\\ e_\\mu(z)$$\n",
    "\n",
    "### This is an $e$-analog of the Zeta polynomial"
   ]
  },
  {
   "cell_type": "code",
   "execution_count": 11,
   "metadata": {
    "scrolled": true
   },
   "outputs": [
    {
     "data": {
      "text/html": [
       "<html><script type=\"math/tex; mode=display\">\\newcommand{\\Bold}[1]{\\mathbf{#1}}{k \\choose 0}e_{1111} + \\left({k \\choose 3} + 4 \\, {k \\choose 2} + 6 \\, {k \\choose 1}\\right)e_{211} + \\left({k \\choose 4} + 5 \\, {k \\choose 3} + 7 \\, {k \\choose 2} + 2 \\, {k \\choose 1}\\right)e_{22} + \\left({k \\choose 5} + 8 \\, {k \\choose 4} + 19 \\, {k \\choose 3} + 18 \\, {k \\choose 2} + 4 \\, {k \\choose 1}\\right)e_{31} + \\left({k \\choose 6} + 9 \\, {k \\choose 5} + 25 \\, {k \\choose 4} + 29 \\, {k \\choose 3} + 12 \\, {k \\choose 2} + {k \\choose 1}\\right)e_{4}</script></html>"
      ],
      "text/plain": [
       "(binomial(k,0))*e[1, 1, 1, 1] + (binomial(k,3)+4*binomial(k,2)+6*binomial(k,1))*e[2, 1, 1] + (binomial(k,4)+5*binomial(k,3)+7*binomial(k,2)+2*binomial(k,1))*e[2, 2] + (binomial(k,5)+8*binomial(k,4)+19*binomial(k,3)+18*binomial(k,2)+4*binomial(k,1))*e[3, 1] + (binomial(k,6)+9*binomial(k,5)+25*binomial(k,4)+29*binomial(k,3)+12*binomial(k,2)+binomial(k,1))*e[4]"
      ]
     },
     "execution_count": 11,
     "metadata": {},
     "output_type": "execute_result"
    }
   ],
   "source": [
    "CalF_mn_k(4,4)"
   ]
  },
  {
   "cell_type": "markdown",
   "metadata": {},
   "source": [
    "## Does the hook-shape conjecture imply positivity of the coefficients in  $\\mathcal{F}_{mn}$ for hooks?"
   ]
  },
  {
   "cell_type": "code",
   "execution_count": 12,
   "metadata": {},
   "outputs": [
    {
     "data": {
      "text/html": [
       "<html><script type=\"math/tex; mode=display\">\\newcommand{\\Bold}[1]{\\mathbf{#1}}\\left(1111111, 0\\right)</script></html>"
      ],
      "text/plain": [
       "([1, 1, 1, 1, 1, 1, 1], 0)"
      ]
     },
     "metadata": {},
     "output_type": "display_data"
    },
    {
     "data": {
      "text/html": [
       "<html><script type=\"math/tex; mode=display\">\\newcommand{\\Bold}[1]{\\mathbf{#1}}\\left(211111, 0\\right)</script></html>"
      ],
      "text/plain": [
       "([2, 1, 1, 1, 1, 1], 0)"
      ]
     },
     "metadata": {},
     "output_type": "display_data"
    },
    {
     "data": {
      "text/html": [
       "<html><script type=\"math/tex; mode=display\">\\newcommand{\\Bold}[1]{\\mathbf{#1}}\\left(31111, 0\\right)</script></html>"
      ],
      "text/plain": [
       "([3, 1, 1, 1, 1], 0)"
      ]
     },
     "metadata": {},
     "output_type": "display_data"
    },
    {
     "data": {
      "text/html": [
       "<html><script type=\"math/tex; mode=display\">\\newcommand{\\Bold}[1]{\\mathbf{#1}}\\left(4111, 0\\right)</script></html>"
      ],
      "text/plain": [
       "([4, 1, 1, 1], 0)"
      ]
     },
     "metadata": {},
     "output_type": "display_data"
    },
    {
     "data": {
      "text/html": [
       "<html><script type=\"math/tex; mode=display\">\\newcommand{\\Bold}[1]{\\mathbf{#1}}\\left(511, 0\\right)</script></html>"
      ],
      "text/plain": [
       "([5, 1, 1], 0)"
      ]
     },
     "metadata": {},
     "output_type": "display_data"
    },
    {
     "data": {
      "text/html": [
       "<html><script type=\"math/tex; mode=display\">\\newcommand{\\Bold}[1]{\\mathbf{#1}}\\left(61, 0\\right)</script></html>"
      ],
      "text/plain": [
       "([6, 1], 0)"
      ]
     },
     "metadata": {},
     "output_type": "display_data"
    },
    {
     "data": {
      "text/html": [
       "<html><script type=\"math/tex; mode=display\">\\newcommand{\\Bold}[1]{\\mathbf{#1}}\\left(7, 0\\right)</script></html>"
      ],
      "text/plain": [
       "([7], 0)"
      ]
     },
     "metadata": {},
     "output_type": "display_data"
    }
   ],
   "source": [
    "n=7\n",
    "m=6\n",
    "F=CalF_mn(m,n)\n",
    "for mu in hooks(n):\n",
    "    show((mu,Scalar2(F,f(mu))\n",
    "         -Scalar2(CalE_mn(m,n),s(mu.conjugate()))))"
   ]
  },
  {
   "cell_type": "markdown",
   "metadata": {},
   "source": [
    "### For $\\binom{n-2}{2}\\leq k\\leq \\binom{n}{2}-n+1$, we have\n",
    "\n",
    "## $$h_{k+n-1}^\\perp \\mathcal{E}_n= h_k^\\perp \\mathcal{E}_{n-1,n}$$\n",
    "\n",
    "May be generalized (see below)."
   ]
  },
  {
   "cell_type": "code",
   "execution_count": 13,
   "metadata": {
    "scrolled": true
   },
   "outputs": [
    {
     "data": {
      "text/html": [
       "<html><script type=\"math/tex; mode=display\">\\newcommand{\\Bold}[1]{\\mathbf{#1}}\\left(6, 11, 0\\right)</script></html>"
      ],
      "text/plain": [
       "(6, 11, 0)"
      ]
     },
     "metadata": {},
     "output_type": "display_data"
    },
    {
     "data": {
      "text/html": [
       "<html><script type=\"math/tex; mode=display\">\\newcommand{\\Bold}[1]{\\mathbf{#1}}\\left(7, 12, 0\\right)</script></html>"
      ],
      "text/plain": [
       "(7, 12, 0)"
      ]
     },
     "metadata": {},
     "output_type": "display_data"
    },
    {
     "data": {
      "text/html": [
       "<html><script type=\"math/tex; mode=display\">\\newcommand{\\Bold}[1]{\\mathbf{#1}}\\left(8, 13, 0\\right)</script></html>"
      ],
      "text/plain": [
       "(8, 13, 0)"
      ]
     },
     "metadata": {},
     "output_type": "display_data"
    },
    {
     "data": {
      "text/html": [
       "<html><script type=\"math/tex; mode=display\">\\newcommand{\\Bold}[1]{\\mathbf{#1}}\\left(9, 14, 0\\right)</script></html>"
      ],
      "text/plain": [
       "(9, 14, 0)"
      ]
     },
     "metadata": {},
     "output_type": "display_data"
    },
    {
     "data": {
      "text/html": [
       "<html><script type=\"math/tex; mode=display\">\\newcommand{\\Bold}[1]{\\mathbf{#1}}\\left(10, 15, 0\\right)</script></html>"
      ],
      "text/plain": [
       "(10, 15, 0)"
      ]
     },
     "metadata": {},
     "output_type": "display_data"
    }
   ],
   "source": [
    "n=6\n",
    "for k in range(binomial(n-2,2),binomial(n,2)-n+2):\n",
    "    show((k,k+n-1,Skew1(h[k+n-1],CalE_mn(n))-Skew1(h[k],CalE_mn(n-1,n))))"
   ]
  },
  {
   "cell_type": "code",
   "execution_count": 14,
   "metadata": {},
   "outputs": [
    {
     "data": {
      "text/html": [
       "<html><script type=\"math/tex; mode=display\">\\newcommand{\\Bold}[1]{\\mathbf{#1}}\\left(2, \\left[\\mathrm{False}, \\mathrm{True}, \\mathrm{True}\\right]\\right)</script></html>"
      ],
      "text/plain": [
       "(2, [False, True, True])"
      ]
     },
     "metadata": {},
     "output_type": "display_data"
    },
    {
     "data": {
      "text/html": [
       "<html><script type=\"math/tex; mode=display\">\\newcommand{\\Bold}[1]{\\mathbf{#1}}\\left(3, \\left[\\mathrm{False}, \\mathrm{False}, \\mathrm{True}, \\mathrm{True}, \\mathrm{True}\\right]\\right)</script></html>"
      ],
      "text/plain": [
       "(3, [False, False, True, True, True])"
      ]
     },
     "metadata": {},
     "output_type": "display_data"
    },
    {
     "data": {
      "text/html": [
       "<html><script type=\"math/tex; mode=display\">\\newcommand{\\Bold}[1]{\\mathbf{#1}}\\left(4, \\left[\\mathrm{False}, \\mathrm{False}, \\mathrm{False}, \\mathrm{True}, \\mathrm{True}, \\mathrm{True}, \\mathrm{True}\\right]\\right)</script></html>"
      ],
      "text/plain": [
       "(4, [False, False, False, True, True, True, True])"
      ]
     },
     "metadata": {},
     "output_type": "display_data"
    }
   ],
   "source": [
    "n=5\n",
    "for r in range(2,n):\n",
    "    show((r,[(Skew_hk_E_mn(Deg1(CalE_mn(n,n))-Deg1(CalE_mn(r,n))+j,n,n)==Skew_hk_E_mn(j,r,n)) \n",
    "             for j in range(Deg1(CalE_mn(r,n))+1)]))"
   ]
  },
  {
   "cell_type": "code",
   "execution_count": 15,
   "metadata": {},
   "outputs": [
    {
     "data": {
      "text/html": [
       "<html><script type=\"math/tex; mode=display\">\\newcommand{\\Bold}[1]{\\mathbf{#1}}\\left(2, \\left[\\mathrm{False}, \\mathrm{False}, \\mathrm{True}, \\mathrm{True}\\right]\\right)</script></html>"
      ],
      "text/plain": [
       "(2, [False, False, True, True])"
      ]
     },
     "metadata": {},
     "output_type": "display_data"
    },
    {
     "data": {
      "text/html": [
       "<html><script type=\"math/tex; mode=display\">\\newcommand{\\Bold}[1]{\\mathbf{#1}}\\left(3, \\left[\\mathrm{False}, \\mathrm{False}, \\mathrm{False}, \\mathrm{False}, \\mathrm{True}, \\mathrm{True}, \\mathrm{True}\\right]\\right)</script></html>"
      ],
      "text/plain": [
       "(3, [False, False, False, False, True, True, True])"
      ]
     },
     "metadata": {},
     "output_type": "display_data"
    },
    {
     "data": {
      "text/html": [
       "<html><script type=\"math/tex; mode=display\">\\newcommand{\\Bold}[1]{\\mathbf{#1}}\\left(4, \\left[\\mathrm{False}, \\mathrm{False}, \\mathrm{False}, \\mathrm{False}, \\mathrm{False}, \\mathrm{True}, \\mathrm{True}, \\mathrm{True}, \\mathrm{True}\\right]\\right)</script></html>"
      ],
      "text/plain": [
       "(4, [False, False, False, False, False, True, True, True, True])"
      ]
     },
     "metadata": {},
     "output_type": "display_data"
    },
    {
     "data": {
      "text/html": [
       "<html><script type=\"math/tex; mode=display\">\\newcommand{\\Bold}[1]{\\mathbf{#1}}\\left(5, \\left[\\mathrm{False}, \\mathrm{False}, \\mathrm{False}, \\mathrm{False}, \\mathrm{False}, \\mathrm{False}, \\mathrm{True}, \\mathrm{True}, \\mathrm{True}, \\mathrm{True}, \\mathrm{True}\\right]\\right)</script></html>"
      ],
      "text/plain": [
       "(5, [False, False, False, False, False, False, True, True, True, True, True])"
      ]
     },
     "metadata": {},
     "output_type": "display_data"
    }
   ],
   "source": [
    "n=6\n",
    "for r in range(2,n):\n",
    "    show((r,[(Skew_hk_E_mn(Deg1(CalE_mn(n,n))-Deg1(CalE_mn(r,n))+j,n,n)==Skew_hk_E_mn(j,r,n)) \n",
    "             for j in range(Deg1(CalE_mn(r,n))+1)]))"
   ]
  },
  {
   "cell_type": "code",
   "execution_count": 16,
   "metadata": {},
   "outputs": [
    {
     "data": {
      "text/html": [
       "<html><script type=\"math/tex; mode=display\">\\newcommand{\\Bold}[1]{\\mathbf{#1}}\\left(2, \\left[\\mathrm{False}, \\mathrm{False}, \\mathrm{True}, \\mathrm{True}\\right]\\right)</script></html>"
      ],
      "text/plain": [
       "(2, [False, False, True, True])"
      ]
     },
     "metadata": {},
     "output_type": "display_data"
    },
    {
     "data": {
      "text/html": [
       "<html><script type=\"math/tex; mode=display\">\\newcommand{\\Bold}[1]{\\mathbf{#1}}\\left(3, \\left[\\mathrm{False}, \\mathrm{False}, \\mathrm{False}, \\mathrm{False}, \\mathrm{True}, \\mathrm{True}, \\mathrm{True}\\right]\\right)</script></html>"
      ],
      "text/plain": [
       "(3, [False, False, False, False, True, True, True])"
      ]
     },
     "metadata": {},
     "output_type": "display_data"
    },
    {
     "data": {
      "text/html": [
       "<html><script type=\"math/tex; mode=display\">\\newcommand{\\Bold}[1]{\\mathbf{#1}}\\left(4, \\left[\\mathrm{False}, \\mathrm{False}, \\mathrm{False}, \\mathrm{False}, \\mathrm{False}, \\mathrm{False}, \\mathrm{True}, \\mathrm{True}, \\mathrm{True}, \\mathrm{True}\\right]\\right)</script></html>"
      ],
      "text/plain": [
       "(4, [False, False, False, False, False, False, True, True, True, True])"
      ]
     },
     "metadata": {},
     "output_type": "display_data"
    },
    {
     "data": {
      "text/html": [
       "<html><script type=\"math/tex; mode=display\">\\newcommand{\\Bold}[1]{\\mathbf{#1}}\\left(5, \\left[\\mathrm{False}, \\mathrm{False}, \\mathrm{False}, \\mathrm{False}, \\mathrm{False}, \\mathrm{False}, \\mathrm{False}, \\mathrm{False}, \\mathrm{True}, \\mathrm{True}, \\mathrm{True}, \\mathrm{True}, \\mathrm{True}\\right]\\right)</script></html>"
      ],
      "text/plain": [
       "(5,\n",
       " [False,\n",
       "  False,\n",
       "  False,\n",
       "  False,\n",
       "  False,\n",
       "  False,\n",
       "  False,\n",
       "  False,\n",
       "  True,\n",
       "  True,\n",
       "  True,\n",
       "  True,\n",
       "  True])"
      ]
     },
     "metadata": {},
     "output_type": "display_data"
    },
    {
     "data": {
      "text/html": [
       "<html><script type=\"math/tex; mode=display\">\\newcommand{\\Bold}[1]{\\mathbf{#1}}\\left(6, \\left[\\mathrm{False}, \\mathrm{False}, \\mathrm{False}, \\mathrm{False}, \\mathrm{False}, \\mathrm{False}, \\mathrm{False}, \\mathrm{False}, \\mathrm{False}, \\mathrm{False}, \\mathrm{True}, \\mathrm{True}, \\mathrm{True}, \\mathrm{True}, \\mathrm{True}, \\mathrm{True}\\right]\\right)</script></html>"
      ],
      "text/plain": [
       "(6,\n",
       " [False,\n",
       "  False,\n",
       "  False,\n",
       "  False,\n",
       "  False,\n",
       "  False,\n",
       "  False,\n",
       "  False,\n",
       "  False,\n",
       "  False,\n",
       "  True,\n",
       "  True,\n",
       "  True,\n",
       "  True,\n",
       "  True,\n",
       "  True])"
      ]
     },
     "metadata": {},
     "output_type": "display_data"
    }
   ],
   "source": [
    "n=7\n",
    "for r in range(2,n):\n",
    "    show((r,[(Skew_hk_E_mn(Deg1(CalE_mn(n,n))-Deg1(CalE_mn(r,n))+j,n,n)==Skew_hk_E_mn(j,r,n)) \n",
    "             for j in range(Deg1(CalE_mn(r,n))+1)]))"
   ]
  },
  {
   "cell_type": "markdown",
   "metadata": {},
   "source": [
    "## $$\\mathcal{F}_{mn}:=\\mathcal{E}_{mn}[1+\\mathbf{q};\\mathbf{x}]$$"
   ]
  },
  {
   "cell_type": "markdown",
   "metadata": {},
   "source": [
    "## Test of $e$-positivity formulas\n",
    "\n",
    "### When $m=n$, if $\\mu=(n-k,1^k)$, with $k<n-1$, we have\n",
    "### $$\\langle \\mathcal{F}_n ,f_\\mu\\rangle = \n",
    "\\sum_{j=1}^{k+1} \\langle \\mathcal{E}_n,s_{(j,1^{n-k-1})}\\rangle $$\n",
    "\n",
    "### When $m<n$, if $\\mu$ is a hook shape, we have\n",
    "### $$\\langle \\mathcal{F}_n ,f_\\mu\\rangle = \n",
    " \\langle \\mathcal{E}_n,s_{\\mu'}\\rangle $$\n",
    "\n",
    "  "
   ]
  },
  {
   "cell_type": "code",
   "execution_count": 17,
   "metadata": {},
   "outputs": [
    {
     "data": {
      "text/html": [
       "<html><script type=\"math/tex; mode=display\">\\newcommand{\\Bold}[1]{\\mathbf{#1}}\\left(1, \\left[\\mathrm{True}\\right]\\right)</script></html>"
      ],
      "text/plain": [
       "(1, [True])"
      ]
     },
     "metadata": {},
     "output_type": "display_data"
    },
    {
     "data": {
      "text/html": [
       "<html><script type=\"math/tex; mode=display\">\\newcommand{\\Bold}[1]{\\mathbf{#1}}\\left(2, \\left[\\mathrm{True}, \\mathrm{True}\\right]\\right)</script></html>"
      ],
      "text/plain": [
       "(2, [True, True])"
      ]
     },
     "metadata": {},
     "output_type": "display_data"
    },
    {
     "data": {
      "text/html": [
       "<html><script type=\"math/tex; mode=display\">\\newcommand{\\Bold}[1]{\\mathbf{#1}}\\left(3, \\left[\\mathrm{True}, \\mathrm{True}, \\mathrm{True}\\right]\\right)</script></html>"
      ],
      "text/plain": [
       "(3, [True, True, True])"
      ]
     },
     "metadata": {},
     "output_type": "display_data"
    },
    {
     "data": {
      "text/html": [
       "<html><script type=\"math/tex; mode=display\">\\newcommand{\\Bold}[1]{\\mathbf{#1}}\\left(4, \\left[\\mathrm{True}, \\mathrm{True}, \\mathrm{True}, \\mathrm{True}\\right]\\right)</script></html>"
      ],
      "text/plain": [
       "(4, [True, True, True, True])"
      ]
     },
     "metadata": {},
     "output_type": "display_data"
    },
    {
     "data": {
      "text/html": [
       "<html><script type=\"math/tex; mode=display\">\\newcommand{\\Bold}[1]{\\mathbf{#1}}\\left(5, \\left[\\mathrm{True}, \\mathrm{True}, \\mathrm{True}, \\mathrm{True}, \\mathrm{True}\\right]\\right)</script></html>"
      ],
      "text/plain": [
       "(5, [True, True, True, True, True])"
      ]
     },
     "metadata": {},
     "output_type": "display_data"
    },
    {
     "data": {
      "text/html": [
       "<html><script type=\"math/tex; mode=display\">\\newcommand{\\Bold}[1]{\\mathbf{#1}}\\left(6, \\left[\\mathrm{True}, \\mathrm{True}, \\mathrm{True}, \\mathrm{True}, \\mathrm{True}, \\mathrm{True}\\right]\\right)</script></html>"
      ],
      "text/plain": [
       "(6, [True, True, True, True, True, True])"
      ]
     },
     "metadata": {},
     "output_type": "display_data"
    }
   ],
   "source": [
    "for n in range(1,7):\n",
    "    show((n,[test_epos_hook(n,k) for k in range(n)]))"
   ]
  },
  {
   "cell_type": "markdown",
   "metadata": {},
   "source": [
    "### Les $\\mathrm{LLT}_{\\mu,n}$ sont $e$-positifs lorsqu'on remplace $t$ par $t+1$."
   ]
  },
  {
   "cell_type": "code",
   "execution_count": 77,
   "metadata": {},
   "outputs": [],
   "source": [
    "def Formule_LLT(mu,n):\n",
    "    if not staircase(n,n).contains(mu): return 0\n",
    "    elif mu==[0]: return e_rho_mu(mu,n)\n",
    "    elif mu[0]==1: return e_rho_mu(mu,n)+t*e[n]\n",
    "    elif mu.length()==1: return (t+1)*e_rho_mu(mu,n)+(t^2+t)*e[n]\n",
    "    elif mu==staircase(n,n): return e(P([4])).map_coefficients(lambda c: c.substitute({q:t+1}))\n",
    "    else: return 0*LLT(Partition(mu),n,t+1)"
   ]
  },
  {
   "cell_type": "code",
   "execution_count": 129,
   "metadata": {},
   "outputs": [
    {
     "data": {
      "text/html": [
       "<html><script type=\"math/tex; mode=display\">\\newcommand{\\Bold}[1]{\\mathbf{#1}}\\left(11, 4\\right)</script></html>"
      ],
      "text/plain": [
       "([1, 1], 4)"
      ]
     },
     "execution_count": 129,
     "metadata": {},
     "output_type": "execute_result"
    }
   ],
   "source": [
    "test_non_P(Partition([1,1]),4)"
   ]
  },
  {
   "cell_type": "markdown",
   "metadata": {},
   "source": [
    "### Les plus longue expressions des LLT en terme des P"
   ]
  },
  {
   "cell_type": "code",
   "execution_count": 19,
   "metadata": {},
   "outputs": [],
   "source": [
    "@cached_function\n",
    "def LLT_to_length(n,k):\n",
    "    return [mu for mu in Dyck(n) if (P(LLT(mu,n,q)).coefficients()).__len__()==k]"
   ]
  },
  {
   "cell_type": "code",
   "execution_count": 21,
   "metadata": {},
   "outputs": [
    {
     "data": {
      "text/html": [
       "<html><script type=\"math/tex; mode=display\">\\newcommand{\\Bold}[1]{\\mathbf{#1}}\\left[0, 1, 2, 3, 21, 4, 31, 22, 1111, 32, 42, 33, 321, 222, 43, 421, 4111, 331, 322, 2221, 431, 422, 332, 3311, 432, 4311, 4221, 3321, 4321\\right]</script></html>"
      ],
      "text/plain": [
       "[[],\n",
       " [1],\n",
       " [2],\n",
       " [3],\n",
       " [2, 1],\n",
       " [4],\n",
       " [3, 1],\n",
       " [2, 2],\n",
       " [1, 1, 1, 1],\n",
       " [3, 2],\n",
       " [4, 2],\n",
       " [3, 3],\n",
       " [3, 2, 1],\n",
       " [2, 2, 2],\n",
       " [4, 3],\n",
       " [4, 2, 1],\n",
       " [4, 1, 1, 1],\n",
       " [3, 3, 1],\n",
       " [3, 2, 2],\n",
       " [2, 2, 2, 1],\n",
       " [4, 3, 1],\n",
       " [4, 2, 2],\n",
       " [3, 3, 2],\n",
       " [3, 3, 1, 1],\n",
       " [4, 3, 2],\n",
       " [4, 3, 1, 1],\n",
       " [4, 2, 2, 1],\n",
       " [3, 3, 2, 1],\n",
       " [4, 3, 2, 1]]"
      ]
     },
     "execution_count": 21,
     "metadata": {},
     "output_type": "execute_result"
    }
   ],
   "source": [
    "LLT_to_length(5,1)"
   ]
  },
  {
   "cell_type": "code",
   "execution_count": 159,
   "metadata": {},
   "outputs": [
    {
     "data": {
      "text/html": [
       "<html><script type=\"math/tex; mode=display\">\\newcommand{\\Bold}[1]{\\mathbf{#1}}\\left[2211, 32211\\right]</script></html>"
      ],
      "text/plain": [
       "[[2, 2, 1, 1], [3, 2, 2, 1, 1]]"
      ]
     },
     "execution_count": 159,
     "metadata": {},
     "output_type": "execute_result"
    }
   ],
   "source": [
    "LLT_to_length(6,5)"
   ]
  },
  {
   "cell_type": "code",
   "execution_count": 160,
   "metadata": {},
   "outputs": [
    {
     "data": {
      "text/html": [
       "<html><script type=\"math/tex; mode=display\">\\newcommand{\\Bold}[1]{\\mathbf{#1}}\\left[32211, 332211\\right]</script></html>"
      ],
      "text/plain": [
       "[[3, 2, 2, 1, 1], [3, 3, 2, 2, 1, 1]]"
      ]
     },
     "execution_count": 160,
     "metadata": {},
     "output_type": "execute_result"
    }
   ],
   "source": [
    "LLT_to_length(7,7)"
   ]
  },
  {
   "cell_type": "code",
   "execution_count": null,
   "metadata": {},
   "outputs": [],
   "source": []
  },
  {
   "cell_type": "code",
   "execution_count": null,
   "metadata": {},
   "outputs": [],
   "source": [
    "for n in range(2,9):\n",
    "    show((n,Partitions(n-2).cardinality(),LLT_to_length(n)))"
   ]
  },
  {
   "cell_type": "code",
   "execution_count": 153,
   "metadata": {},
   "outputs": [
    {
     "data": {
      "text/html": [
       "<html><script type=\"math/tex; mode=display\">\\newcommand{\\Bold}[1]{\\mathbf{#1}}\\begin{array}{l}\n",
       "\\verb|0:|\\phantom{\\verb!x!}\\verb|A000041:|\\phantom{\\verb!x!}\\verb|a(n)|\\phantom{\\verb!x!}\\verb|is|\\phantom{\\verb!x!}\\verb|the|\\phantom{\\verb!x!}\\verb|number|\\phantom{\\verb!x!}\\verb|of|\\phantom{\\verb!x!}\\verb|partitions|\\phantom{\\verb!x!}\\verb|of|\\phantom{\\verb!x!}\\verb|n|\\phantom{\\verb!x!}\\verb|(the|\\phantom{\\verb!x!}\\verb|partition|\\phantom{\\verb!x!}\\verb|numbers).|\\\\\n",
       "\\verb|1:|\\phantom{\\verb!x!}\\verb|A008578:|\\phantom{\\verb!x!}\\verb|Prime|\\phantom{\\verb!x!}\\verb|numbers|\\phantom{\\verb!x!}\\verb|at|\\phantom{\\verb!x!}\\verb|the|\\phantom{\\verb!x!}\\verb|beginning|\\phantom{\\verb!x!}\\verb|of|\\phantom{\\verb!x!}\\verb|the|\\phantom{\\verb!x!}\\verb|20th|\\phantom{\\verb!x!}\\verb|century|\\phantom{\\verb!x!}\\verb|(today|\\phantom{\\verb!x!}\\verb|1|\\phantom{\\verb!x!}\\verb|is|\\phantom{\\verb!x!}\\verb|no|\\phantom{\\verb!x!}\\verb|longer|\\phantom{\\verb!x!}\\verb|regarded|\\phantom{\\verb!x!}\\verb|as|\\phantom{\\verb!x!}\\verb|a|\\phantom{\\verb!x!}\\verb|prime).|\\\\\n",
       "\\verb|2:|\\phantom{\\verb!x!}\\verb|A002379:|\\phantom{\\verb!x!}\\verb|a(n)|\\phantom{\\verb!x!}\\verb|=|\\phantom{\\verb!x!}\\verb|floor(3^n|\\phantom{\\verb!x!}\\verb|/|\\phantom{\\verb!x!}\\verb|2^n).|\n",
       "\\end{array}</script></html>"
      ],
      "text/plain": [
       "0: A000041: a(n) is the number of partitions of n (the partition numbers).\n",
       "1: A008578: Prime numbers at the beginning of the 20th century (today 1 is no longer regarded as a prime).\n",
       "2: A002379: a(n) = floor(3^n / 2^n)."
      ]
     },
     "execution_count": 153,
     "metadata": {},
     "output_type": "execute_result"
    }
   ],
   "source": [
    "oeis([1,2,3,5,7,11])"
   ]
  },
  {
   "cell_type": "code",
   "execution_count": 151,
   "metadata": {},
   "outputs": [
    {
     "data": {
      "text/html": [
       "<html><script type=\"math/tex; mode=display\">\\newcommand{\\Bold}[1]{\\mathbf{#1}}e_{221} + qe_{311} + \\left(q^{2} + 2 q\\right)e_{32} + \\left(q^{3} + 3 q^{2} + q\\right)e_{41} + \\left(q^{4} + 3 q^{3} + 2 q^{2}\\right)e_{5}</script></html>"
      ],
      "text/plain": [
       "e[2, 2, 1] + q*e[3, 1, 1] + (q^2+2*q)*e[3, 2] + (q^3+3*q^2+q)*e[4, 1] + (q^4+3*q^3+2*q^2)*e[5]"
      ]
     },
     "execution_count": 151,
     "metadata": {},
     "output_type": "execute_result"
    }
   ],
   "source": [
    "e(P([3,2])).map_coefficients(lambda c:c.substitute({q:q+1}))"
   ]
  },
  {
   "cell_type": "code",
   "execution_count": 142,
   "metadata": {},
   "outputs": [
    {
     "data": {
      "text/html": [
       "<html><script type=\"math/tex; mode=display\">\\newcommand{\\Bold}[1]{\\mathbf{#1}}\\left[14, 42, 132, 429, 1430\\right]</script></html>"
      ],
      "text/plain": [
       "[14, 42, 132, 429, 1430]"
      ]
     },
     "execution_count": 142,
     "metadata": {},
     "output_type": "execute_result"
    }
   ],
   "source": [
    "[1/(n+1)*binomial(2*n,n) for n in range(4,9)]"
   ]
  },
  {
   "cell_type": "code",
   "execution_count": 148,
   "metadata": {},
   "outputs": [
    {
     "data": {
      "text/html": [
       "<html><script type=\"math/tex; mode=display\">\\newcommand{\\Bold}[1]{\\mathbf{#1}}qP_{2111111}</script></html>"
      ],
      "text/plain": [
       "q*McdH[2, 1, 1, 1, 1, 1, 1]"
      ]
     },
     "execution_count": 148,
     "metadata": {},
     "output_type": "execute_result"
    }
   ],
   "source": [
    "P(LLT(Partition([6]),8,q))"
   ]
  },
  {
   "cell_type": "code",
   "execution_count": 5,
   "metadata": {},
   "outputs": [
    {
     "data": {
      "text/html": [
       "<html><script type=\"math/tex; mode=display\">\\newcommand{\\Bold}[1]{\\mathbf{#1}}\\left[0, \\left(1, 0\\right), \\left(2, 0\\right), \\left(3, 0\\right), \\left(4, 0\\right), \\left(5, 0\\right), \\left(6, 0\\right), \\left(7, 0\\right), \\left(8, 0\\right)\\right]</script></html>"
      ],
      "text/plain": [
       "[[], (1, 0), (2, 0), (3, 0), (4, 0), (5, 0), (6, 0), (7, 0), (8, 0)]"
      ]
     },
     "execution_count": 5,
     "metadata": {},
     "output_type": "execute_result"
    }
   ],
   "source": [
    "r=ListeLLT.__len__()+1\n",
    "mu=Partition([0])\n",
    "N=mu.length()+1\n",
    "[mu]+[(k,1/t*(LLT(Partition(mu),k,t+1)-LLT(Partition(mu),k,1))) for k in range(N,r)]"
   ]
  },
  {
   "cell_type": "code",
   "execution_count": 11,
   "metadata": {},
   "outputs": [
    {
     "data": {
      "text/html": [
       "<html><script type=\"math/tex; mode=display\">\\newcommand{\\Bold}[1]{\\mathbf{#1}}e_{31} + te_{4}</script></html>"
      ],
      "text/plain": [
       "e[3, 1] + t*e[4]"
      ]
     },
     "execution_count": 11,
     "metadata": {},
     "output_type": "execute_result"
    }
   ],
   "source": [
    "LLT(Partition([1]),4,t+1)"
   ]
  },
  {
   "cell_type": "code",
   "execution_count": 16,
   "metadata": {},
   "outputs": [
    {
     "data": {
      "text/html": [
       "<html><script type=\"math/tex; mode=display\">\\newcommand{\\Bold}[1]{\\mathbf{#1}}e_{21} + te_{3}</script></html>"
      ],
      "text/plain": [
       "e[2, 1] + t*e[3]"
      ]
     },
     "execution_count": 16,
     "metadata": {},
     "output_type": "execute_result"
    }
   ],
   "source": [
    "LLT(Partition([1,1]),3,t+1)"
   ]
  },
  {
   "cell_type": "code",
   "execution_count": 6,
   "metadata": {},
   "outputs": [
    {
     "data": {
      "text/html": [
       "<html><script type=\"math/tex; mode=display\">\\newcommand{\\Bold}[1]{\\mathbf{#1}}\\left[1, \\left(2, e_{2}\\right), \\left(3, e_{3}\\right), \\left(4, e_{4}\\right), \\left(5, e_{5}\\right), \\left(6, e_{6}\\right), \\left(7, e_{7}\\right), \\left(8, e_{8}\\right)\\right]</script></html>"
      ],
      "text/plain": [
       "[[1],\n",
       " (2, e[2]),\n",
       " (3, e[3]),\n",
       " (4, e[4]),\n",
       " (5, e[5]),\n",
       " (6, e[6]),\n",
       " (7, e[7]),\n",
       " (8, e[8])]"
      ]
     },
     "execution_count": 6,
     "metadata": {},
     "output_type": "execute_result"
    }
   ],
   "source": [
    "r=ListeLLT.__len__()+1\n",
    "mu=Partition([1])\n",
    "N=mu.length()+1\n",
    "[mu]+[(k,1/t*(LLT(Partition(mu),k,t+1)-LLT(Partition(mu),k,1))) for k in range(N,r)]"
   ]
  },
  {
   "cell_type": "code",
   "execution_count": 7,
   "metadata": {},
   "outputs": [
    {
     "data": {
      "text/html": [
       "<html><script type=\"math/tex; mode=display\">\\newcommand{\\Bold}[1]{\\mathbf{#1}}\\left[11, \\left(3, e_{3}\\right), \\left(4, e_{4}\\right), \\left(5, e_{5}\\right), \\left(6, e_{6}\\right), \\left(7, e_{7}\\right), \\left(8, e_{8}\\right)\\right]</script></html>"
      ],
      "text/plain": [
       "[[1, 1], (3, e[3]), (4, e[4]), (5, e[5]), (6, e[6]), (7, e[7]), (8, e[8])]"
      ]
     },
     "execution_count": 7,
     "metadata": {},
     "output_type": "execute_result"
    }
   ],
   "source": [
    "r=ListeLLT.__len__()+1\n",
    "mu=Partition([1,1])\n",
    "N=mu.length()+1\n",
    "[mu]+[(k,1/t*(LLT(Partition(mu),k,t+1)-LLT(Partition(mu),k,1))) for k in range(N,r)]"
   ]
  },
  {
   "cell_type": "code",
   "execution_count": 244,
   "metadata": {},
   "outputs": [
    {
     "data": {
      "text/html": [
       "<html><script type=\"math/tex; mode=display\">\\newcommand{\\Bold}[1]{\\mathbf{#1}}\\left[111, \\left(4, e_{4}\\right), \\left(5, e_{5}\\right), \\left(6, e_{6}\\right), \\left(7, e_{7}\\right), \\left(8, e_{8}\\right)\\right]</script></html>"
      ],
      "text/plain": [
       "[[1, 1, 1], (4, e[4]), (5, e[5]), (6, e[6]), (7, e[7]), (8, e[8])]"
      ]
     },
     "execution_count": 244,
     "metadata": {},
     "output_type": "execute_result"
    }
   ],
   "source": [
    "r=ListeLLT.__len__()+1\n",
    "mu=Partition([1,1,1])\n",
    "N=mu.length()+1\n",
    "[mu]+[(k,1/t*(LLT(Partition(mu),k,t+1)-LLT(Partition(mu),k,1))) for k in range(N,r)]"
   ]
  },
  {
   "cell_type": "code",
   "execution_count": 245,
   "metadata": {},
   "outputs": [
    {
     "data": {
      "text/html": [
       "<html><script type=\"math/tex; mode=display\">\\newcommand{\\Bold}[1]{\\mathbf{#1}}\\left[1111, \\left(5, e_{5}\\right), \\left(6, e_{6}\\right), \\left(7, e_{7}\\right), \\left(8, e_{8}\\right)\\right]</script></html>"
      ],
      "text/plain": [
       "[[1, 1, 1, 1], (5, e[5]), (6, e[6]), (7, e[7]), (8, e[8])]"
      ]
     },
     "execution_count": 245,
     "metadata": {},
     "output_type": "execute_result"
    }
   ],
   "source": [
    "r=ListeLLT.__len__()+1\n",
    "mu=Partition([1,1,1,1])\n",
    "N=mu.length()+1\n",
    "[mu]+[(k,1/t*(LLT(Partition(mu),k,t+1)-LLT(Partition(mu),k,1))) for k in range(N,r)]"
   ]
  },
  {
   "cell_type": "code",
   "execution_count": 246,
   "metadata": {},
   "outputs": [
    {
     "data": {
      "text/html": [
       "<html><script type=\"math/tex; mode=display\">\\newcommand{\\Bold}[1]{\\mathbf{#1}}\\left[2, \\left(3, e_{21} + \\left(t + 1\\right)e_{3}\\right), \\left(4, e_{31} + \\left(t + 1\\right)e_{4}\\right), \\left(5, e_{41} + \\left(t + 1\\right)e_{5}\\right), \\left(6, e_{51} + \\left(t + 1\\right)e_{6}\\right), \\left(7, e_{61} + \\left(t + 1\\right)e_{7}\\right), \\left(8, e_{71} + \\left(t + 1\\right)e_{8}\\right)\\right]</script></html>"
      ],
      "text/plain": [
       "[[2],\n",
       " (3, e[2, 1] + (t+1)*e[3]),\n",
       " (4, e[3, 1] + (t+1)*e[4]),\n",
       " (5, e[4, 1] + (t+1)*e[5]),\n",
       " (6, e[5, 1] + (t+1)*e[6]),\n",
       " (7, e[6, 1] + (t+1)*e[7]),\n",
       " (8, e[7, 1] + (t+1)*e[8])]"
      ]
     },
     "execution_count": 246,
     "metadata": {},
     "output_type": "execute_result"
    }
   ],
   "source": [
    "r=ListeLLT.__len__()+1\n",
    "mu=Partition([2])\n",
    "N=mu.length()+2\n",
    "[mu]+[(k,1/t*(LLT(Partition(mu),k,t+1)-LLT(Partition(mu),k,1))) for k in range(N,r)]"
   ]
  },
  {
   "cell_type": "code",
   "execution_count": 247,
   "metadata": {},
   "outputs": [
    {
     "data": {
      "text/html": [
       "<html><script type=\"math/tex; mode=display\">\\newcommand{\\Bold}[1]{\\mathbf{#1}}\\left[22, \\left(4, e_{22} + \\left(t + 1\\right)e_{31} + \\left(t^{2} + 2 t + 1\\right)e_{4}\\right), \\left(5, e_{32} + \\left(t + 1\\right)e_{41} + \\left(t^{2} + 2 t + 1\\right)e_{5}\\right), \\left(6, e_{42} + \\left(t + 1\\right)e_{51} + \\left(t^{2} + 2 t + 1\\right)e_{6}\\right), \\left(7, e_{52} + \\left(t + 1\\right)e_{61} + \\left(t^{2} + 2 t + 1\\right)e_{7}\\right), \\left(8, e_{62} + \\left(t + 1\\right)e_{71} + \\left(t^{2} + 2 t + 1\\right)e_{8}\\right)\\right]</script></html>"
      ],
      "text/plain": [
       "[[2, 2],\n",
       " (4, e[2, 2] + (t+1)*e[3, 1] + (t^2+2*t+1)*e[4]),\n",
       " (5, e[3, 2] + (t+1)*e[4, 1] + (t^2+2*t+1)*e[5]),\n",
       " (6, e[4, 2] + (t+1)*e[5, 1] + (t^2+2*t+1)*e[6]),\n",
       " (7, e[5, 2] + (t+1)*e[6, 1] + (t^2+2*t+1)*e[7]),\n",
       " (8, e[6, 2] + (t+1)*e[7, 1] + (t^2+2*t+1)*e[8])]"
      ]
     },
     "execution_count": 247,
     "metadata": {},
     "output_type": "execute_result"
    }
   ],
   "source": [
    "r=ListeLLT.__len__()+1\n",
    "mu=Partition([2,2])\n",
    "N=mu.length()+2\n",
    "[mu]+[(k,1/t*(LLT(Partition(mu),k,t+1)-LLT(Partition(mu),k,1))) for k in range(N,r)]"
   ]
  },
  {
   "cell_type": "code",
   "execution_count": 248,
   "metadata": {},
   "outputs": [
    {
     "data": {
      "text/html": [
       "<html><script type=\"math/tex; mode=display\">\\newcommand{\\Bold}[1]{\\mathbf{#1}}\\left[3, \\left(4, e_{31} + \\left(t + 1\\right)e_{4}\\right), \\left(5, e_{41} + \\left(t + 1\\right)e_{5}\\right), \\left(6, e_{51} + \\left(t + 1\\right)e_{6}\\right), \\left(7, e_{61} + \\left(t + 1\\right)e_{7}\\right), \\left(8, e_{71} + \\left(t + 1\\right)e_{8}\\right)\\right]</script></html>"
      ],
      "text/plain": [
       "[[3],\n",
       " (4, e[3, 1] + (t+1)*e[4]),\n",
       " (5, e[4, 1] + (t+1)*e[5]),\n",
       " (6, e[5, 1] + (t+1)*e[6]),\n",
       " (7, e[6, 1] + (t+1)*e[7]),\n",
       " (8, e[7, 1] + (t+1)*e[8])]"
      ]
     },
     "execution_count": 248,
     "metadata": {},
     "output_type": "execute_result"
    }
   ],
   "source": [
    "r=ListeLLT.__len__()+1\n",
    "mu=Partition([3])\n",
    "N=mu.length()+3\n",
    "[mu]+[(k,1/t*(LLT(Partition(mu),k,t+1)-LLT(Partition(mu),k,1))) for k in range(N,r)]"
   ]
  },
  {
   "cell_type": "code",
   "execution_count": 249,
   "metadata": {},
   "outputs": [
    {
     "data": {
      "text/html": [
       "<html><script type=\"math/tex; mode=display\">\\newcommand{\\Bold}[1]{\\mathbf{#1}}\\left[21, \\left(4, e_{22} + \\left(t + 2\\right)e_{31} + \\left(t^{2} + 2 t\\right)e_{4}\\right), \\left(5, e_{32} + \\left(t + 2\\right)e_{41} + \\left(t^{2} + 2 t\\right)e_{5}\\right), \\left(6, e_{42} + \\left(t + 2\\right)e_{51} + \\left(t^{2} + 2 t\\right)e_{6}\\right), \\left(7, e_{52} + \\left(t + 2\\right)e_{61} + \\left(t^{2} + 2 t\\right)e_{7}\\right), \\left(8, e_{62} + \\left(t + 2\\right)e_{71} + \\left(t^{2} + 2 t\\right)e_{8}\\right)\\right]</script></html>"
      ],
      "text/plain": [
       "[[2, 1],\n",
       " (4, e[2, 2] + (t+2)*e[3, 1] + (t^2+2*t)*e[4]),\n",
       " (5, e[3, 2] + (t+2)*e[4, 1] + (t^2+2*t)*e[5]),\n",
       " (6, e[4, 2] + (t+2)*e[5, 1] + (t^2+2*t)*e[6]),\n",
       " (7, e[5, 2] + (t+2)*e[6, 1] + (t^2+2*t)*e[7]),\n",
       " (8, e[6, 2] + (t+2)*e[7, 1] + (t^2+2*t)*e[8])]"
      ]
     },
     "execution_count": 249,
     "metadata": {},
     "output_type": "execute_result"
    }
   ],
   "source": [
    "r=ListeLLT.__len__()+1\n",
    "mu=Partition([2,1])\n",
    "N=mu.length()+2\n",
    "[mu]+[(k,1/t*(LLT(Partition(mu),k,t+1)-LLT(Partition(mu),k,1))) for k in range(N,r)]"
   ]
  },
  {
   "cell_type": "code",
   "execution_count": 250,
   "metadata": {},
   "outputs": [
    {
     "data": {
      "text/html": [
       "<html><script type=\"math/tex; mode=display\">\\newcommand{\\Bold}[1]{\\mathbf{#1}}\\left[211, \\left(5, e_{32} + e_{41} + te_{5}\\right), \\left(6, e_{33} + e_{51} + te_{6}\\right), \\left(7, e_{43} + e_{61} + te_{7}\\right), \\left(8, e_{53} + e_{71} + te_{8}\\right)\\right]</script></html>"
      ],
      "text/plain": [
       "[[2, 1, 1],\n",
       " (5, e[3, 2] + e[4, 1] + t*e[5]),\n",
       " (6, e[3, 3] + e[5, 1] + t*e[6]),\n",
       " (7, e[4, 3] + e[6, 1] + t*e[7]),\n",
       " (8, e[5, 3] + e[7, 1] + t*e[8])]"
      ]
     },
     "execution_count": 250,
     "metadata": {},
     "output_type": "execute_result"
    }
   ],
   "source": [
    "r=ListeLLT.__len__()+1\n",
    "mu=Partition([2,1,1])\n",
    "N=mu.length()+2\n",
    "[mu]+[(k,1/t*(LLT(Partition(mu),k,t+1)-LLT(Partition(mu),k,1))) for k in range(N,r)]"
   ]
  },
  {
   "cell_type": "code",
   "execution_count": 251,
   "metadata": {},
   "outputs": [
    {
     "data": {
      "text/html": [
       "<html><script type=\"math/tex; mode=display\">\\newcommand{\\Bold}[1]{\\mathbf{#1}}\\left[2111, \\left(6, e_{42} + e_{51} + te_{6}\\right), \\left(7, e_{43} + e_{61} + te_{7}\\right), \\left(8, e_{44} + e_{71} + te_{8}\\right)\\right]</script></html>"
      ],
      "text/plain": [
       "[[2, 1, 1, 1],\n",
       " (6, e[4, 2] + e[5, 1] + t*e[6]),\n",
       " (7, e[4, 3] + e[6, 1] + t*e[7]),\n",
       " (8, e[4, 4] + e[7, 1] + t*e[8])]"
      ]
     },
     "execution_count": 251,
     "metadata": {},
     "output_type": "execute_result"
    }
   ],
   "source": [
    "r=ListeLLT.__len__()+1\n",
    "mu=Partition([2,1,1,1])\n",
    "N=mu.length()+2\n",
    "[mu]+[(k,1/t*(LLT(Partition(mu),k,t+1)-LLT(Partition(mu),k,1))) for k in range(N,r)]"
   ]
  },
  {
   "cell_type": "markdown",
   "metadata": {},
   "source": [
    "<img src=\"Tamari-chaine.pdf\" width=\"500\" height=\"500\" />"
   ]
  },
  {
   "cell_type": "markdown",
   "metadata": {},
   "source": [
    "### Pour tout $k\\geq0$\n",
    "\n",
    "### $$\\langle \\mathcal{F}_{n},f_{n-k,1^k} \\rangle = e_k^\\perp \\langle \\mathcal{F}_{n},f_{n} \\rangle+\\langle \\mathcal{F}_{n-1},f_{n-k,1^{k-1}} \\rangle$$"
   ]
  },
  {
   "cell_type": "markdown",
   "metadata": {},
   "source": [
    "## Some properties and symmetries for $\\sigma_{m,n}(\\mu)$\n",
    "###   $$\\mathcal{F}_{m,n}=\\sum_{\\mu\\subseteq \\delta_{m,n}} \\sigma_{mn}(\\mu)\\otimes e_{\\rho(\\mu)},\\qquad{\\mathrm{equivalently}}\\qquad\n",
    "\\langle \\mathcal{F}_{mn},f_\\lambda \\rangle = \\sum_{\\rho(\\mu)\\lambda} \\sigma_{mn}(\\mu).$$\n",
    "#### When $m=n$, we also write $ \\sigma_{n}(\\mu)$ for $\\sigma_{n,n}(\\mu)$.\n",
    "### 1) $\\sigma_{m,n}(\\mu)=\\sigma_{n,m}(\\mu')$,\n",
    "\n",
    "### 2) $\\sigma_{m,n}(0)= \\langle \\mathcal{E}_{m,n},e_n\\rangle$,\n",
    "\n",
    "### 3) for $\\mu\\subseteq \\delta_{n-1}$, we have $\\sigma_n(\\mu+1^{n-1}) = \\sigma_{n-1}(\\mu)=\\sigma_n((n-1,\\mu))$,\n",
    "\n",
    "### 4)  for which $\\mu$ do we have  $\\sum_{\\nu\\preceq \\mu} \\sigma_n(\\nu) = \\sigma_{n}(\\mu)[1+\\mathbf{q}]$?\n",
    "\n",
    "### 5) $\\ell(\\sigma_n(\\mu)) = n-\\ell(\\rho(\\mu))$,\n",
    "\n",
    "### 6) for $\\mu\\subseteq \\delta_{n-1}$, we have $\\sigma_{n-1,n}(\\mu)=\\sigma_{n-1,n-1}(\\mu)$.\n",
    "\n",
    "### 7) $\\sum_{k=1}^{n-1} \\sigma_n((k))=e_1^\\perp\\sigma_n(0)$.\n",
    "\n",
    "\n",
    "### 8) $(e_j^\\perp \\mathcal{A}_n)[\\mathbf{x}+1] = \\sum_{\\mu\\subseteq \\delta_{n}} K_{(n-j,1^j),\\rho(\\mu)}  \\sigma_n(\\mu)$.\n",
    "\n",
    "### 9) $\\langle \\mathcal{E}_n,s_\\lambda\\rangle [\\mathbf{x}+1] = \\sum_{\\mu\\subseteq \\delta_{n}} K_{\\lambda',\\rho(\\mu)}  \\sigma_n(\\mu)$. \n",
    "\n",
    "### 10) $\\displaystyle e_k^\\perp \\mathcal{A}_{j}=\\sum_{{\\mathrm ens}(\\mu)=\\{1..k,j..n-1\\}}\\sigma_n(\\mu),\\qquad{\\rm for}\\qquad k<j\\leq n.$\n",
    "\n",
    "\n",
    "#### We use also a formula inspired by the Delta-conjecture (which seems to extend to the $(m,n)$-case for some $m$).\n",
    "$$(e_k^\\perp\\mathcal{F}_{m,n})[q;\\mathbf{z}]=\n",
    "    \\sum_{\\mu\\subseteq \\delta_{m,n}} \n",
    "    q^{\\mathrm{area}(\\mu)} e_k\\left[{\\textstyle\\sum_{a_i>a_{i-1}}\\frac{1}{q^{a_i}}}\\right]\\,e_{\\rho(\\mu)}(\\mathbf{z})$$\n",
    "#### that hotds \"at least\" when $m=n$, $m=n-1$, and $m\\leq 2$.    \n"
   ]
  },
  {
   "cell_type": "code",
   "execution_count": 3,
   "metadata": {},
   "outputs": [],
   "source": [
    "def RHS_ekperp_F_mn(k,m,n):\n",
    "    return add(Tenseur(pol_to_s((q^Aire(mu,m,n)*e[k](Un*add(q^(-a(mu,m,n)[i]) \n",
    "                                          for i in range(n-1) \n",
    "                                           if a(mu,m,n)[i]>a(mu,m,n)[i+1])).scalar(Un)).numerator())\n",
    "               ,mul(e[k] for k in risers(mu,n))) for mu in Dyck(m,n))\n",
    "\n",
    "def descentes(mu,n):\n",
    "    mu=Partition(mu)\n",
    "    L=list(mu)+[0 for k in range(n-mu.length())]\n",
    "    return Set([i for i in range(n-1) if L[i]>L[i+1]])\n",
    "\n",
    "@cached_function\n",
    "def Jim(mu,m,n,k):\n",
    "    b=a(mu,m,n)\n",
    "    return add(mul(q^(b[i]) for i in J) for J in Set(range(n-1)).subsets() \n",
    "               if J.issuperset(descentes(mu,n)) and J.cardinality()==k)\n",
    "\n",
    "@cached_function\n",
    "def Haglund(m,n,k):\n",
    "    return add(Jim(mu,m,n,k)*e_rho_mu(mu,n) for mu in Dyck(m,n))\n",
    "\n",
    "@cached_function\n",
    "def Haglund_F(n,k):\n",
    "    return Formal_F(add(Jim(Partition(mu),n,n,k)*llt for (mu,llt) in ListeLLT[n-1]))"
   ]
  },
  {
   "cell_type": "code",
   "execution_count": 4,
   "metadata": {},
   "outputs": [
    {
     "data": {
      "text/html": [
       "<html><script type=\"math/tex; mode=display\">\\newcommand{\\Bold}[1]{\\mathbf{#1}}\\left(2, \\left[\\mathrm{True}, \\mathrm{True}\\right]\\right)</script></html>"
      ],
      "text/plain": [
       "(2, [True, True])"
      ]
     },
     "metadata": {},
     "output_type": "display_data"
    },
    {
     "data": {
      "text/html": [
       "<html><script type=\"math/tex; mode=display\">\\newcommand{\\Bold}[1]{\\mathbf{#1}}\\left(3, \\left[\\mathrm{True}, \\mathrm{True}, \\mathrm{True}\\right]\\right)</script></html>"
      ],
      "text/plain": [
       "(3, [True, True, True])"
      ]
     },
     "metadata": {},
     "output_type": "display_data"
    },
    {
     "data": {
      "text/html": [
       "<html><script type=\"math/tex; mode=display\">\\newcommand{\\Bold}[1]{\\mathbf{#1}}\\left(4, \\left[\\mathrm{True}, \\mathrm{True}, \\mathrm{True}, \\mathrm{True}\\right]\\right)</script></html>"
      ],
      "text/plain": [
       "(4, [True, True, True, True])"
      ]
     },
     "metadata": {},
     "output_type": "display_data"
    },
    {
     "data": {
      "text/html": [
       "<html><script type=\"math/tex; mode=display\">\\newcommand{\\Bold}[1]{\\mathbf{#1}}\\left(5, \\left[\\mathrm{True}, \\mathrm{True}, \\mathrm{True}, \\mathrm{True}, \\mathrm{True}\\right]\\right)</script></html>"
      ],
      "text/plain": [
       "(5, [True, True, True, True, True])"
      ]
     },
     "metadata": {},
     "output_type": "display_data"
    },
    {
     "data": {
      "text/html": [
       "<html><script type=\"math/tex; mode=display\">\\newcommand{\\Bold}[1]{\\mathbf{#1}}\\left(6, \\left[\\mathrm{True}, \\mathrm{True}, \\mathrm{True}, \\mathrm{True}, \\mathrm{True}, \\mathrm{True}\\right]\\right)</script></html>"
      ],
      "text/plain": [
       "(6, [True, True, True, True, True, True])"
      ]
     },
     "metadata": {},
     "output_type": "display_data"
    }
   ],
   "source": [
    "for n in range(2,7):\n",
    "    show((n,[Haglund_F(n,k)==DeltaPrime(e[k],e[n]) for k in range(n)]))"
   ]
  },
  {
   "cell_type": "code",
   "execution_count": 8,
   "metadata": {},
   "outputs": [
    {
     "data": {
      "text/html": [
       "<html><script type=\"math/tex; mode=display\">\\newcommand{\\Bold}[1]{\\mathbf{#1}}\\left(1, \\left[\\left(0, \\mathrm{True}\\right), \\left(1, \\mathrm{True}\\right), \\left(2, \\mathrm{False}\\right), \\left(3, \\mathrm{False}\\right), \\left(4, \\mathrm{False}\\right), \\left(5, \\mathrm{False}\\right), \\left(6, \\mathrm{False}\\right), \\left(7, \\mathrm{False}\\right), \\left(8, \\mathrm{False}\\right)\\right]\\right)</script></html>"
      ],
      "text/plain": [
       "(1,\n",
       " [(0, True),\n",
       "  (1, True),\n",
       "  (2, False),\n",
       "  (3, False),\n",
       "  (4, False),\n",
       "  (5, False),\n",
       "  (6, False),\n",
       "  (7, False),\n",
       "  (8, False)])"
      ]
     },
     "metadata": {},
     "output_type": "display_data"
    },
    {
     "data": {
      "text/html": [
       "<html><script type=\"math/tex; mode=display\">\\newcommand{\\Bold}[1]{\\mathbf{#1}}\\left(2, \\left[\\left(0, \\mathrm{True}\\right), \\left(1, \\mathrm{True}\\right), \\left(2, \\mathrm{True}\\right), \\left(3, \\mathrm{True}\\right), \\left(4, \\mathrm{True}\\right), \\left(5, \\mathrm{True}\\right), \\left(6, \\mathrm{True}\\right), \\left(7, \\mathrm{True}\\right), \\left(8, \\mathrm{True}\\right)\\right]\\right)</script></html>"
      ],
      "text/plain": [
       "(2,\n",
       " [(0, True),\n",
       "  (1, True),\n",
       "  (2, True),\n",
       "  (3, True),\n",
       "  (4, True),\n",
       "  (5, True),\n",
       "  (6, True),\n",
       "  (7, True),\n",
       "  (8, True)])"
      ]
     },
     "metadata": {},
     "output_type": "display_data"
    },
    {
     "data": {
      "text/html": [
       "<html><script type=\"math/tex; mode=display\">\\newcommand{\\Bold}[1]{\\mathbf{#1}}\\left(3, \\left[\\left(0, \\mathrm{True}\\right), \\left(1, \\mathrm{True}\\right), \\left(2, \\mathrm{True}\\right), \\left(3, \\mathrm{True}\\right), \\left(4, \\mathrm{True}\\right), \\left(5, \\mathrm{True}\\right), \\left(6, \\mathrm{True}\\right), \\left(7, \\mathrm{True}\\right), \\left(8, \\mathrm{True}\\right)\\right]\\right)</script></html>"
      ],
      "text/plain": [
       "(3,\n",
       " [(0, True),\n",
       "  (1, True),\n",
       "  (2, True),\n",
       "  (3, True),\n",
       "  (4, True),\n",
       "  (5, True),\n",
       "  (6, True),\n",
       "  (7, True),\n",
       "  (8, True)])"
      ]
     },
     "metadata": {},
     "output_type": "display_data"
    },
    {
     "data": {
      "text/html": [
       "<html><script type=\"math/tex; mode=display\">\\newcommand{\\Bold}[1]{\\mathbf{#1}}\\left(4, \\left[\\left(0, \\mathrm{True}\\right), \\left(1, \\mathrm{True}\\right), \\left(2, \\mathrm{True}\\right), \\left(3, \\mathrm{True}\\right), \\left(4, \\mathrm{True}\\right), \\left(5, \\mathrm{True}\\right), \\left(6, \\mathrm{True}\\right), \\left(7, \\mathrm{True}\\right), \\left(8, \\mathrm{True}\\right)\\right]\\right)</script></html>"
      ],
      "text/plain": [
       "(4,\n",
       " [(0, True),\n",
       "  (1, True),\n",
       "  (2, True),\n",
       "  (3, True),\n",
       "  (4, True),\n",
       "  (5, True),\n",
       "  (6, True),\n",
       "  (7, True),\n",
       "  (8, True)])"
      ]
     },
     "metadata": {},
     "output_type": "display_data"
    }
   ],
   "source": [
    "for k in range(1,5):\n",
    "    show((k,[(n,tensor([s,e])(restrict_length1(Skew1(e[k],CalF_mn(2,n)),1))\n",
    "              ==RHS_ekperp_F_mn(k,2,n)) for n in range(9)]))"
   ]
  },
  {
   "cell_type": "code",
   "execution_count": 16,
   "metadata": {
    "scrolled": true
   },
   "outputs": [
    {
     "data": {
      "text/html": [
       "<html><script type=\"math/tex; mode=display\">\\newcommand{\\Bold}[1]{\\mathbf{#1}}\\left[\\mathrm{True}, \\mathrm{True}, \\mathrm{True}, \\mathrm{True}, \\mathrm{True}\\right]</script></html>"
      ],
      "text/plain": [
       "[True, True, True, True, True]"
      ]
     },
     "execution_count": 16,
     "metadata": {},
     "output_type": "execute_result"
    }
   ],
   "source": [
    "[CalF_mn(n,n)==Formule_prime_F_mn(n) for n in range(1,6)]"
   ]
  },
  {
   "cell_type": "code",
   "execution_count": 21,
   "metadata": {},
   "outputs": [
    {
     "data": {
      "text/html": [
       "<html><script type=\"math/tex; mode=display\">\\newcommand{\\Bold}[1]{\\mathbf{#1}}\\left[\\mathrm{True}, \\mathrm{True}, \\mathrm{True}, \\mathrm{True}, \\mathrm{True}\\right]</script></html>"
      ],
      "text/plain": [
       "[True, True, True, True, True]"
      ]
     },
     "execution_count": 21,
     "metadata": {},
     "output_type": "execute_result"
    }
   ],
   "source": [
    "[CalF_mn(n-1,n)==Formule_prime_F_mn(n-1,n) for n in range(2,7)]"
   ]
  },
  {
   "cell_type": "code",
   "execution_count": 22,
   "metadata": {},
   "outputs": [
    {
     "data": {
      "text/html": [
       "<html><script type=\"math/tex; mode=display\">\\newcommand{\\Bold}[1]{\\mathbf{#1}}\\left[\\mathrm{True}, \\mathrm{True}, \\mathrm{True}, \\mathrm{True}, \\mathrm{True}\\right]</script></html>"
      ],
      "text/plain": [
       "[True, True, True, True, True]"
      ]
     },
     "execution_count": 22,
     "metadata": {},
     "output_type": "execute_result"
    }
   ],
   "source": [
    "[CalF_mn(2,n)==Formule_prime_F_mn(2,n) for n in range(2,7)]"
   ]
  },
  {
   "cell_type": "markdown",
   "metadata": {},
   "source": [
    "### Test of 4), exception $n=4$ and $\\mu=2$."
   ]
  },
  {
   "cell_type": "code",
   "execution_count": 6,
   "metadata": {
    "scrolled": true
   },
   "outputs": [
    {
     "data": {
      "text/html": [
       "<html><script type=\"math/tex; mode=display\">\\newcommand{\\Bold}[1]{\\mathbf{#1}}s_{111} + s_{211} + s_{31} + s_{311} + s_{32} + s_{33} + 2s_{41} + s_{411} + s_{42} + 2s_{51} + s_{52} + s_{6} + 2s_{61} + s_{7} + s_{71} + s_{8} + s_{9}</script></html>"
      ],
      "text/plain": [
       "s[1, 1, 1] + s[2, 1, 1] + s[3, 1] + s[3, 1, 1] + s[3, 2] + s[3, 3] + 2*s[4, 1] + s[4, 1, 1] + s[4, 2] + 2*s[5, 1] + s[5, 2] + s[6] + 2*s[6, 1] + s[7] + s[7, 1] + s[8] + s[9]"
      ]
     },
     "execution_count": 6,
     "metadata": {},
     "output_type": "execute_result"
    }
   ],
   "source": [
    "sigma([0],5).skew_by(e[1])"
   ]
  },
  {
   "cell_type": "code",
   "execution_count": 9,
   "metadata": {},
   "outputs": [
    {
     "data": {
      "text/html": [
       "<html><script type=\"math/tex; mode=display\">\\newcommand{\\Bold}[1]{\\mathbf{#1}}s_{111} + s_{211} + s_{31} + s_{311} + s_{32} + s_{33} + 2s_{41} + s_{411} + s_{42} + 2s_{51} + s_{52} + s_{6} + 2s_{61} + s_{7} + s_{71} + s_{8} + s_{9}</script></html>"
      ],
      "text/plain": [
       "s[1, 1, 1] + s[2, 1, 1] + s[3, 1] + s[3, 1, 1] + s[3, 2] + s[3, 3] + 2*s[4, 1] + s[4, 1, 1] + s[4, 2] + 2*s[5, 1] + s[5, 2] + s[6] + 2*s[6, 1] + s[7] + s[7, 1] + s[8] + s[9]"
      ]
     },
     "execution_count": 9,
     "metadata": {},
     "output_type": "execute_result"
    }
   ],
   "source": [
    "add(sigma_prime([k],5) for k in range(1,5))"
   ]
  },
  {
   "cell_type": "code",
   "execution_count": 10,
   "metadata": {},
   "outputs": [
    {
     "data": {
      "text/html": [
       "<html><script type=\"math/tex; mode=display\">\\newcommand{\\Bold}[1]{\\mathbf{#1}}\\left[0, 1, 2, 3, 4, 11, 21, 31, 41, 22, 32, 42, 33, 43, 111, 211, 311, 411, 221, 321, 421, 331, 431, 222, 322, 422, 332, 432, 1111, 2111, 3111, 4111, 2211, 3211, 4211, 3311, 4311, 2221, 3221, 4221, 3321, 4321\\right]</script></html>"
      ],
      "text/plain": [
       "[[],\n",
       " [1],\n",
       " [2],\n",
       " [3],\n",
       " [4],\n",
       " [1, 1],\n",
       " [2, 1],\n",
       " [3, 1],\n",
       " [4, 1],\n",
       " [2, 2],\n",
       " [3, 2],\n",
       " [4, 2],\n",
       " [3, 3],\n",
       " [4, 3],\n",
       " [1, 1, 1],\n",
       " [2, 1, 1],\n",
       " [3, 1, 1],\n",
       " [4, 1, 1],\n",
       " [2, 2, 1],\n",
       " [3, 2, 1],\n",
       " [4, 2, 1],\n",
       " [3, 3, 1],\n",
       " [4, 3, 1],\n",
       " [2, 2, 2],\n",
       " [3, 2, 2],\n",
       " [4, 2, 2],\n",
       " [3, 3, 2],\n",
       " [4, 3, 2],\n",
       " [1, 1, 1, 1],\n",
       " [2, 1, 1, 1],\n",
       " [3, 1, 1, 1],\n",
       " [4, 1, 1, 1],\n",
       " [2, 2, 1, 1],\n",
       " [3, 2, 1, 1],\n",
       " [4, 2, 1, 1],\n",
       " [3, 3, 1, 1],\n",
       " [4, 3, 1, 1],\n",
       " [2, 2, 2, 1],\n",
       " [3, 2, 2, 1],\n",
       " [4, 2, 2, 1],\n",
       " [3, 3, 2, 1],\n",
       " [4, 3, 2, 1]]"
      ]
     },
     "execution_count": 10,
     "metadata": {},
     "output_type": "execute_result"
    }
   ],
   "source": [
    "to_ideal([0],5)"
   ]
  },
  {
   "cell_type": "code",
   "execution_count": 7,
   "metadata": {},
   "outputs": [
    {
     "data": {
      "text/html": [
       "<html><script type=\"math/tex; mode=display\">\\newcommand{\\Bold}[1]{\\mathbf{#1}}\\left\\{32, 211, 311, 2, 31, 3, 21, 3111, 22, 42\\right\\}</script></html>"
      ],
      "text/plain": [
       "{[3, 2], [2, 1, 1], [3, 1, 1], [2], [3, 1], [3], [2, 1], [3, 1, 1, 1], [2, 2], [4, 2]}"
      ]
     },
     "execution_count": 7,
     "metadata": {},
     "output_type": "execute_result"
    }
   ],
   "source": [
    "n=5\n",
    "Set([mu for mu in Dyck(n) if exces(mu,n)<>0])"
   ]
  },
  {
   "cell_type": "code",
   "execution_count": 9,
   "metadata": {},
   "outputs": [
    {
     "data": {
      "text/html": [
       "<html><script type=\"math/tex; mode=display\">\\newcommand{\\Bold}[1]{\\mathbf{#1}}\\left\\{2111, 111, 41, 11, 1\\right\\}</script></html>"
      ],
      "text/plain": [
       "{[2, 1, 1, 1], [1, 1, 1], [4, 1], [1, 1], [1]}"
      ]
     },
     "execution_count": 9,
     "metadata": {},
     "output_type": "execute_result"
    }
   ],
   "source": [
    "n=5\n",
    "Set(defaut_precede(n)).difference(Set([mu for mu in Dyck(n) if exces(mu,n)<>0]))"
   ]
  },
  {
   "cell_type": "code",
   "execution_count": 440,
   "metadata": {},
   "outputs": [
    {
     "data": {
      "text/html": [
       "<html><script type=\"math/tex; mode=display\">\\newcommand{\\Bold}[1]{\\mathbf{#1}}s_{111} + s_{21} + s_{211} + s_{22} + 2s_{31} + s_{311} + s_{32} + s_{4} + 3s_{41} + s_{42} + s_{5} + 2s_{51} + 2s_{6} + s_{61} + s_{7} + s_{8}</script></html>"
      ],
      "text/plain": [
       "s[1, 1, 1] + s[2, 1] + s[2, 1, 1] + s[2, 2] + 2*s[3, 1] + s[3, 1, 1] + s[3, 2] + s[4] + 3*s[4, 1] + s[4, 2] + s[5] + 2*s[5, 1] + 2*s[6] + s[6, 1] + s[7] + s[8]"
      ]
     },
     "execution_count": 440,
     "metadata": {},
     "output_type": "execute_result"
    }
   ],
   "source": [
    "CalA_mn(5).skew_by(h[2])"
   ]
  },
  {
   "cell_type": "code",
   "execution_count": 10,
   "metadata": {},
   "outputs": [
    {
     "data": {
      "text/html": [
       "<html><script type=\"math/tex; mode=display\">\\newcommand{\\Bold}[1]{\\mathbf{#1}}\\left(2, \\left[0\\right]\\right)</script></html>"
      ],
      "text/plain": [
       "(2, [[]])"
      ]
     },
     "metadata": {},
     "output_type": "display_data"
    },
    {
     "data": {
      "text/html": [
       "<html><script type=\"math/tex; mode=display\">\\newcommand{\\Bold}[1]{\\mathbf{#1}}\\left(1, \\left[2, 11\\right]\\right)</script></html>"
      ],
      "text/plain": [
       "(1, [[2], [1, 1]])"
      ]
     },
     "metadata": {},
     "output_type": "display_data"
    },
    {
     "data": {
      "text/html": [
       "<html><script type=\"math/tex; mode=display\">\\newcommand{\\Bold}[1]{\\mathbf{#1}}\\left(0, \\left[21\\right]\\right)</script></html>"
      ],
      "text/plain": [
       "(0, [[2, 1]])"
      ]
     },
     "metadata": {},
     "output_type": "display_data"
    }
   ],
   "source": [
    "for k in range(3):\n",
    "    show((2-k,fins(3,2-k)))"
   ]
  },
  {
   "cell_type": "code",
   "execution_count": 11,
   "metadata": {
    "scrolled": true
   },
   "outputs": [
    {
     "data": {
      "text/html": [
       "<html><script type=\"math/tex; mode=display\">\\newcommand{\\Bold}[1]{\\mathbf{#1}}\\left(3, \\left[0\\right]\\right)</script></html>"
      ],
      "text/plain": [
       "(3, [[]])"
      ]
     },
     "metadata": {},
     "output_type": "display_data"
    },
    {
     "data": {
      "text/html": [
       "<html><script type=\"math/tex; mode=display\">\\newcommand{\\Bold}[1]{\\mathbf{#1}}\\left(2, \\left[1, 11, 111\\right]\\right)</script></html>"
      ],
      "text/plain": [
       "(2, [[1], [1, 1], [1, 1, 1]])"
      ]
     },
     "metadata": {},
     "output_type": "display_data"
    },
    {
     "data": {
      "text/html": [
       "<html><script type=\"math/tex; mode=display\">\\newcommand{\\Bold}[1]{\\mathbf{#1}}\\left(1, \\left[21, 211, 221\\right]\\right)</script></html>"
      ],
      "text/plain": [
       "(1, [[2, 1], [2, 1, 1], [2, 2, 1]])"
      ]
     },
     "metadata": {},
     "output_type": "display_data"
    },
    {
     "data": {
      "text/html": [
       "<html><script type=\"math/tex; mode=display\">\\newcommand{\\Bold}[1]{\\mathbf{#1}}\\left(0, \\left[321\\right]\\right)</script></html>"
      ],
      "text/plain": [
       "(0, [[3, 2, 1]])"
      ]
     },
     "metadata": {},
     "output_type": "display_data"
    }
   ],
   "source": [
    "for k in range(4):\n",
    "    show((3-k,fins(4,3-k)))"
   ]
  },
  {
   "cell_type": "code",
   "execution_count": 12,
   "metadata": {},
   "outputs": [
    {
     "data": {
      "text/html": [
       "<html><script type=\"math/tex; mode=display\">\\newcommand{\\Bold}[1]{\\mathbf{#1}}\\left(4, \\left[0\\right]\\right)</script></html>"
      ],
      "text/plain": [
       "(4, [[]])"
      ]
     },
     "metadata": {},
     "output_type": "display_data"
    },
    {
     "data": {
      "text/html": [
       "<html><script type=\"math/tex; mode=display\">\\newcommand{\\Bold}[1]{\\mathbf{#1}}\\left(3, \\left[1, 11, 111, 1111\\right]\\right)</script></html>"
      ],
      "text/plain": [
       "(3, [[1], [1, 1], [1, 1, 1], [1, 1, 1, 1]])"
      ]
     },
     "metadata": {},
     "output_type": "display_data"
    },
    {
     "data": {
      "text/html": [
       "<html><script type=\"math/tex; mode=display\">\\newcommand{\\Bold}[1]{\\mathbf{#1}}\\left(2, \\left[21, 211, 221, 2111, 2211, 2221\\right]\\right)</script></html>"
      ],
      "text/plain": [
       "(2, [[2, 1], [2, 1, 1], [2, 2, 1], [2, 1, 1, 1], [2, 2, 1, 1], [2, 2, 2, 1]])"
      ]
     },
     "metadata": {},
     "output_type": "display_data"
    },
    {
     "data": {
      "text/html": [
       "<html><script type=\"math/tex; mode=display\">\\newcommand{\\Bold}[1]{\\mathbf{#1}}\\left(1, \\left[321, 3211, 3221, 3321\\right]\\right)</script></html>"
      ],
      "text/plain": [
       "(1, [[3, 2, 1], [3, 2, 1, 1], [3, 2, 2, 1], [3, 3, 2, 1]])"
      ]
     },
     "metadata": {},
     "output_type": "display_data"
    },
    {
     "data": {
      "text/html": [
       "<html><script type=\"math/tex; mode=display\">\\newcommand{\\Bold}[1]{\\mathbf{#1}}\\left(0, \\left[4321\\right]\\right)</script></html>"
      ],
      "text/plain": [
       "(0, [[4, 3, 2, 1]])"
      ]
     },
     "metadata": {},
     "output_type": "display_data"
    }
   ],
   "source": [
    "for k in range(5):\n",
    "    show((4-k,fins(5,4-k)))"
   ]
  },
  {
   "cell_type": "code",
   "execution_count": 13,
   "metadata": {},
   "outputs": [
    {
     "data": {
      "text/html": [
       "<html><script type=\"math/tex; mode=display\">\\newcommand{\\Bold}[1]{\\mathbf{#1}}\\left(5, \\left[0\\right]\\right)</script></html>"
      ],
      "text/plain": [
       "(5, [[]])"
      ]
     },
     "metadata": {},
     "output_type": "display_data"
    },
    {
     "data": {
      "text/html": [
       "<html><script type=\"math/tex; mode=display\">\\newcommand{\\Bold}[1]{\\mathbf{#1}}\\left(4, \\left[5, 11111, 44, 2222, 333\\right]\\right)</script></html>"
      ],
      "text/plain": [
       "(4, [[5], [1, 1, 1, 1, 1], [4, 4], [2, 2, 2, 2], [3, 3, 3]])"
      ]
     },
     "metadata": {},
     "output_type": "display_data"
    },
    {
     "data": {
      "text/html": [
       "<html><script type=\"math/tex; mode=display\">\\newcommand{\\Bold}[1]{\\mathbf{#1}}\\left(3, \\left[54, 51111, 22221, 533, 5222, 443, 44111, 3332, 33311, 4422\\right]\\right)</script></html>"
      ],
      "text/plain": [
       "(3,\n",
       " [[5, 4],\n",
       "  [5, 1, 1, 1, 1],\n",
       "  [2, 2, 2, 2, 1],\n",
       "  [5, 3, 3],\n",
       "  [5, 2, 2, 2],\n",
       "  [4, 4, 3],\n",
       "  [4, 4, 1, 1, 1],\n",
       "  [3, 3, 3, 2],\n",
       "  [3, 3, 3, 1, 1],\n",
       "  [4, 4, 2, 2]])"
      ]
     },
     "metadata": {},
     "output_type": "display_data"
    },
    {
     "data": {
      "text/html": [
       "<html><script type=\"math/tex; mode=display\">\\newcommand{\\Bold}[1]{\\mathbf{#1}}\\left(2, \\left[543, 54111, 52221, 33321, 5422, 5332, 53311, 4432, 44311, 44221\\right]\\right)</script></html>"
      ],
      "text/plain": [
       "(2,\n",
       " [[5, 4, 3],\n",
       "  [5, 4, 1, 1, 1],\n",
       "  [5, 2, 2, 2, 1],\n",
       "  [3, 3, 3, 2, 1],\n",
       "  [5, 4, 2, 2],\n",
       "  [5, 3, 3, 2],\n",
       "  [5, 3, 3, 1, 1],\n",
       "  [4, 4, 3, 2],\n",
       "  [4, 4, 3, 1, 1],\n",
       "  [4, 4, 2, 2, 1]])"
      ]
     },
     "metadata": {},
     "output_type": "display_data"
    },
    {
     "data": {
      "text/html": [
       "<html><script type=\"math/tex; mode=display\">\\newcommand{\\Bold}[1]{\\mathbf{#1}}\\left(1, \\left[5432, 54311, 54221, 53321, 44321\\right]\\right)</script></html>"
      ],
      "text/plain": [
       "(1,\n",
       " [[5, 4, 3, 2],\n",
       "  [5, 4, 3, 1, 1],\n",
       "  [5, 4, 2, 2, 1],\n",
       "  [5, 3, 3, 2, 1],\n",
       "  [4, 4, 3, 2, 1]])"
      ]
     },
     "metadata": {},
     "output_type": "display_data"
    },
    {
     "data": {
      "text/html": [
       "<html><script type=\"math/tex; mode=display\">\\newcommand{\\Bold}[1]{\\mathbf{#1}}\\left(0, \\left[54321\\right]\\right)</script></html>"
      ],
      "text/plain": [
       "(0, [[5, 4, 3, 2, 1]])"
      ]
     },
     "metadata": {},
     "output_type": "display_data"
    }
   ],
   "source": [
    "n=6\n",
    "for k in range(n):\n",
    "    show((n-1-k,debuts(n,n-1-k)))"
   ]
  },
  {
   "cell_type": "code",
   "execution_count": 65,
   "metadata": {},
   "outputs": [
    {
     "data": {
      "text/html": [
       "<html><script type=\"math/tex; mode=display\">\\newcommand{\\Bold}[1]{\\mathbf{#1}}\\left[\\left(4, \\mathbb{1}\\right), \\left(3, s_{1}\\right), \\left(2, s_{2}\\right), \\left(1, s_{3}\\right), \\left(0, s_{2} + s_{3} + s_{4}\\right)\\right]</script></html>"
      ],
      "text/plain": [
       "[([4], s[]), ([3], s[1]), ([2], s[2]), ([1], s[3]), ([], s[2] + s[3] + s[4])]"
      ]
     },
     "metadata": {},
     "output_type": "display_data"
    },
    {
     "data": {
      "text/html": [
       "<html><script type=\"math/tex; mode=display\">\\newcommand{\\Bold}[1]{\\mathbf{#1}}\\left[\\left(1111, \\mathbb{1}\\right), \\left(0, s_{2} + s_{3} + s_{4}\\right)\\right]</script></html>"
      ],
      "text/plain": [
       "[([1, 1, 1, 1], s[]), ([], s[2] + s[3] + s[4])]"
      ]
     },
     "metadata": {},
     "output_type": "display_data"
    },
    {
     "data": {
      "text/html": [
       "<html><script type=\"math/tex; mode=display\">\\newcommand{\\Bold}[1]{\\mathbf{#1}}\\left[\\left(33, \\mathbb{1}\\right), \\left(22, s_{1}\\right), \\left(11, s_{2}\\right), \\left(0, s_{2} + s_{3} + s_{4}\\right)\\right]</script></html>"
      ],
      "text/plain": [
       "[([3, 3], s[]), ([2, 2], s[1]), ([1, 1], s[2]), ([], s[2] + s[3] + s[4])]"
      ]
     },
     "metadata": {},
     "output_type": "display_data"
    },
    {
     "data": {
      "text/html": [
       "<html><script type=\"math/tex; mode=display\">\\newcommand{\\Bold}[1]{\\mathbf{#1}}\\left[\\left(222, \\mathbb{1}\\right), \\left(111, s_{1}\\right), \\left(0, s_{2} + s_{3} + s_{4}\\right)\\right]</script></html>"
      ],
      "text/plain": [
       "[([2, 2, 2], s[]), ([1, 1, 1], s[1]), ([], s[2] + s[3] + s[4])]"
      ]
     },
     "metadata": {},
     "output_type": "display_data"
    }
   ],
   "source": [
    "for mu in debuts(5,3):\n",
    "    show([(nu,composante(nu,5,3)) for nu in Intervale(mu,[0],5)])"
   ]
  },
  {
   "cell_type": "code",
   "execution_count": 14,
   "metadata": {},
   "outputs": [
    {
     "data": {
      "text/html": [
       "<html><script type=\"math/tex; mode=display\">\\newcommand{\\Bold}[1]{\\mathbf{#1}}\\left[\\left(21, s_{21} + s_{4}\\right), \\left(11, s_{31} + s_{4} + s_{5}\\right), \\left(2, s_{31} + s_{4} + s_{5}\\right), \\left(1, s_{22} + s_{41} + s_{5} + s_{6}\\right), \\left(0, s_{31} + s_{32} + s_{5} + s_{51} + s_{6} + s_{7}\\right)\\right]</script></html>"
      ],
      "text/plain": [
       "[([2, 1], s[2, 1] + s[4]),\n",
       " ([1, 1], s[3, 1] + s[4] + s[5]),\n",
       " ([2], s[3, 1] + s[4] + s[5]),\n",
       " ([1], s[2, 2] + s[4, 1] + s[5] + s[6]),\n",
       " ([], s[3, 1] + s[3, 2] + s[5] + s[5, 1] + s[6] + s[7])]"
      ]
     },
     "metadata": {},
     "output_type": "display_data"
    },
    {
     "data": {
      "text/html": [
       "<html><script type=\"math/tex; mode=display\">\\newcommand{\\Bold}[1]{\\mathbf{#1}}\\left[\\left(211, s_{3}\\right), \\left(111, s_{21} + s_{3} + s_{4}\\right), \\left(1, s_{22} + s_{41} + s_{5} + s_{6}\\right), \\left(0, s_{31} + s_{32} + s_{5} + s_{51} + s_{6} + s_{7}\\right)\\right]</script></html>"
      ],
      "text/plain": [
       "[([2, 1, 1], s[3]),\n",
       " ([1, 1, 1], s[2, 1] + s[3] + s[4]),\n",
       " ([1], s[2, 2] + s[4, 1] + s[5] + s[6]),\n",
       " ([], s[3, 1] + s[3, 2] + s[5] + s[5, 1] + s[6] + s[7])]"
      ]
     },
     "metadata": {},
     "output_type": "display_data"
    },
    {
     "data": {
      "text/html": [
       "<html><script type=\"math/tex; mode=display\">\\newcommand{\\Bold}[1]{\\mathbf{#1}}\\left[\\left(221, s_{2}\\right), \\left(111, s_{21} + s_{3} + s_{4}\\right), \\left(22, s_{11} + 2s_{3}\\right), \\left(11, s_{31} + s_{4} + s_{5}\\right), \\left(0, s_{31} + s_{32} + s_{5} + s_{51} + s_{6} + s_{7}\\right)\\right]</script></html>"
      ],
      "text/plain": [
       "[([2, 2, 1], s[2]),\n",
       " ([1, 1, 1], s[2, 1] + s[3] + s[4]),\n",
       " ([2, 2], s[1, 1] + 2*s[3]),\n",
       " ([1, 1], s[3, 1] + s[4] + s[5]),\n",
       " ([], s[3, 1] + s[3, 2] + s[5] + s[5, 1] + s[6] + s[7])]"
      ]
     },
     "metadata": {},
     "output_type": "display_data"
    },
    {
     "data": {
      "text/html": [
       "<html><script type=\"math/tex; mode=display\">\\newcommand{\\Bold}[1]{\\mathbf{#1}}\\left[\\left(2111, s_{2}\\right), \\left(1111, s_{2} + s_{3}\\right), \\left(1, s_{22} + s_{41} + s_{5} + s_{6}\\right), \\left(0, s_{31} + s_{32} + s_{5} + s_{51} + s_{6} + s_{7}\\right)\\right]</script></html>"
      ],
      "text/plain": [
       "[([2, 1, 1, 1], s[2]),\n",
       " ([1, 1, 1, 1], s[2] + s[3]),\n",
       " ([1], s[2, 2] + s[4, 1] + s[5] + s[6]),\n",
       " ([], s[3, 1] + s[3, 2] + s[5] + s[5, 1] + s[6] + s[7])]"
      ]
     },
     "metadata": {},
     "output_type": "display_data"
    },
    {
     "data": {
      "text/html": [
       "<html><script type=\"math/tex; mode=display\">\\newcommand{\\Bold}[1]{\\mathbf{#1}}\\left[\\left(2211, s_{1}\\right), \\left(1111, s_{2} + s_{3}\\right), \\left(11, s_{31} + s_{4} + s_{5}\\right), \\left(0, s_{31} + s_{32} + s_{5} + s_{51} + s_{6} + s_{7}\\right)\\right]</script></html>"
      ],
      "text/plain": [
       "[([2, 2, 1, 1], s[1]),\n",
       " ([1, 1, 1, 1], s[2] + s[3]),\n",
       " ([1, 1], s[3, 1] + s[4] + s[5]),\n",
       " ([], s[3, 1] + s[3, 2] + s[5] + s[5, 1] + s[6] + s[7])]"
      ]
     },
     "metadata": {},
     "output_type": "display_data"
    },
    {
     "data": {
      "text/html": [
       "<html><script type=\"math/tex; mode=display\">\\newcommand{\\Bold}[1]{\\mathbf{#1}}\\left[\\left(2221, \\mathbb{1}\\right), \\left(1111, s_{2} + s_{3}\\right), \\left(222, s_{1} + s_{2}\\right), \\left(111, s_{21} + s_{3} + s_{4}\\right), \\left(0, s_{31} + s_{32} + s_{5} + s_{51} + s_{6} + s_{7}\\right)\\right]</script></html>"
      ],
      "text/plain": [
       "[([2, 2, 2, 1], s[]),\n",
       " ([1, 1, 1, 1], s[2] + s[3]),\n",
       " ([2, 2, 2], s[1] + s[2]),\n",
       " ([1, 1, 1], s[2, 1] + s[3] + s[4]),\n",
       " ([], s[3, 1] + s[3, 2] + s[5] + s[5, 1] + s[6] + s[7])]"
      ]
     },
     "metadata": {},
     "output_type": "display_data"
    }
   ],
   "source": [
    "for mu in fins(5,2):\n",
    "    show([(nu,composante(nu,5,2)) for nu in Intervale(mu,[0],5)])"
   ]
  },
  {
   "cell_type": "markdown",
   "metadata": {},
   "source": [
    "### There is a nice chain decomposition, with a projection on the boolean lattice"
   ]
  },
  {
   "cell_type": "code",
   "execution_count": 32,
   "metadata": {},
   "outputs": [
    {
     "data": {
      "text/html": [
       "<html><script type=\"math/tex; mode=display\">\\newcommand{\\Bold}[1]{\\mathbf{#1}}\\left(4, s_{111} + s_{31} + s_{41} + s_{6}\\right)</script></html>"
      ],
      "text/plain": [
       "([4], s[1, 1, 1] + s[3, 1] + s[4, 1] + s[6])"
      ]
     },
     "metadata": {},
     "output_type": "display_data"
    },
    {
     "data": {
      "text/html": [
       "<html><script type=\"math/tex; mode=display\">\\newcommand{\\Bold}[1]{\\mathbf{#1}}\\left(31, s_{11} + s_{21} + s_{3} + s_{31} + s_{4} + s_{5}\\right)</script></html>"
      ],
      "text/plain": [
       "([3, 1], s[1, 1] + s[2, 1] + s[3] + s[3, 1] + s[4] + s[5])"
      ]
     },
     "metadata": {},
     "output_type": "display_data"
    },
    {
     "data": {
      "text/html": [
       "<html><script type=\"math/tex; mode=display\">\\newcommand{\\Bold}[1]{\\mathbf{#1}}\\left(13, s_{11} + s_{3}\\right)</script></html>"
      ],
      "text/plain": [
       "([1, 3], s[1, 1] + s[3])"
      ]
     },
     "metadata": {},
     "output_type": "display_data"
    },
    {
     "data": {
      "text/html": [
       "<html><script type=\"math/tex; mode=display\">\\newcommand{\\Bold}[1]{\\mathbf{#1}}\\left(22, s_{11} + s_{2} + s_{21} + s_{4}\\right)</script></html>"
      ],
      "text/plain": [
       "([2, 2], s[1, 1] + s[2] + s[2, 1] + s[4])"
      ]
     },
     "metadata": {},
     "output_type": "display_data"
    },
    {
     "data": {
      "text/html": [
       "<html><script type=\"math/tex; mode=display\">\\newcommand{\\Bold}[1]{\\mathbf{#1}}\\left(211, s_{1} + s_{2} + s_{3}\\right)</script></html>"
      ],
      "text/plain": [
       "([2, 1, 1], s[1] + s[2] + s[3])"
      ]
     },
     "metadata": {},
     "output_type": "display_data"
    },
    {
     "data": {
      "text/html": [
       "<html><script type=\"math/tex; mode=display\">\\newcommand{\\Bold}[1]{\\mathbf{#1}}\\left(121, s_{1} + s_{2}\\right)</script></html>"
      ],
      "text/plain": [
       "([1, 2, 1], s[1] + s[2])"
      ]
     },
     "metadata": {},
     "output_type": "display_data"
    },
    {
     "data": {
      "text/html": [
       "<html><script type=\"math/tex; mode=display\">\\newcommand{\\Bold}[1]{\\mathbf{#1}}\\left(112, s_{1}\\right)</script></html>"
      ],
      "text/plain": [
       "([1, 1, 2], s[1])"
      ]
     },
     "metadata": {},
     "output_type": "display_data"
    },
    {
     "data": {
      "text/html": [
       "<html><script type=\"math/tex; mode=display\">\\newcommand{\\Bold}[1]{\\mathbf{#1}}\\left(1111, \\mathbb{1}\\right)</script></html>"
      ],
      "text/plain": [
       "([1, 1, 1, 1], s[])"
      ]
     },
     "metadata": {},
     "output_type": "display_data"
    }
   ],
   "source": [
    "n=4\n",
    "for k in range(n):\n",
    "    for c in chaines(n,n-1-k):\n",
    "        show((Composition(risers(c[0],4)),add(sigma_prime(mu,n) for mu in c)))"
   ]
  },
  {
   "cell_type": "code",
   "execution_count": 33,
   "metadata": {},
   "outputs": [
    {
     "data": {
      "text/html": [
       "<html><script type=\"math/tex; mode=display\">\\newcommand{\\Bold}[1]{\\mathbf{#1}}\\left[\\left[0\\right]\\right]</script></html>"
      ],
      "text/plain": [
       "[[[]]]"
      ]
     },
     "metadata": {},
     "output_type": "display_data"
    },
    {
     "data": {
      "text/html": [
       "<html><script type=\"math/tex; mode=display\">\\newcommand{\\Bold}[1]{\\mathbf{#1}}\\left[\\left[3, 2, 1\\right], \\left[111\\right], \\left[22, 11\\right]\\right]</script></html>"
      ],
      "text/plain": [
       "[[[3], [2], [1]], [[1, 1, 1]], [[2, 2], [1, 1]]]"
      ]
     },
     "metadata": {},
     "output_type": "display_data"
    },
    {
     "data": {
      "text/html": [
       "<html><script type=\"math/tex; mode=display\">\\newcommand{\\Bold}[1]{\\mathbf{#1}}\\left[\\left[32, 31, 21\\right], \\left[311, 211\\right], \\left[221\\right]\\right]</script></html>"
      ],
      "text/plain": [
       "[[[3, 2], [3, 1], [2, 1]], [[3, 1, 1], [2, 1, 1]], [[2, 2, 1]]]"
      ]
     },
     "metadata": {},
     "output_type": "display_data"
    },
    {
     "data": {
      "text/html": [
       "<html><script type=\"math/tex; mode=display\">\\newcommand{\\Bold}[1]{\\mathbf{#1}}\\left[\\left[321\\right]\\right]</script></html>"
      ],
      "text/plain": [
       "[[[3, 2, 1]]]"
      ]
     },
     "metadata": {},
     "output_type": "display_data"
    }
   ],
   "source": [
    "n=4\n",
    "for k in range(n):\n",
    "    show(chaines(n,n-1-k))"
   ]
  },
  {
   "cell_type": "markdown",
   "metadata": {},
   "source": [
    "### We have explicit relations for some of the chains\n",
    "## $$e_k^\\perp \\mathcal{A}_{j}=\\sum_{{\\mathrm ens}(\\mu)=\\{1..k,j..n-1\\}}\\sigma_n(\\mu),\\qquad{\\rm for}\\qquad k<j\\leq n.$$"
   ]
  },
  {
   "cell_type": "code",
   "execution_count": 18,
   "metadata": {},
   "outputs": [
    {
     "data": {
      "text/html": [
       "<html><script type=\"math/tex; mode=display\">\\newcommand{\\Bold}[1]{\\mathbf{#1}}\\left(\\left\\{1, 2\\right\\}, s_{11} + s_{21} + s_{3} + 2s_{31} + s_{32} + s_{4} + s_{41} + 2s_{5} + s_{51} + s_{6} + s_{7}, s_{11} + s_{21} + s_{3} + 2s_{31} + s_{32} + s_{4} + s_{41} + 2s_{5} + s_{51} + s_{6} + s_{7}, \\left\\{32, 43, 42, 31, 41, 21\\right\\}\\right)</script></html>"
      ],
      "text/plain": [
       "({1, 2},\n",
       " s[1, 1] + s[2, 1] + s[3] + 2*s[3, 1] + s[3, 2] + s[4] + s[4, 1] + 2*s[5] + s[5, 1] + s[6] + s[7],\n",
       " s[1, 1] + s[2, 1] + s[3] + 2*s[3, 1] + s[3, 2] + s[4] + s[4, 1] + 2*s[5] + s[5, 1] + s[6] + s[7],\n",
       " {[3, 2], [4, 3], [4, 2], [3, 1], [4, 1], [2, 1]})"
      ]
     },
     "execution_count": 18,
     "metadata": {},
     "output_type": "execute_result"
    }
   ],
   "source": [
    "n=5\n",
    "k=2\n",
    "j=5\n",
    "A=Set(range(1,k+1)+range(j,n))\n",
    "A,CalA_mn(j).skew_by(e[k]),sigma_ens(A,n),classe_set(A,n)"
   ]
  },
  {
   "cell_type": "code",
   "execution_count": 19,
   "metadata": {},
   "outputs": [
    {
     "data": {
      "text/html": [
       "<html><script type=\"math/tex; mode=display\">\\newcommand{\\Bold}[1]{\\mathbf{#1}}\\left\\{\\right\\}</script></html>"
      ],
      "text/plain": [
       "{}"
      ]
     },
     "execution_count": 19,
     "metadata": {},
     "output_type": "execute_result"
    }
   ],
   "source": [
    "n=3\n",
    "Set(Set(range(1,n)).subsets()).difference(relations_ens(n))"
   ]
  },
  {
   "cell_type": "code",
   "execution_count": 13,
   "metadata": {},
   "outputs": [
    {
     "data": {
      "text/html": [
       "<html><script type=\"math/tex; mode=display\">\\newcommand{\\Bold}[1]{\\mathbf{#1}}\\left(\\left\\{\\right\\}, \\left\\{0\\right\\}, \\mathrm{True}\\right)</script></html>"
      ],
      "text/plain": [
       "({}, {[]}, True)"
      ]
     },
     "metadata": {},
     "output_type": "display_data"
    },
    {
     "data": {
      "text/html": [
       "<html><script type=\"math/tex; mode=display\">\\newcommand{\\Bold}[1]{\\mathbf{#1}}\\left(\\left\\{1\\right\\}, \\left\\{2, 1\\right\\}, \\mathrm{True}\\right)</script></html>"
      ],
      "text/plain": [
       "({1}, {[2], [1]}, True)"
      ]
     },
     "metadata": {},
     "output_type": "display_data"
    },
    {
     "data": {
      "text/html": [
       "<html><script type=\"math/tex; mode=display\">\\newcommand{\\Bold}[1]{\\mathbf{#1}}\\left(\\left\\{2\\right\\}, \\left\\{11\\right\\}, \\mathrm{True}\\right)</script></html>"
      ],
      "text/plain": [
       "({2}, {[1, 1]}, True)"
      ]
     },
     "metadata": {},
     "output_type": "display_data"
    }
   ],
   "source": [
    "n=3\n",
    "for j in range(n):\n",
    "    for k in range(n-j-1):\n",
    "        A=Set(range(1,k+1)).union(Set([n-j for i in range(1,j+1)]))\n",
    "        show((A,classe_set(A,n),CalA_mn(n-j).skew_by(e[k])==sigma_ens(A,n)))"
   ]
  },
  {
   "cell_type": "code",
   "execution_count": 17,
   "metadata": {},
   "outputs": [
    {
     "data": {
      "text/html": [
       "<html><script type=\"math/tex; mode=display\">\\newcommand{\\Bold}[1]{\\mathbf{#1}}\\left\\{1, 2, 3, 4, 5, 11, 12\\right\\}</script></html>"
      ],
      "text/plain": [
       "{1, 2, 3, 4, 5, 11, 12}"
      ]
     },
     "execution_count": 17,
     "metadata": {},
     "output_type": "execute_result"
    }
   ],
   "source": [
    "k=5\n",
    "n=13\n",
    "j=2\n",
    "Set(range(1,k+1)).union(Set([n-j for j in range(1,j+1)]))"
   ]
  },
  {
   "cell_type": "code",
   "execution_count": 20,
   "metadata": {},
   "outputs": [
    {
     "data": {
      "text/html": [
       "<html><script type=\"math/tex; mode=display\">\\newcommand{\\Bold}[1]{\\mathbf{#1}}\\left\\{\\left\\{2\\right\\}\\right\\}</script></html>"
      ],
      "text/plain": [
       "{{2}}"
      ]
     },
     "execution_count": 20,
     "metadata": {},
     "output_type": "execute_result"
    }
   ],
   "source": [
    "n=4\n",
    "Set(Set(range(1,n)).subsets()).difference(relations_ens(n))"
   ]
  },
  {
   "cell_type": "code",
   "execution_count": 14,
   "metadata": {},
   "outputs": [
    {
     "data": {
      "text/html": [
       "<html><script type=\"math/tex; mode=display\">\\newcommand{\\Bold}[1]{\\mathbf{#1}}\\left(\\left\\{\\right\\}, \\left\\{0\\right\\}, \\left(4, 0\\right), \\mathrm{True}\\right)</script></html>"
      ],
      "text/plain": [
       "({}, {[]}, (4, 0), True)"
      ]
     },
     "metadata": {},
     "output_type": "display_data"
    },
    {
     "data": {
      "text/html": [
       "<html><script type=\"math/tex; mode=display\">\\newcommand{\\Bold}[1]{\\mathbf{#1}}\\left(\\left\\{1\\right\\}, \\left\\{2, 3, 1\\right\\}, \\left(4, 1\\right), \\mathrm{True}\\right)</script></html>"
      ],
      "text/plain": [
       "({1}, {[2], [3], [1]}, (4, 1), True)"
      ]
     },
     "metadata": {},
     "output_type": "display_data"
    },
    {
     "data": {
      "text/html": [
       "<html><script type=\"math/tex; mode=display\">\\newcommand{\\Bold}[1]{\\mathbf{#1}}\\left(\\left\\{1, 2\\right\\}, \\left\\{32, 31, 21\\right\\}, \\left(4, 2\\right), \\mathrm{True}\\right)</script></html>"
      ],
      "text/plain": [
       "({1, 2}, {[3, 2], [3, 1], [2, 1]}, (4, 2), True)"
      ]
     },
     "metadata": {},
     "output_type": "display_data"
    },
    {
     "data": {
      "text/html": [
       "<html><script type=\"math/tex; mode=display\">\\newcommand{\\Bold}[1]{\\mathbf{#1}}\\left(\\left\\{3\\right\\}, \\left\\{111\\right\\}, \\left(3, 0\\right), \\mathrm{True}\\right)</script></html>"
      ],
      "text/plain": [
       "({3}, {[1, 1, 1]}, (3, 0), True)"
      ]
     },
     "metadata": {},
     "output_type": "display_data"
    },
    {
     "data": {
      "text/html": [
       "<html><script type=\"math/tex; mode=display\">\\newcommand{\\Bold}[1]{\\mathbf{#1}}\\left(\\left\\{1, 3\\right\\}, \\left\\{211, 311\\right\\}, \\left(3, 1\\right), \\mathrm{True}\\right)</script></html>"
      ],
      "text/plain": [
       "({1, 3}, {[2, 1, 1], [3, 1, 1]}, (3, 1), True)"
      ]
     },
     "metadata": {},
     "output_type": "display_data"
    },
    {
     "data": {
      "text/html": [
       "<html><script type=\"math/tex; mode=display\">\\newcommand{\\Bold}[1]{\\mathbf{#1}}\\left(\\left\\{2\\right\\}, \\left\\{11, 22\\right\\}, \\left(2, 0\\right), \\mathrm{False}\\right)</script></html>"
      ],
      "text/plain": [
       "({2}, {[1, 1], [2, 2]}, (2, 0), False)"
      ]
     },
     "metadata": {},
     "output_type": "display_data"
    }
   ],
   "source": [
    "n=4\n",
    "for j in range(n):\n",
    "    for k in range(n-j-1):\n",
    "        A=Set(range(1,k+1)).union(Set([n-j for i in range(1,j+1)]))\n",
    "        show((A,classe_set(A,n),(n-j,k),CalA_mn(n-j).skew_by(e[k])==sigma_ens(A,n)))"
   ]
  },
  {
   "cell_type": "code",
   "execution_count": 21,
   "metadata": {},
   "outputs": [
    {
     "data": {
      "text/html": [
       "<html><script type=\"math/tex; mode=display\">\\newcommand{\\Bold}[1]{\\mathbf{#1}}\\left\\{\\left\\{2, 4\\right\\}, \\left\\{1, 3\\right\\}, \\left\\{2, 3\\right\\}, \\left\\{2\\right\\}, \\left\\{3\\right\\}\\right\\}</script></html>"
      ],
      "text/plain": [
       "{{2, 4}, {1, 3}, {2, 3}, {2}, {3}}"
      ]
     },
     "execution_count": 21,
     "metadata": {},
     "output_type": "execute_result"
    }
   ],
   "source": [
    "n=5\n",
    "Set(Set(range(1,n)).subsets()).difference(relations_ens(n))"
   ]
  },
  {
   "cell_type": "code",
   "execution_count": 22,
   "metadata": {},
   "outputs": [
    {
     "data": {
      "text/html": [
       "<html><script type=\"math/tex; mode=display\">\\newcommand{\\Bold}[1]{\\mathbf{#1}}\\left(\\left\\{\\right\\}, \\left\\{0\\right\\}, \\mathrm{True}\\right)</script></html>"
      ],
      "text/plain": [
       "({}, {[]}, True)"
      ]
     },
     "metadata": {},
     "output_type": "display_data"
    },
    {
     "data": {
      "text/html": [
       "<html><script type=\"math/tex; mode=display\">\\newcommand{\\Bold}[1]{\\mathbf{#1}}\\left(\\left\\{1\\right\\}, \\left\\{2, 3, 1, 4\\right\\}, \\mathrm{True}\\right)</script></html>"
      ],
      "text/plain": [
       "({1}, {[2], [3], [1], [4]}, True)"
      ]
     },
     "metadata": {},
     "output_type": "display_data"
    },
    {
     "data": {
      "text/html": [
       "<html><script type=\"math/tex; mode=display\">\\newcommand{\\Bold}[1]{\\mathbf{#1}}\\left(\\left\\{1, 2\\right\\}, \\left\\{32, 43, 42, 31, 41, 21\\right\\}, \\mathrm{True}\\right)</script></html>"
      ],
      "text/plain": [
       "({1, 2}, {[3, 2], [4, 3], [4, 2], [3, 1], [4, 1], [2, 1]}, True)"
      ]
     },
     "metadata": {},
     "output_type": "display_data"
    },
    {
     "data": {
      "text/html": [
       "<html><script type=\"math/tex; mode=display\">\\newcommand{\\Bold}[1]{\\mathbf{#1}}\\left(\\left\\{1, 2, 3\\right\\}, \\left\\{431, 421, 432, 321\\right\\}, \\mathrm{True}\\right)</script></html>"
      ],
      "text/plain": [
       "({1, 2, 3}, {[4, 3, 1], [4, 2, 1], [4, 3, 2], [3, 2, 1]}, True)"
      ]
     },
     "metadata": {},
     "output_type": "display_data"
    },
    {
     "data": {
      "text/html": [
       "<html><script type=\"math/tex; mode=display\">\\newcommand{\\Bold}[1]{\\mathbf{#1}}\\left(\\left\\{4\\right\\}, \\left\\{1111\\right\\}, \\mathrm{True}\\right)</script></html>"
      ],
      "text/plain": [
       "({4}, {[1, 1, 1, 1]}, True)"
      ]
     },
     "metadata": {},
     "output_type": "display_data"
    },
    {
     "data": {
      "text/html": [
       "<html><script type=\"math/tex; mode=display\">\\newcommand{\\Bold}[1]{\\mathbf{#1}}\\left(\\left\\{1, 4\\right\\}, \\left\\{2111, 4111, 3111\\right\\}, \\mathrm{True}\\right)</script></html>"
      ],
      "text/plain": [
       "({1, 4}, {[2, 1, 1, 1], [4, 1, 1, 1], [3, 1, 1, 1]}, True)"
      ]
     },
     "metadata": {},
     "output_type": "display_data"
    },
    {
     "data": {
      "text/html": [
       "<html><script type=\"math/tex; mode=display\">\\newcommand{\\Bold}[1]{\\mathbf{#1}}\\left(\\left\\{1, 2, 4\\right\\}, \\left\\{3211, 4211, 4311\\right\\}, \\mathrm{True}\\right)</script></html>"
      ],
      "text/plain": [
       "({1, 2, 4}, {[3, 2, 1, 1], [4, 2, 1, 1], [4, 3, 1, 1]}, True)"
      ]
     },
     "metadata": {},
     "output_type": "display_data"
    },
    {
     "data": {
      "text/html": [
       "<html><script type=\"math/tex; mode=display\">\\newcommand{\\Bold}[1]{\\mathbf{#1}}\\left(\\left\\{3, 4\\right\\}, \\left\\{2221\\right\\}, \\mathrm{True}\\right)</script></html>"
      ],
      "text/plain": [
       "({3, 4}, {[2, 2, 2, 1]}, True)"
      ]
     },
     "metadata": {},
     "output_type": "display_data"
    },
    {
     "data": {
      "text/html": [
       "<html><script type=\"math/tex; mode=display\">\\newcommand{\\Bold}[1]{\\mathbf{#1}}\\left(\\left\\{1, 3, 4\\right\\}, \\left\\{4221, 3221\\right\\}, \\mathrm{True}\\right)</script></html>"
      ],
      "text/plain": [
       "({1, 3, 4}, {[4, 2, 2, 1], [3, 2, 2, 1]}, True)"
      ]
     },
     "metadata": {},
     "output_type": "display_data"
    },
    {
     "data": {
      "text/html": [
       "<html><script type=\"math/tex; mode=display\">\\newcommand{\\Bold}[1]{\\mathbf{#1}}\\left(\\left\\{2, 3, 4\\right\\}, \\left\\{3321\\right\\}, \\mathrm{True}\\right)</script></html>"
      ],
      "text/plain": [
       "({2, 3, 4}, {[3, 3, 2, 1]}, True)"
      ]
     },
     "metadata": {},
     "output_type": "display_data"
    }
   ],
   "source": [
    "n=5\n",
    "for j in range(n):\n",
    "    for k in range(n-j-1):\n",
    "        A=Set(range(1,k+1)).union(Set([n-j for j in range(1,j+1)]))\n",
    "        show((A,classe_set(A,n),CalA_mn(n-j).skew_by(e[k])==sigma_ens(A,n)))"
   ]
  },
  {
   "cell_type": "code",
   "execution_count": 23,
   "metadata": {},
   "outputs": [
    {
     "data": {
      "text/html": [
       "<html><script type=\"math/tex; mode=display\">\\newcommand{\\Bold}[1]{\\mathbf{#1}}\\left(\\left\\{221\\right\\}, \\left\\{32\\right\\}\\right)</script></html>"
      ],
      "text/plain": [
       "({[2, 2, 1]}, {[3, 2]})"
      ]
     },
     "metadata": {},
     "output_type": "display_data"
    },
    {
     "data": {
      "text/html": [
       "<html><script type=\"math/tex; mode=display\">\\newcommand{\\Bold}[1]{\\mathbf{#1}}\\left(\\left\\{111\\right\\}, \\left\\{3\\right\\}\\right)</script></html>"
      ],
      "text/plain": [
       "({[1, 1, 1]}, {[3]})"
      ]
     },
     "metadata": {},
     "output_type": "display_data"
    },
    {
     "data": {
      "text/html": [
       "<html><script type=\"math/tex; mode=display\">\\newcommand{\\Bold}[1]{\\mathbf{#1}}\\left(\\left\\{2, 3, 1\\right\\}, \\left\\{111, 11, 1\\right\\}\\right)</script></html>"
      ],
      "text/plain": [
       "({[2], [3], [1]}, {[1, 1, 1], [1, 1], [1]})"
      ]
     },
     "metadata": {},
     "output_type": "display_data"
    },
    {
     "data": {
      "text/html": [
       "<html><script type=\"math/tex; mode=display\">\\newcommand{\\Bold}[1]{\\mathbf{#1}}\\left(\\left\\{211, 311\\right\\}, \\left\\{31, 311\\right\\}\\right)</script></html>"
      ],
      "text/plain": [
       "({[2, 1, 1], [3, 1, 1]}, {[3, 1], [3, 1, 1]})"
      ]
     },
     "metadata": {},
     "output_type": "display_data"
    },
    {
     "data": {
      "text/html": [
       "<html><script type=\"math/tex; mode=display\">\\newcommand{\\Bold}[1]{\\mathbf{#1}}\\left(\\left\\{32, 31, 21\\right\\}, \\left\\{221, 211, 21\\right\\}\\right)</script></html>"
      ],
      "text/plain": [
       "({[3, 2], [3, 1], [2, 1]}, {[2, 2, 1], [2, 1, 1], [2, 1]})"
      ]
     },
     "metadata": {},
     "output_type": "display_data"
    },
    {
     "data": {
      "text/html": [
       "<html><script type=\"math/tex; mode=display\">\\newcommand{\\Bold}[1]{\\mathbf{#1}}\\left(\\left\\{321\\right\\}, \\left\\{321\\right\\}\\right)</script></html>"
      ],
      "text/plain": [
       "({[3, 2, 1]}, {[3, 2, 1]})"
      ]
     },
     "metadata": {},
     "output_type": "display_data"
    },
    {
     "data": {
      "text/html": [
       "<html><script type=\"math/tex; mode=display\">\\newcommand{\\Bold}[1]{\\mathbf{#1}}\\left(\\left\\{0\\right\\}, \\left\\{0\\right\\}\\right)</script></html>"
      ],
      "text/plain": [
       "({[]}, {[]})"
      ]
     },
     "metadata": {},
     "output_type": "display_data"
    }
   ],
   "source": [
    "for B in relations_ens(4):\n",
    "    show((classe_set(B,4),Set(map(conjugate,classe_set(B,4)))))"
   ]
  },
  {
   "cell_type": "code",
   "execution_count": 24,
   "metadata": {},
   "outputs": [
    {
     "data": {
      "text/html": [
       "<html><script type=\"math/tex; mode=display\">\\newcommand{\\Bold}[1]{\\mathbf{#1}}\\left(\\left\\{4321\\right\\}, \\left\\{4321\\right\\}\\right)</script></html>"
      ],
      "text/plain": [
       "({[4, 3, 2, 1]}, {[4, 3, 2, 1]})"
      ]
     },
     "metadata": {},
     "output_type": "display_data"
    },
    {
     "data": {
      "text/html": [
       "<html><script type=\"math/tex; mode=display\">\\newcommand{\\Bold}[1]{\\mathbf{#1}}\\left(\\left\\{32, 43, 42, 31, 41, 21\\right\\}, \\left\\{2211, 221, 2111, 211, 2221, 21\\right\\}\\right)</script></html>"
      ],
      "text/plain": [
       "({[3, 2], [4, 3], [4, 2], [3, 1], [4, 1], [2, 1]},\n",
       " {[2, 2, 1, 1], [2, 2, 1], [2, 1, 1, 1], [2, 1, 1], [2, 2, 2, 1], [2, 1]})"
      ]
     },
     "metadata": {},
     "output_type": "display_data"
    },
    {
     "data": {
      "text/html": [
       "<html><script type=\"math/tex; mode=display\">\\newcommand{\\Bold}[1]{\\mathbf{#1}}\\left(\\left\\{2111, 4111, 3111\\right\\}, \\left\\{41, 411, 4111\\right\\}\\right)</script></html>"
      ],
      "text/plain": [
       "({[2, 1, 1, 1], [4, 1, 1, 1], [3, 1, 1, 1]}, {[4, 1], [4, 1, 1], [4, 1, 1, 1]})"
      ]
     },
     "metadata": {},
     "output_type": "display_data"
    },
    {
     "data": {
      "text/html": [
       "<html><script type=\"math/tex; mode=display\">\\newcommand{\\Bold}[1]{\\mathbf{#1}}\\left(\\left\\{0\\right\\}, \\left\\{0\\right\\}\\right)</script></html>"
      ],
      "text/plain": [
       "({[]}, {[]})"
      ]
     },
     "metadata": {},
     "output_type": "display_data"
    },
    {
     "data": {
      "text/html": [
       "<html><script type=\"math/tex; mode=display\">\\newcommand{\\Bold}[1]{\\mathbf{#1}}\\left(\\left\\{3321\\right\\}, \\left\\{432\\right\\}\\right)</script></html>"
      ],
      "text/plain": [
       "({[3, 3, 2, 1]}, {[4, 3, 2]})"
      ]
     },
     "metadata": {},
     "output_type": "display_data"
    },
    {
     "data": {
      "text/html": [
       "<html><script type=\"math/tex; mode=display\">\\newcommand{\\Bold}[1]{\\mathbf{#1}}\\left(\\left\\{3211, 4211, 4311\\right\\}, \\left\\{4211, 421, 4221\\right\\}\\right)</script></html>"
      ],
      "text/plain": [
       "({[3, 2, 1, 1], [4, 2, 1, 1], [4, 3, 1, 1]},\n",
       " {[4, 2, 1, 1], [4, 2, 1], [4, 2, 2, 1]})"
      ]
     },
     "metadata": {},
     "output_type": "display_data"
    },
    {
     "data": {
      "text/html": [
       "<html><script type=\"math/tex; mode=display\">\\newcommand{\\Bold}[1]{\\mathbf{#1}}\\left(\\left\\{2221\\right\\}, \\left\\{43\\right\\}\\right)</script></html>"
      ],
      "text/plain": [
       "({[2, 2, 2, 1]}, {[4, 3]})"
      ]
     },
     "metadata": {},
     "output_type": "display_data"
    },
    {
     "data": {
      "text/html": [
       "<html><script type=\"math/tex; mode=display\">\\newcommand{\\Bold}[1]{\\mathbf{#1}}\\left(\\left\\{4221, 3221\\right\\}, \\left\\{431, 4311\\right\\}\\right)</script></html>"
      ],
      "text/plain": [
       "({[4, 2, 2, 1], [3, 2, 2, 1]}, {[4, 3, 1], [4, 3, 1, 1]})"
      ]
     },
     "metadata": {},
     "output_type": "display_data"
    },
    {
     "data": {
      "text/html": [
       "<html><script type=\"math/tex; mode=display\">\\newcommand{\\Bold}[1]{\\mathbf{#1}}\\left(\\left\\{2, 3, 1, 4\\right\\}, \\left\\{111, 11, 1, 1111\\right\\}\\right)</script></html>"
      ],
      "text/plain": [
       "({[2], [3], [1], [4]}, {[1, 1, 1], [1, 1], [1], [1, 1, 1, 1]})"
      ]
     },
     "metadata": {},
     "output_type": "display_data"
    },
    {
     "data": {
      "text/html": [
       "<html><script type=\"math/tex; mode=display\">\\newcommand{\\Bold}[1]{\\mathbf{#1}}\\left(\\left\\{431, 421, 432, 321\\right\\}, \\left\\{3211, 3321, 3221, 321\\right\\}\\right)</script></html>"
      ],
      "text/plain": [
       "({[4, 3, 1], [4, 2, 1], [4, 3, 2], [3, 2, 1]},\n",
       " {[3, 2, 1, 1], [3, 3, 2, 1], [3, 2, 2, 1], [3, 2, 1]})"
      ]
     },
     "metadata": {},
     "output_type": "display_data"
    },
    {
     "data": {
      "text/html": [
       "<html><script type=\"math/tex; mode=display\">\\newcommand{\\Bold}[1]{\\mathbf{#1}}\\left(\\left\\{1111\\right\\}, \\left\\{4\\right\\}\\right)</script></html>"
      ],
      "text/plain": [
       "({[1, 1, 1, 1]}, {[4]})"
      ]
     },
     "metadata": {},
     "output_type": "display_data"
    }
   ],
   "source": [
    "for B in relations_ens(5):\n",
    "    show((classe_set(B,5),Set(map(conjugate,classe_set(B,5)))))"
   ]
  },
  {
   "cell_type": "code",
   "execution_count": 2,
   "metadata": {},
   "outputs": [],
   "source": [
    "composante??"
   ]
  },
  {
   "cell_type": "code",
   "execution_count": 5,
   "metadata": {},
   "outputs": [
    {
     "name": "stdout",
     "output_type": "stream",
     "text": [
      "Object `chaine_set` not found.\n"
     ]
    }
   ],
   "source": [
    "chaine_set??"
   ]
  },
  {
   "cell_type": "markdown",
   "metadata": {},
   "source": [
    "### Les composantes de longueur $0$, $1$, $n-2$, et $n-1$ de $\\sigma_n(\\mu)$ admettents des descriptions simples."
   ]
  },
  {
   "cell_type": "code",
   "execution_count": 33,
   "metadata": {},
   "outputs": [
    {
     "data": {
      "text/html": [
       "<html><script type=\"math/tex; mode=display\">\\newcommand{\\Bold}[1]{\\mathbf{#1}}\\left(\\left\\{\\right\\}, \\left[\\left(0, s_{2} + s_{3}\\right)\\right]\\right)</script></html>"
      ],
      "text/plain": [
       "({}, [([], s[2] + s[3])])"
      ]
     },
     "metadata": {},
     "output_type": "display_data"
    },
    {
     "data": {
      "text/html": [
       "<html><script type=\"math/tex; mode=display\">\\newcommand{\\Bold}[1]{\\mathbf{#1}}\\left(\\left\\{1\\right\\}, \\left[\\left(1, s_{2}\\right), \\left(2, s_{1}\\right), \\left(3, \\mathbb{1}\\right)\\right]\\right)</script></html>"
      ],
      "text/plain": [
       "({1}, [([1], s[2]), ([2], s[1]), ([3], s[])])"
      ]
     },
     "metadata": {},
     "output_type": "display_data"
    },
    {
     "data": {
      "text/html": [
       "<html><script type=\"math/tex; mode=display\">\\newcommand{\\Bold}[1]{\\mathbf{#1}}\\left(\\left\\{2\\right\\}, \\left[\\left(11, s_{1}\\right), \\left(22, \\mathbb{1}\\right)\\right]\\right)</script></html>"
      ],
      "text/plain": [
       "({2}, [([1, 1], s[1]), ([2, 2], s[])])"
      ]
     },
     "metadata": {},
     "output_type": "display_data"
    },
    {
     "data": {
      "text/html": [
       "<html><script type=\"math/tex; mode=display\">\\newcommand{\\Bold}[1]{\\mathbf{#1}}\\left(\\left\\{3\\right\\}, \\left[\\left(111, \\mathbb{1}\\right)\\right]\\right)</script></html>"
      ],
      "text/plain": [
       "({3}, [([1, 1, 1], s[])])"
      ]
     },
     "metadata": {},
     "output_type": "display_data"
    }
   ],
   "source": [
    "n=4\n",
    "k=n-2\n",
    "for B in Set(range(1,n)).subsets():\n",
    "    if n-B.cardinality()>k:\n",
    "        show((B,[(mu,composante(mu,n,k)) for mu in sorted(list(classe_set(B,n)))]))"
   ]
  },
  {
   "cell_type": "code",
   "execution_count": 34,
   "metadata": {},
   "outputs": [
    {
     "data": {
      "text/html": [
       "<html><script type=\"math/tex; mode=display\">\\newcommand{\\Bold}[1]{\\mathbf{#1}}\\left(\\left\\{\\right\\}, \\left[\\left(0, s_{2} + s_{3} + s_{4}\\right)\\right]\\right)</script></html>"
      ],
      "text/plain": [
       "({}, [([], s[2] + s[3] + s[4])])"
      ]
     },
     "metadata": {},
     "output_type": "display_data"
    },
    {
     "data": {
      "text/html": [
       "<html><script type=\"math/tex; mode=display\">\\newcommand{\\Bold}[1]{\\mathbf{#1}}\\left(\\left\\{1\\right\\}, \\left[\\left(1, s_{3}\\right), \\left(2, s_{2}\\right), \\left(3, s_{1}\\right), \\left(4, \\mathbb{1}\\right)\\right]\\right)</script></html>"
      ],
      "text/plain": [
       "({1}, [([1], s[3]), ([2], s[2]), ([3], s[1]), ([4], s[])])"
      ]
     },
     "metadata": {},
     "output_type": "display_data"
    },
    {
     "data": {
      "text/html": [
       "<html><script type=\"math/tex; mode=display\">\\newcommand{\\Bold}[1]{\\mathbf{#1}}\\left(\\left\\{2\\right\\}, \\left[\\left(11, s_{2}\\right), \\left(22, s_{1}\\right), \\left(33, \\mathbb{1}\\right)\\right]\\right)</script></html>"
      ],
      "text/plain": [
       "({2}, [([1, 1], s[2]), ([2, 2], s[1]), ([3, 3], s[])])"
      ]
     },
     "metadata": {},
     "output_type": "display_data"
    },
    {
     "data": {
      "text/html": [
       "<html><script type=\"math/tex; mode=display\">\\newcommand{\\Bold}[1]{\\mathbf{#1}}\\left(\\left\\{3\\right\\}, \\left[\\left(111, s_{1}\\right), \\left(222, \\mathbb{1}\\right)\\right]\\right)</script></html>"
      ],
      "text/plain": [
       "({3}, [([1, 1, 1], s[1]), ([2, 2, 2], s[])])"
      ]
     },
     "metadata": {},
     "output_type": "display_data"
    },
    {
     "data": {
      "text/html": [
       "<html><script type=\"math/tex; mode=display\">\\newcommand{\\Bold}[1]{\\mathbf{#1}}\\left(\\left\\{4\\right\\}, \\left[\\left(1111, \\mathbb{1}\\right)\\right]\\right)</script></html>"
      ],
      "text/plain": [
       "({4}, [([1, 1, 1, 1], s[])])"
      ]
     },
     "metadata": {},
     "output_type": "display_data"
    }
   ],
   "source": [
    "n=5\n",
    "k=n-2\n",
    "for B in Set(range(1,n)).subsets():\n",
    "    if n-B.cardinality()>k:\n",
    "        show((B,[(mu,composante(mu,n,k)) for mu in sorted(list(classe_set(B,n)))]))"
   ]
  },
  {
   "cell_type": "markdown",
   "metadata": {},
   "source": [
    "### Grâce à la propriété 3) On peut se restreindre aux $\\mu$ tels que ${\\rm des}(\\mu)\\subseteq \\{1..n-3\\}$."
   ]
  },
  {
   "cell_type": "code",
   "execution_count": 39,
   "metadata": {},
   "outputs": [
    {
     "data": {
      "text/html": [
       "<html><script type=\"math/tex; mode=display\">\\newcommand{\\Bold}[1]{\\mathbf{#1}}\\left(\\left\\{\\right\\}, \\left[\\left(0, s_{31} + s_{32} + s_{5} + s_{51} + s_{6} + s_{7}\\right)\\right]\\right)</script></html>"
      ],
      "text/plain": [
       "({}, [([], s[3, 1] + s[3, 2] + s[5] + s[5, 1] + s[6] + s[7])])"
      ]
     },
     "metadata": {},
     "output_type": "display_data"
    },
    {
     "data": {
      "text/html": [
       "<html><script type=\"math/tex; mode=display\">\\newcommand{\\Bold}[1]{\\mathbf{#1}}\\left(\\left\\{1\\right\\}, \\left[\\left(1, s_{22} + s_{41} + s_{5} + s_{6}\\right), \\left(2, s_{31} + s_{4} + s_{5}\\right), \\left(3, s_{21} + s_{3} + s_{4}\\right), \\left(4, s_{2} + s_{3}\\right)\\right]\\right)</script></html>"
      ],
      "text/plain": [
       "({1},\n",
       " [([1], s[2, 2] + s[4, 1] + s[5] + s[6]),\n",
       "  ([2], s[3, 1] + s[4] + s[5]),\n",
       "  ([3], s[2, 1] + s[3] + s[4]),\n",
       "  ([4], s[2] + s[3])])"
      ]
     },
     "metadata": {},
     "output_type": "display_data"
    },
    {
     "data": {
      "text/html": [
       "<html><script type=\"math/tex; mode=display\">\\newcommand{\\Bold}[1]{\\mathbf{#1}}\\left(\\left\\{2\\right\\}, \\left[\\left(11, s_{31} + s_{4} + s_{5}\\right), \\left(22, s_{11} + 2s_{3}\\right), \\left(33, s_{1} + s_{2}\\right)\\right]\\right)</script></html>"
      ],
      "text/plain": [
       "({2},\n",
       " [([1, 1], s[3, 1] + s[4] + s[5]),\n",
       "  ([2, 2], s[1, 1] + 2*s[3]),\n",
       "  ([3, 3], s[1] + s[2])])"
      ]
     },
     "metadata": {},
     "output_type": "display_data"
    },
    {
     "data": {
      "text/html": [
       "<html><script type=\"math/tex; mode=display\">\\newcommand{\\Bold}[1]{\\mathbf{#1}}\\left(\\left\\{1, 2\\right\\}, \\left[\\left(21, s_{21} + s_{4}\\right), \\left(31, s_{3}\\right), \\left(32, s_{2}\\right), \\left(41, s_{2}\\right), \\left(42, s_{1}\\right), \\left(43, \\mathbb{1}\\right)\\right]\\right)</script></html>"
      ],
      "text/plain": [
       "({1, 2},\n",
       " [([2, 1], s[2, 1] + s[4]),\n",
       "  ([3, 1], s[3]),\n",
       "  ([3, 2], s[2]),\n",
       "  ([4, 1], s[2]),\n",
       "  ([4, 2], s[1]),\n",
       "  ([4, 3], s[])])"
      ]
     },
     "metadata": {},
     "output_type": "display_data"
    }
   ],
   "source": [
    "n=5\n",
    "k=2\n",
    "for B in Set(range(1,n-2)).subsets():\n",
    "    if n-B.cardinality()>k:\n",
    "        show((B,[(mu,composante(mu,n,k)) for mu in sorted(list(classe_set(B,n)))]))"
   ]
  },
  {
   "cell_type": "code",
   "execution_count": 5,
   "metadata": {},
   "outputs": [
    {
     "data": {
      "text/html": [
       "<html><script type=\"math/tex; mode=display\">\\newcommand{\\Bold}[1]{\\mathbf{#1}}\\left(1111, s_{111} + s_{31} + s_{41} + s_{6}\\right)</script></html>"
      ],
      "text/plain": [
       "([1, 1, 1, 1], s[1, 1, 1] + s[3, 1] + s[4, 1] + s[6])"
      ]
     },
     "metadata": {},
     "output_type": "display_data"
    },
    {
     "data": {
      "text/html": [
       "<html><script type=\"math/tex; mode=display\">\\newcommand{\\Bold}[1]{\\mathbf{#1}}\\left(211, s_{11} + s_{21} + s_{3} + s_{31} + s_{4} + s_{5}\\right)</script></html>"
      ],
      "text/plain": [
       "([2, 1, 1], s[1, 1] + s[2, 1] + s[3] + s[3, 1] + s[4] + s[5])"
      ]
     },
     "metadata": {},
     "output_type": "display_data"
    },
    {
     "data": {
      "text/html": [
       "<html><script type=\"math/tex; mode=display\">\\newcommand{\\Bold}[1]{\\mathbf{#1}}\\left(22, s_{2} + s_{21} + s_{4}\\right)</script></html>"
      ],
      "text/plain": [
       "([2, 2], s[2] + s[2, 1] + s[4])"
      ]
     },
     "metadata": {},
     "output_type": "display_data"
    },
    {
     "data": {
      "text/html": [
       "<html><script type=\"math/tex; mode=display\">\\newcommand{\\Bold}[1]{\\mathbf{#1}}\\left(31, s_{1} + s_{2} + s_{3}\\right)</script></html>"
      ],
      "text/plain": [
       "([3, 1], s[1] + s[2] + s[3])"
      ]
     },
     "metadata": {},
     "output_type": "display_data"
    },
    {
     "data": {
      "text/html": [
       "<html><script type=\"math/tex; mode=display\">\\newcommand{\\Bold}[1]{\\mathbf{#1}}\\left(4, \\mathbb{1}\\right)</script></html>"
      ],
      "text/plain": [
       "([4], s[])"
      ]
     },
     "metadata": {},
     "output_type": "display_data"
    }
   ],
   "source": [
    "Dishout(CalE_mn(4))"
   ]
  },
  {
   "cell_type": "markdown",
   "metadata": {},
   "source": [
    "### Extension à toutes les chaînes"
   ]
  },
  {
   "cell_type": "code",
   "execution_count": 30,
   "metadata": {},
   "outputs": [],
   "source": [
    "EE_4=(CalE_mn(4)\n",
    "      + tensor([e[5](X+Un), e[3,1]]) \n",
    "      + tensor([e[6](X+Un), e[4]]))"
   ]
  },
  {
   "cell_type": "code",
   "execution_count": 31,
   "metadata": {},
   "outputs": [],
   "source": [
    "FF_4=(CalF_mn(4)\n",
    "      +tensor([e[5](X+2*Un), e[3,1]])\n",
    "      +tensor([e[6](X+2*Un), e[4]]))"
   ]
  },
  {
   "cell_type": "code",
   "execution_count": 33,
   "metadata": {},
   "outputs": [
    {
     "data": {
      "text/html": [
       "<html><script type=\"math/tex; mode=display\">\\newcommand{\\Bold}[1]{\\mathbf{#1}}\\left(1111, \\mathbb{1}\\right)</script></html>"
      ],
      "text/plain": [
       "([1, 1, 1, 1], s[])"
      ]
     },
     "metadata": {},
     "output_type": "display_data"
    },
    {
     "data": {
      "text/html": [
       "<html><script type=\"math/tex; mode=display\">\\newcommand{\\Bold}[1]{\\mathbf{#1}}\\left(211, 3s_{1} + 2s_{2} + s_{3}\\right)</script></html>"
      ],
      "text/plain": [
       "([2, 1, 1], 3*s[1] + 2*s[2] + s[3])"
      ]
     },
     "metadata": {},
     "output_type": "display_data"
    },
    {
     "data": {
      "text/html": [
       "<html><script type=\"math/tex; mode=display\">\\newcommand{\\Bold}[1]{\\mathbf{#1}}\\left(22, s_{11} + s_{2} + s_{21} + s_{4}\\right)</script></html>"
      ],
      "text/plain": [
       "([2, 2], s[1, 1] + s[2] + s[2, 1] + s[4])"
      ]
     },
     "metadata": {},
     "output_type": "display_data"
    },
    {
     "data": {
      "text/html": [
       "<html><script type=\"math/tex; mode=display\">\\newcommand{\\Bold}[1]{\\mathbf{#1}}\\left(31, 2s_{11} + s_{111} + 2s_{1111} + s_{11111} + s_{21} + 2s_{3} + s_{31} + s_{4} + s_{5}\\right)</script></html>"
      ],
      "text/plain": [
       "([3, 1],\n",
       " 2*s[1, 1] + s[1, 1, 1] + 2*s[1, 1, 1, 1] + s[1, 1, 1, 1, 1] + s[2, 1] + 2*s[3] + s[3, 1] + s[4] + s[5])"
      ]
     },
     "metadata": {},
     "output_type": "display_data"
    },
    {
     "data": {
      "text/html": [
       "<html><script type=\"math/tex; mode=display\">\\newcommand{\\Bold}[1]{\\mathbf{#1}}\\left(4, s_{111} + s_{1111} + 2s_{11111} + s_{111111} + s_{31} + s_{41} + s_{6}\\right)</script></html>"
      ],
      "text/plain": [
       "([4],\n",
       " s[1, 1, 1] + s[1, 1, 1, 1] + 2*s[1, 1, 1, 1, 1] + s[1, 1, 1, 1, 1, 1] + s[3, 1] + s[4, 1] + s[6])"
      ]
     },
     "metadata": {},
     "output_type": "display_data"
    }
   ],
   "source": [
    "Dishout(FF_4,f)"
   ]
  },
  {
   "cell_type": "code",
   "execution_count": 34,
   "metadata": {},
   "outputs": [
    {
     "data": {
      "text/html": [
       "<html><script type=\"math/tex; mode=display\">\\newcommand{\\Bold}[1]{\\mathbf{#1}}\\mathrm{True}</script></html>"
      ],
      "text/plain": [
       "True"
      ]
     },
     "execution_count": 34,
     "metadata": {},
     "output_type": "execute_result"
    }
   ],
   "source": [
    "Scalar2(FF_4,e[4])==add(c*s(mu) for (mu,nu),c in tensor([s,e])(FF_4))"
   ]
  },
  {
   "cell_type": "code",
   "execution_count": 36,
   "metadata": {},
   "outputs": [
    {
     "data": {
      "text/html": [
       "<html><script type=\"math/tex; mode=display\">\\newcommand{\\Bold}[1]{\\mathbf{#1}}\\left[\\left[321, 32, 31, 3, 2\\right], \\left[321, 311, 3, 2\\right], \\left[321, 32, 31, 21, 2\\right]\\right]</script></html>"
      ],
      "text/plain": [
       "Set of elements of [[[3, 2, 1], [3, 2], [3, 1], [3], [2]], [[3, 2, 1], [3, 1, 1], [3], [2]], [[3, 2, 1], [3, 2], [3, 1], [2, 1], [2]]]"
      ]
     },
     "execution_count": 36,
     "metadata": {},
     "output_type": "execute_result"
    }
   ],
   "source": [
    "les_chaines_max(Partition([2]),4)"
   ]
  },
  {
   "cell_type": "code",
   "execution_count": 76,
   "metadata": {},
   "outputs": [
    {
     "data": {
      "text/html": [
       "<html><script type=\"math/tex; mode=display\">\\newcommand{\\Bold}[1]{\\mathbf{#1}}\\left\\{\\left(321, 32, 31, 21\\right), \\left(321, 21\\right), \\left(321, 32, 21\\right), \\left(321, 31, 21\\right)\\right\\}</script></html>"
      ],
      "text/plain": [
       "{([3, 2, 1], [3, 2], [3, 1], [2, 1]), ([3, 2, 1], [2, 1]), ([3, 2, 1], [3, 2], [2, 1]), ([3, 2, 1], [3, 1], [2, 1])}"
      ]
     },
     "execution_count": 76,
     "metadata": {},
     "output_type": "execute_result"
    }
   ],
   "source": [
    "les_chaines([2,1],4)"
   ]
  },
  {
   "cell_type": "code",
   "execution_count": 86,
   "metadata": {},
   "outputs": [
    {
     "data": {
      "image/png": "[encoded data removed]",
      "text/plain": [
       "Graphics object consisting of 5 graphics primitives"
      ]
     },
     "metadata": {},
     "output_type": "display_data"
    },
    {
     "data": {
      "image/png": "[encoded data removed]",
      "text/plain": [
       "Graphics object consisting of 5 graphics primitives"
      ]
     },
     "metadata": {},
     "output_type": "display_data"
    },
    {
     "data": {
      "image/png": "[encoded data removed]",
      "text/plain": [
       "Graphics object consisting of 5 graphics primitives"
      ]
     },
     "metadata": {},
     "output_type": "display_data"
    }
   ],
   "source": [
    "dessine_chaine([[4, 3, 2, 1], [3, 2, 2, 1], [2, 2, 1], [1, 1, 1]])\n",
    "dessine_chaine([[4, 3, 2, 1], [3, 2, 2, 1], [3,1, 1], [1, 1, 1]])\n",
    "dessine_chaine([[4, 3, 2, 1], [3, 2, 1, 1], [3,1, 1], [1, 1, 1]])"
   ]
  },
  {
   "cell_type": "markdown",
   "metadata": {},
   "source": [
    "## Here we check that the calculation of $\\sigma(\\mu)$ is \"locally\" compatible with the Delta conjecture, which is to say that for each $\\mu$\n",
    " ###  $$(e_k^\\perp \\sigma_n(\\mu))(q,0,0,\\ldots)=\\sum_{{J\\supseteq {\\mathrm{des}(\\mu)}}\\atop {\\# J=n-1-k}} q^{\\sum_{i\\in J} a_i}.$$"
   ]
  },
  {
   "cell_type": "code",
   "execution_count": 8,
   "metadata": {},
   "outputs": [
    {
     "data": {
      "text/html": [
       "<html><script type=\"math/tex; mode=display\">\\newcommand{\\Bold}[1]{\\mathbf{#1}}\\left[\\left(2, 0, \\left\\{\\mathrm{True}\\right\\}\\right), \\left(2, 1, \\left\\{\\mathrm{True}\\right\\}\\right), \\left(3, 0, \\left\\{\\mathrm{True}\\right\\}\\right), \\left(3, 1, \\left\\{\\mathrm{True}\\right\\}\\right), \\left(3, 2, \\left\\{\\mathrm{True}\\right\\}\\right), \\left(4, 0, \\left\\{\\mathrm{True}\\right\\}\\right), \\left(4, 1, \\left\\{\\mathrm{True}\\right\\}\\right), \\left(4, 2, \\left\\{\\mathrm{True}\\right\\}\\right), \\left(4, 3, \\left\\{\\mathrm{True}\\right\\}\\right), \\left(5, 0, \\left\\{\\mathrm{True}\\right\\}\\right), \\left(5, 1, \\left\\{\\mathrm{True}\\right\\}\\right), \\left(5, 2, \\left\\{\\mathrm{True}\\right\\}\\right), \\left(5, 3, \\left\\{\\mathrm{True}\\right\\}\\right), \\left(5, 4, \\left\\{\\mathrm{True}\\right\\}\\right), \\left(6, 0, \\left\\{\\mathrm{True}\\right\\}\\right), \\left(6, 1, \\left\\{\\mathrm{True}\\right\\}\\right), \\left(6, 2, \\left\\{\\mathrm{True}\\right\\}\\right), \\left(6, 3, \\left\\{\\mathrm{True}\\right\\}\\right), \\left(6, 4, \\left\\{\\mathrm{True}\\right\\}\\right), \\left(6, 5, \\left\\{\\mathrm{True}\\right\\}\\right)\\right]</script></html>"
      ],
      "text/plain": [
       "[(2, 0, {True}),\n",
       " (2, 1, {True}),\n",
       " (3, 0, {True}),\n",
       " (3, 1, {True}),\n",
       " (3, 2, {True}),\n",
       " (4, 0, {True}),\n",
       " (4, 1, {True}),\n",
       " (4, 2, {True}),\n",
       " (4, 3, {True}),\n",
       " (5, 0, {True}),\n",
       " (5, 1, {True}),\n",
       " (5, 2, {True}),\n",
       " (5, 3, {True}),\n",
       " (5, 4, {True}),\n",
       " (6, 0, {True}),\n",
       " (6, 1, {True}),\n",
       " (6, 2, {True}),\n",
       " (6, 3, {True}),\n",
       " (6, 4, {True}),\n",
       " (6, 5, {True})]"
      ]
     },
     "execution_count": 8,
     "metadata": {},
     "output_type": "execute_result"
    }
   ],
   "source": [
    "[(n,k,Set([(sigma_prime(mu,n).skew_by(e[n-1-k]))(q*Un).scalar(Un)==Jim(mu,n,n,k) \n",
    "           for mu in Dyck(n)])) for n in range(2,7) for k in range(n)]"
   ]
  },
  {
   "cell_type": "markdown",
   "metadata": {},
   "source": [
    "for n in range(3,8):\n",
    "    show((n,sigma_prime(Partition([n-1]),n)==sigma_prime(Partition([0]),n-1)))"
   ]
  },
  {
   "cell_type": "markdown",
   "metadata": {},
   "source": [
    "### 1) $\\sigma_{m,n}(\\mu)=\\sigma_{n,m}(\\mu')$,\n",
    "\n",
    "### 2) for $\\mu\\subseteq \\delta_{n-1}$, we have $\\sigma_n(\\mu+1^{n-1}) = \\sigma_{n-1}(\\mu)=\\sigma_n((n-1,\\mu))$,\n"
   ]
  },
  {
   "cell_type": "code",
   "execution_count": 59,
   "metadata": {},
   "outputs": [],
   "source": [
    "def long_sigma(mu,n):\n",
    "    return n-risers(mu,n).__len__()\n",
    "\n",
    "def a_trouver(n):\n",
    "    return (Set([mu for mu in Dyck(n) if long_sigma(mu,n)>1]).difference(Set([plus(mu,colone(n-1)) \n",
    "                              for mu in Dyck(n)]))).difference(Set([Partition([n-1]+list(mu)) \n",
    "                                                                    for mu in Dyck(n-1)]))"
   ]
  },
  {
   "cell_type": "code",
   "execution_count": 62,
   "metadata": {},
   "outputs": [
    {
     "data": {
      "text/html": [
       "<html><script type=\"math/tex; mode=display\">\\newcommand{\\Bold}[1]{\\mathbf{#1}}\\left(2, 2\\right)</script></html>"
      ],
      "text/plain": [
       "([2], 2)"
      ]
     },
     "metadata": {},
     "output_type": "display_data"
    },
    {
     "data": {
      "text/html": [
       "<html><script type=\"math/tex; mode=display\">\\newcommand{\\Bold}[1]{\\mathbf{#1}}\\left(0, 3\\right)</script></html>"
      ],
      "text/plain": [
       "([], 3)"
      ]
     },
     "metadata": {},
     "output_type": "display_data"
    },
    {
     "data": {
      "text/html": [
       "<html><script type=\"math/tex; mode=display\">\\newcommand{\\Bold}[1]{\\mathbf{#1}}\\left(11, 2\\right)</script></html>"
      ],
      "text/plain": [
       "([1, 1], 2)"
      ]
     },
     "metadata": {},
     "output_type": "display_data"
    },
    {
     "data": {
      "text/html": [
       "<html><script type=\"math/tex; mode=display\">\\newcommand{\\Bold}[1]{\\mathbf{#1}}\\left(1, 2\\right)</script></html>"
      ],
      "text/plain": [
       "([1], 2)"
      ]
     },
     "metadata": {},
     "output_type": "display_data"
    },
    {
     "data": {
      "text/html": [
       "<html><script type=\"math/tex; mode=display\">\\newcommand{\\Bold}[1]{\\mathbf{#1}}\\left(22, 2\\right)</script></html>"
      ],
      "text/plain": [
       "([2, 2], 2)"
      ]
     },
     "metadata": {},
     "output_type": "display_data"
    }
   ],
   "source": [
    "n=4\n",
    "for mu in a_trouver(n):\n",
    "    show((mu,n-risers(Partition(mu),n).__len__()))"
   ]
  },
  {
   "cell_type": "code",
   "execution_count": 25,
   "metadata": {},
   "outputs": [
    {
     "data": {
      "text/html": [
       "<html><script type=\"math/tex; mode=display\">\\newcommand{\\Bold}[1]{\\mathbf{#1}}\\left(- q^{3} + q^{2}\\right)s_{2} + \\left(q^{3} -  q^{2}\\right)s_{3}</script></html>"
      ],
      "text/plain": [
       "(-q^3+q^2)*s[2] + (q^3-q^2)*s[3]"
      ]
     },
     "execution_count": 25,
     "metadata": {},
     "output_type": "execute_result"
    }
   ],
   "source": [
    "(add(q^distance(mu,Partition([0]),4)*sigma(mu,4) for mu in Dyck(4))-CalA_mn(4)(X+q))"
   ]
  },
  {
   "cell_type": "code",
   "execution_count": 15,
   "metadata": {},
   "outputs": [
    {
     "data": {
      "text/html": [
       "<html><script type=\"math/tex; mode=display\">\\newcommand{\\Bold}[1]{\\mathbf{#1}}\\left(q^{8} -  q^{7} -  q^{6} + q^{4}\\right)s_{1} + \\left(q^{6} + q^{5} -  q^{4} -  q^{3}\\right)s_{11} + s_{1111} + \\left(- q^{8} + q^{7} + 2 q^{6} -  q^{4} -  q^{3}\\right)s_{2} + \\left(- q^{6} -  q^{4} + q^{3} + q^{2}\\right)s_{21} + \\left(- q^{4} + q^{3}\\right)s_{22} + \\left(- q^{6} + q^{4}\\right)s_{3} + s_{311} + \\left(q^{3} -  q^{2}\\right)s_{32} + \\left(- q^{4} + q^{2}\\right)s_{4} + s_{411} + s_{42} + s_{43} + \\left(q^{3} -  q^{2}\\right)s_{51} + s_{511} + s_{61} + s_{62} + \\left(q^{3} -  q^{2}\\right)s_{7} + s_{71} + s_{81} + s_{10.}</script></html>"
      ],
      "text/plain": [
       "(q^8-q^7-q^6+q^4)*s[1] + (q^6+q^5-q^4-q^3)*s[1, 1] + s[1, 1, 1, 1] + (-q^8+q^7+2*q^6-q^4-q^3)*s[2] + (-q^6-q^4+q^3+q^2)*s[2, 1] + (-q^4+q^3)*s[2, 2] + (-q^6+q^4)*s[3] + s[3, 1, 1] + (q^3-q^2)*s[3, 2] + (-q^4+q^2)*s[4] + s[4, 1, 1] + s[4, 2] + s[4, 3] + (q^3-q^2)*s[5, 1] + s[5, 1, 1] + s[6, 1] + s[6, 2] + (q^3-q^2)*s[7] + s[7, 1] + s[8, 1] + s[10]"
      ]
     },
     "execution_count": 15,
     "metadata": {},
     "output_type": "execute_result"
    }
   ],
   "source": [
    "(add(q^distance(mu,Partition([0]),5)*sigma_prime(mu,5) \n",
    "                     for mu in Dyck(5)))(X-q)"
   ]
  },
  {
   "cell_type": "code",
   "execution_count": 25,
   "metadata": {},
   "outputs": [
    {
     "data": {
      "text/html": [
       "<html><script type=\"math/tex; mode=display\">\\newcommand{\\Bold}[1]{\\mathbf{#1}}s_{42} + s_{43} + s_{62}</script></html>"
      ],
      "text/plain": [
       "s[4, 2] + s[4, 3] + s[6, 2]"
      ]
     },
     "execution_count": 25,
     "metadata": {},
     "output_type": "execute_result"
    }
   ],
   "source": [
    "CalA_mn(5)-(add_row(1,CalA_mn(4))+addmu([4],CalA_mn(4)))"
   ]
  },
  {
   "cell_type": "code",
   "execution_count": 26,
   "metadata": {},
   "outputs": [
    {
     "data": {
      "text/html": [
       "<html><script type=\"math/tex; mode=display\">\\newcommand{\\Bold}[1]{\\mathbf{#1}}s_{44} + s_{441} + s_{521} + s_{531} + s_{63} + s_{631} + s_{64} + s_{72} + s_{721} + s_{73} + s_{74} + s_{82} + s_{821} + s_{83} + s_{10.2}</script></html>"
      ],
      "text/plain": [
       "s[4, 4] + s[4, 4, 1] + s[5, 2, 1] + s[5, 3, 1] + s[6, 3] + s[6, 3, 1] + s[6, 4] + s[7, 2] + s[7, 2, 1] + s[7, 3] + s[7, 4] + s[8, 2] + s[8, 2, 1] + s[8, 3] + s[10, 2]"
      ]
     },
     "execution_count": 26,
     "metadata": {},
     "output_type": "execute_result"
    }
   ],
   "source": [
    "CalA_mn(6)-(add_row(1,CalA_mn(5))+addmu([5],CalA_mn(5)))"
   ]
  },
  {
   "cell_type": "code",
   "execution_count": 28,
   "metadata": {},
   "outputs": [
    {
     "data": {
      "text/html": [
       "<html><script type=\"math/tex; mode=display\">\\newcommand{\\Bold}[1]{\\mathbf{#1}}q^{6}\\mathbb{1} + \\left(q^{5} + q^{4} + q^{3}\\right)s_{1} + \\left(q^{3} + q^{2} + q\\right)s_{11} + s_{111} + \\left(q^{4} + q^{3} + q^{2}\\right)s_{2} + \\left(q^{2} + q\\right)s_{21} + \\left(q^{3} + q^{2} + q\\right)s_{3} + \\left(q + 1\\right)s_{31} + \\left(q^{2} + q\\right)s_{4} + s_{41} + qs_{5} + s_{6}</script></html>"
      ],
      "text/plain": [
       "q^6*s[] + (q^5+q^4+q^3)*s[1] + (q^3+q^2+q)*s[1, 1] + s[1, 1, 1] + (q^4+q^3+q^2)*s[2] + (q^2+q)*s[2, 1] + (q^3+q^2+q)*s[3] + (q+1)*s[3, 1] + (q^2+q)*s[4] + s[4, 1] + q*s[5] + s[6]"
      ]
     },
     "execution_count": 28,
     "metadata": {},
     "output_type": "execute_result"
    }
   ],
   "source": [
    "CalA_mn(4)(X+q)"
   ]
  },
  {
   "cell_type": "markdown",
   "metadata": {},
   "source": [
    "### 4)  for which $\\mu$ do we have  \n",
    " ###  $$\\sum_{\\nu\\preceq \\mu} \\sigma_n(\\nu) \\not= \\sigma_{n}(\\mu)[1+\\mathbf{q}]$$\n"
   ]
  },
  {
   "cell_type": "code",
   "execution_count": 42,
   "metadata": {},
   "outputs": [],
   "source": [
    "def defaut_Intervale(mu,n):\n",
    "    return add(sigma(nu,n) for nu in Intervale(staircase(n,n),mu,n))-sigma_prime(mu,n)(X+1)"
   ]
  },
  {
   "cell_type": "code",
   "execution_count": 31,
   "metadata": {},
   "outputs": [
    {
     "data": {
      "text/html": [
       "<html><script type=\"math/tex; mode=display\">\\newcommand{\\Bold}[1]{\\mathbf{#1}}\\left(1, \\left[\\right]\\right)</script></html>"
      ],
      "text/plain": [
       "(1, [])"
      ]
     },
     "metadata": {},
     "output_type": "display_data"
    },
    {
     "data": {
      "text/html": [
       "<html><script type=\"math/tex; mode=display\">\\newcommand{\\Bold}[1]{\\mathbf{#1}}\\left(2, \\left[\\right]\\right)</script></html>"
      ],
      "text/plain": [
       "(2, [])"
      ]
     },
     "metadata": {},
     "output_type": "display_data"
    },
    {
     "data": {
      "text/html": [
       "<html><script type=\"math/tex; mode=display\">\\newcommand{\\Bold}[1]{\\mathbf{#1}}\\left(3, \\left[\\right]\\right)</script></html>"
      ],
      "text/plain": [
       "(3, [])"
      ]
     },
     "metadata": {},
     "output_type": "display_data"
    },
    {
     "data": {
      "text/html": [
       "<html><script type=\"math/tex; mode=display\">\\newcommand{\\Bold}[1]{\\mathbf{#1}}\\left(4, \\left[2\\right]\\right)</script></html>"
      ],
      "text/plain": [
       "(4, [[2]])"
      ]
     },
     "metadata": {},
     "output_type": "display_data"
    },
    {
     "data": {
      "text/html": [
       "<html><script type=\"math/tex; mode=display\">\\newcommand{\\Bold}[1]{\\mathbf{#1}}\\left(5, \\left[0, 1, 2, 11, 3, 21, 111, 31, 22, 211, 32, 311, 42, 3111\\right]\\right)</script></html>"
      ],
      "text/plain": [
       "(5,\n",
       " [[],\n",
       "  [1],\n",
       "  [2],\n",
       "  [1, 1],\n",
       "  [3],\n",
       "  [2, 1],\n",
       "  [1, 1, 1],\n",
       "  [3, 1],\n",
       "  [2, 2],\n",
       "  [2, 1, 1],\n",
       "  [3, 2],\n",
       "  [3, 1, 1],\n",
       "  [4, 2],\n",
       "  [3, 1, 1, 1]])"
      ]
     },
     "metadata": {},
     "output_type": "display_data"
    }
   ],
   "source": [
    "for n in range(1,6):\n",
    "    show((n,[mu for mu in Dyck(n) if defaut_Intervale(mu,n)<>0]))"
   ]
  },
  {
   "cell_type": "code",
   "execution_count": 34,
   "metadata": {},
   "outputs": [
    {
     "data": {
      "text/html": [
       "<html><script type=\"math/tex; mode=display\">\\newcommand{\\Bold}[1]{\\mathbf{#1}}\\left[\\left[0\\right]\\right]</script></html>"
      ],
      "text/plain": [
       "[[[]]]"
      ]
     },
     "metadata": {},
     "output_type": "display_data"
    },
    {
     "data": {
      "text/html": [
       "<html><script type=\"math/tex; mode=display\">\\newcommand{\\Bold}[1]{\\mathbf{#1}}\\left[\\left[4, 3, 2, 1\\right], \\left[1111\\right], \\left[33, 22, 11\\right], \\left[222, 111\\right]\\right]</script></html>"
      ],
      "text/plain": [
       "[[[4], [3], [2], [1]],\n",
       " [[1, 1, 1, 1]],\n",
       " [[3, 3], [2, 2], [1, 1]],\n",
       " [[2, 2, 2], [1, 1, 1]]]"
      ]
     },
     "metadata": {},
     "output_type": "display_data"
    },
    {
     "data": {
      "text/html": [
       "<html><script type=\"math/tex; mode=display\">\\newcommand{\\Bold}[1]{\\mathbf{#1}}\\left[\\left[43, 42, 32, 41, 31, 21\\right], \\left[4111, 3111, 2111\\right], \\left[2221\\right], \\left[422, 322, 411, 311, 211\\right], \\left[332, 331, 221\\right], \\left[3311, 2211\\right]\\right]</script></html>"
      ],
      "text/plain": [
       "[[[4, 3], [4, 2], [3, 2], [4, 1], [3, 1], [2, 1]],\n",
       " [[4, 1, 1, 1], [3, 1, 1, 1], [2, 1, 1, 1]],\n",
       " [[2, 2, 2, 1]],\n",
       " [[4, 2, 2], [3, 2, 2], [4, 1, 1], [3, 1, 1], [2, 1, 1]],\n",
       " [[3, 3, 2], [3, 3, 1], [2, 2, 1]],\n",
       " [[3, 3, 1, 1], [2, 2, 1, 1]]]"
      ]
     },
     "metadata": {},
     "output_type": "display_data"
    },
    {
     "data": {
      "text/html": [
       "<html><script type=\"math/tex; mode=display\">\\newcommand{\\Bold}[1]{\\mathbf{#1}}\\left[\\left[432, 431, 421, 321\\right], \\left[4311, 4211, 3211\\right], \\left[4221, 3221\\right], \\left[3321\\right]\\right]</script></html>"
      ],
      "text/plain": [
       "[[[4, 3, 2], [4, 3, 1], [4, 2, 1], [3, 2, 1]],\n",
       " [[4, 3, 1, 1], [4, 2, 1, 1], [3, 2, 1, 1]],\n",
       " [[4, 2, 2, 1], [3, 2, 2, 1]],\n",
       " [[3, 3, 2, 1]]]"
      ]
     },
     "metadata": {},
     "output_type": "display_data"
    },
    {
     "data": {
      "text/html": [
       "<html><script type=\"math/tex; mode=display\">\\newcommand{\\Bold}[1]{\\mathbf{#1}}\\left[\\left[4321\\right]\\right]</script></html>"
      ],
      "text/plain": [
       "[[[4, 3, 2, 1]]]"
      ]
     },
     "metadata": {},
     "output_type": "display_data"
    }
   ],
   "source": [
    "n=5\n",
    "for k in range(n):\n",
    "    show(chaines(n,n-1-k))"
   ]
  },
  {
   "cell_type": "code",
   "execution_count": 35,
   "metadata": {},
   "outputs": [
    {
     "data": {
      "text/html": [
       "<html><script type=\"math/tex; mode=display\">\\newcommand{\\Bold}[1]{\\mathbf{#1}}\\left[\\left[0\\right]\\right]</script></html>"
      ],
      "text/plain": [
       "[[[]]]"
      ]
     },
     "metadata": {},
     "output_type": "display_data"
    },
    {
     "data": {
      "text/html": [
       "<html><script type=\"math/tex; mode=display\">\\newcommand{\\Bold}[1]{\\mathbf{#1}}\\left[\\left[5, 4, 3, 2, 1\\right], \\left[11111\\right], \\left[44, 33, 22, 11\\right], \\left[2222, 1111\\right], \\left[333, 222, 111\\right]\\right]</script></html>"
      ],
      "text/plain": [
       "[[[5], [4], [3], [2], [1]],\n",
       " [[1, 1, 1, 1, 1]],\n",
       " [[4, 4], [3, 3], [2, 2], [1, 1]],\n",
       " [[2, 2, 2, 2], [1, 1, 1, 1]],\n",
       " [[3, 3, 3], [2, 2, 2], [1, 1, 1]]]"
      ]
     },
     "metadata": {},
     "output_type": "display_data"
    },
    {
     "data": {
      "text/html": [
       "<html><script type=\"math/tex; mode=display\">\\newcommand{\\Bold}[1]{\\mathbf{#1}}\\left[\\left[54, 53, 43, 52, 42, 32, 51, 41, 31, 21\\right], \\left[51111, 41111, 31111, 21111\\right], \\left[22221\\right], \\left[533, 433, 522, 422, 322, 511, 411, 311, 211\\right], \\left[5222, 4222, 3222, 5111, 4111, 3111, 2111\\right], \\left[443, 442, 332, 441, 331, 221\\right], \\left[44111, 33111, 22111\\right], \\left[3332, 3331, 2221\\right], \\left[33311, 22211\\right], \\left[4422, 3322, 4411, 3311, 2211\\right]\\right]</script></html>"
      ],
      "text/plain": [
       "[[[5, 4],\n",
       "  [5, 3],\n",
       "  [4, 3],\n",
       "  [5, 2],\n",
       "  [4, 2],\n",
       "  [3, 2],\n",
       "  [5, 1],\n",
       "  [4, 1],\n",
       "  [3, 1],\n",
       "  [2, 1]],\n",
       " [[5, 1, 1, 1, 1], [4, 1, 1, 1, 1], [3, 1, 1, 1, 1], [2, 1, 1, 1, 1]],\n",
       " [[2, 2, 2, 2, 1]],\n",
       " [[5, 3, 3],\n",
       "  [4, 3, 3],\n",
       "  [5, 2, 2],\n",
       "  [4, 2, 2],\n",
       "  [3, 2, 2],\n",
       "  [5, 1, 1],\n",
       "  [4, 1, 1],\n",
       "  [3, 1, 1],\n",
       "  [2, 1, 1]],\n",
       " [[5, 2, 2, 2],\n",
       "  [4, 2, 2, 2],\n",
       "  [3, 2, 2, 2],\n",
       "  [5, 1, 1, 1],\n",
       "  [4, 1, 1, 1],\n",
       "  [3, 1, 1, 1],\n",
       "  [2, 1, 1, 1]],\n",
       " [[4, 4, 3], [4, 4, 2], [3, 3, 2], [4, 4, 1], [3, 3, 1], [2, 2, 1]],\n",
       " [[4, 4, 1, 1, 1], [3, 3, 1, 1, 1], [2, 2, 1, 1, 1]],\n",
       " [[3, 3, 3, 2], [3, 3, 3, 1], [2, 2, 2, 1]],\n",
       " [[3, 3, 3, 1, 1], [2, 2, 2, 1, 1]],\n",
       " [[4, 4, 2, 2], [3, 3, 2, 2], [4, 4, 1, 1], [3, 3, 1, 1], [2, 2, 1, 1]]]"
      ]
     },
     "metadata": {},
     "output_type": "display_data"
    },
    {
     "data": {
      "text/html": [
       "<html><script type=\"math/tex; mode=display\">\\newcommand{\\Bold}[1]{\\mathbf{#1}}\\left[\\left[543, 542, 532, 432, 541, 531, 431, 521, 421, 321\\right], \\left[54111, 53111, 43111, 52111, 42111, 32111\\right], \\left[52221, 42221, 32221\\right], \\left[33321\\right], \\left[5422, 5322, 4322, 5411, 5311, 4311, 5211, 4211, 3211\\right], \\left[5332, 4332, 5331, 4331, 5221, 4221, 3221\\right], \\left[53311, 43311, 52211, 42211, 32211\\right], \\left[4432, 4431, 4421, 3321\\right], \\left[44311, 44211, 33211\\right], \\left[44221, 33221\\right]\\right]</script></html>"
      ],
      "text/plain": [
       "[[[5, 4, 3],\n",
       "  [5, 4, 2],\n",
       "  [5, 3, 2],\n",
       "  [4, 3, 2],\n",
       "  [5, 4, 1],\n",
       "  [5, 3, 1],\n",
       "  [4, 3, 1],\n",
       "  [5, 2, 1],\n",
       "  [4, 2, 1],\n",
       "  [3, 2, 1]],\n",
       " [[5, 4, 1, 1, 1],\n",
       "  [5, 3, 1, 1, 1],\n",
       "  [4, 3, 1, 1, 1],\n",
       "  [5, 2, 1, 1, 1],\n",
       "  [4, 2, 1, 1, 1],\n",
       "  [3, 2, 1, 1, 1]],\n",
       " [[5, 2, 2, 2, 1], [4, 2, 2, 2, 1], [3, 2, 2, 2, 1]],\n",
       " [[3, 3, 3, 2, 1]],\n",
       " [[5, 4, 2, 2],\n",
       "  [5, 3, 2, 2],\n",
       "  [4, 3, 2, 2],\n",
       "  [5, 4, 1, 1],\n",
       "  [5, 3, 1, 1],\n",
       "  [4, 3, 1, 1],\n",
       "  [5, 2, 1, 1],\n",
       "  [4, 2, 1, 1],\n",
       "  [3, 2, 1, 1]],\n",
       " [[5, 3, 3, 2],\n",
       "  [4, 3, 3, 2],\n",
       "  [5, 3, 3, 1],\n",
       "  [4, 3, 3, 1],\n",
       "  [5, 2, 2, 1],\n",
       "  [4, 2, 2, 1],\n",
       "  [3, 2, 2, 1]],\n",
       " [[5, 3, 3, 1, 1],\n",
       "  [4, 3, 3, 1, 1],\n",
       "  [5, 2, 2, 1, 1],\n",
       "  [4, 2, 2, 1, 1],\n",
       "  [3, 2, 2, 1, 1]],\n",
       " [[4, 4, 3, 2], [4, 4, 3, 1], [4, 4, 2, 1], [3, 3, 2, 1]],\n",
       " [[4, 4, 3, 1, 1], [4, 4, 2, 1, 1], [3, 3, 2, 1, 1]],\n",
       " [[4, 4, 2, 2, 1], [3, 3, 2, 2, 1]]]"
      ]
     },
     "metadata": {},
     "output_type": "display_data"
    },
    {
     "data": {
      "text/html": [
       "<html><script type=\"math/tex; mode=display\">\\newcommand{\\Bold}[1]{\\mathbf{#1}}\\left[\\left[5432, 5431, 5421, 5321, 4321\\right], \\left[54311, 54211, 53211, 43211\\right], \\left[54221, 53221, 43221\\right], \\left[53321, 43321\\right], \\left[44321\\right]\\right]</script></html>"
      ],
      "text/plain": [
       "[[[5, 4, 3, 2], [5, 4, 3, 1], [5, 4, 2, 1], [5, 3, 2, 1], [4, 3, 2, 1]],\n",
       " [[5, 4, 3, 1, 1], [5, 4, 2, 1, 1], [5, 3, 2, 1, 1], [4, 3, 2, 1, 1]],\n",
       " [[5, 4, 2, 2, 1], [5, 3, 2, 2, 1], [4, 3, 2, 2, 1]],\n",
       " [[5, 3, 3, 2, 1], [4, 3, 3, 2, 1]],\n",
       " [[4, 4, 3, 2, 1]]]"
      ]
     },
     "metadata": {},
     "output_type": "display_data"
    },
    {
     "data": {
      "text/html": [
       "<html><script type=\"math/tex; mode=display\">\\newcommand{\\Bold}[1]{\\mathbf{#1}}\\left[\\left[54321\\right]\\right]</script></html>"
      ],
      "text/plain": [
       "[[[5, 4, 3, 2, 1]]]"
      ]
     },
     "metadata": {},
     "output_type": "display_data"
    }
   ],
   "source": [
    "n=6\n",
    "for k in range(n):\n",
    "    show(chaines(n,n-1-k))"
   ]
  },
  {
   "cell_type": "code",
   "execution_count": 11,
   "metadata": {},
   "outputs": [],
   "source": [
    "@cached_function\n",
    "def CalFq_n(n):\n",
    "    return Pleth1(CalE_mn(n),X+q)"
   ]
  },
  {
   "cell_type": "code",
   "execution_count": 151,
   "metadata": {},
   "outputs": [],
   "source": [
    "def sigma_prime(mu,m,n=None):\n",
    "    if n==None:\n",
    "        return sigma_prime(mu,m,m)\n",
    "    elif m==5 and n==5:\n",
    "        nu=[3,1]\n",
    "        a=1\n",
    "        if mu==Partition([1]): \n",
    "            return sigma(mu,n)+s[3,3]+s[5,2]\n",
    "        elif mu==Partition([1,1]) or mu.conjugate()==Partition([1,1]): \n",
    "            return sigma(mu,n)+s[4,2]\n",
    "        elif mu==Partition([1,1,1]) or mu.conjugate()==Partition([1,1,1]): \n",
    "            return sigma(mu,n)+s[3,2]\n",
    "        elif mu==Partition([2,1]): \n",
    "            return sigma(mu,n)+s[3,2]\n",
    "        elif mu==Partition([2,2]): \n",
    "            return sigma(mu,n)+s[2,2]-s[4,1]\n",
    "        elif mu==Partition([3,1,1]): \n",
    "            return sigma(mu,n)+(1-a)*s[2,2]\n",
    "        elif mu==Partition(nu) or mu.conjugate()==Partition(nu): \n",
    "            return sigma(mu,n)+a*s[2,2]\n",
    "        else: return sigma(mu,m,n)\n",
    "    else:\n",
    "        return sigma(mu,m,n)"
   ]
  },
  {
   "cell_type": "code",
   "execution_count": 152,
   "metadata": {},
   "outputs": [
    {
     "data": {
      "text/html": [
       "<html><script type=\"math/tex; mode=display\">\\newcommand{\\Bold}[1]{\\mathbf{#1}}\\left(1, 0\\right)</script></html>"
      ],
      "text/plain": [
       "(1, 0)"
      ]
     },
     "metadata": {},
     "output_type": "display_data"
    },
    {
     "data": {
      "text/html": [
       "<html><script type=\"math/tex; mode=display\">\\newcommand{\\Bold}[1]{\\mathbf{#1}}\\left(2, 0\\right)</script></html>"
      ],
      "text/plain": [
       "(2, 0)"
      ]
     },
     "metadata": {},
     "output_type": "display_data"
    },
    {
     "data": {
      "text/html": [
       "<html><script type=\"math/tex; mode=display\">\\newcommand{\\Bold}[1]{\\mathbf{#1}}\\left(3, 0\\right)</script></html>"
      ],
      "text/plain": [
       "(3, 0)"
      ]
     },
     "metadata": {},
     "output_type": "display_data"
    },
    {
     "data": {
      "text/html": [
       "<html><script type=\"math/tex; mode=display\">\\newcommand{\\Bold}[1]{\\mathbf{#1}}\\left(4, 0\\right)</script></html>"
      ],
      "text/plain": [
       "(4, 0)"
      ]
     },
     "metadata": {},
     "output_type": "display_data"
    },
    {
     "data": {
      "text/html": [
       "<html><script type=\"math/tex; mode=display\">\\newcommand{\\Bold}[1]{\\mathbf{#1}}\\left(5, -s_{22} \\otimes P_{311} + qs_{41} \\otimes P_{221}\\right)</script></html>"
      ],
      "text/plain": [
       "(5, -s[2, 2] # McdH[3, 1, 1] + q*s[4, 1] # McdH[2, 2, 1])"
      ]
     },
     "metadata": {},
     "output_type": "display_data"
    }
   ],
   "source": [
    "for n in range(1,6):\n",
    "    show((n,tensor([s,P])(CalFq_n(n)-add(Tenseur(sigma_prime(mu,n),LLT(mu,n,q)) for mu in Dyck(n)))))"
   ]
  },
  {
   "cell_type": "code",
   "execution_count": 153,
   "metadata": {},
   "outputs": [
    {
     "data": {
      "text/html": [
       "<html><script type=\"math/tex; mode=display\">\\newcommand{\\Bold}[1]{\\mathbf{#1}}-s_{11} \\otimes s_{11111} - 2s_{11} \\otimes s_{2111} - s_{11} \\otimes s_{221} - s_{11} \\otimes s_{311} + s_{21} \\otimes s_{11111} + 2s_{21} \\otimes s_{2111} + s_{21} \\otimes s_{221} + s_{21} \\otimes s_{311} - s_{22} \\otimes s_{11111} - 2s_{22} \\otimes s_{2111} - s_{22} \\otimes s_{221} - s_{22} \\otimes s_{311} + s_{3} \\otimes s_{11111} + s_{3} \\otimes s_{2111} + s_{3} \\otimes s_{221} - s_{31} \\otimes s_{11111} - s_{31} \\otimes s_{2111} - s_{31} \\otimes s_{221} - s_{4} \\otimes s_{11111} - s_{4} \\otimes s_{2111} - s_{4} \\otimes s_{221} + s_{41} \\otimes s_{11111} + s_{41} \\otimes s_{2111} + s_{41} \\otimes s_{221}</script></html>"
      ],
      "text/plain": [
       "-s[1, 1] # s[1, 1, 1, 1, 1] - 2*s[1, 1] # s[2, 1, 1, 1] - s[1, 1] # s[2, 2, 1] - s[1, 1] # s[3, 1, 1] + s[2, 1] # s[1, 1, 1, 1, 1] + 2*s[2, 1] # s[2, 1, 1, 1] + s[2, 1] # s[2, 2, 1] + s[2, 1] # s[3, 1, 1] - s[2, 2] # s[1, 1, 1, 1, 1] - 2*s[2, 2] # s[2, 1, 1, 1] - s[2, 2] # s[2, 2, 1] - s[2, 2] # s[3, 1, 1] + s[3] # s[1, 1, 1, 1, 1] + s[3] # s[2, 1, 1, 1] + s[3] # s[2, 2, 1] - s[3, 1] # s[1, 1, 1, 1, 1] - s[3, 1] # s[2, 1, 1, 1] - s[3, 1] # s[2, 2, 1] - s[4] # s[1, 1, 1, 1, 1] - s[4] # s[2, 1, 1, 1] - s[4] # s[2, 2, 1] + s[4, 1] # s[1, 1, 1, 1, 1] + s[4, 1] # s[2, 1, 1, 1] + s[4, 1] # s[2, 2, 1]"
      ]
     },
     "execution_count": 153,
     "metadata": {},
     "output_type": "execute_result"
    }
   ],
   "source": [
    "n=5\n",
    "CalE_mn(n)-tensor([s,s])(add(Tenseur(sigma_prime(mu,n)(X-1),LLT(mu,n,1)) for mu in Dyck(n)))"
   ]
  },
  {
   "cell_type": "code",
   "execution_count": 154,
   "metadata": {},
   "outputs": [
    {
     "data": {
      "text/html": [
       "<html><script type=\"math/tex; mode=display\">\\newcommand{\\Bold}[1]{\\mathbf{#1}}\\left(- q^{5}\\right)s_{11} \\otimes s_{11111} + \\left(- q^{4} -  q^{3}\\right)s_{11} \\otimes s_{2111} + \\left(- q^{3}\\right)s_{11} \\otimes s_{221} + \\left(- q^{2}\\right)s_{11} \\otimes s_{311} + q^{4}s_{21} \\otimes s_{11111} + \\left(q^{3} + q^{2}\\right)s_{21} \\otimes s_{2111} + q^{2}s_{21} \\otimes s_{221} + qs_{21} \\otimes s_{311} + \\left(- q^{3}\\right)s_{22} \\otimes s_{11111} + \\left(- q^{2} -  q\\right)s_{22} \\otimes s_{2111} + \\left(- q\\right)s_{22} \\otimes s_{221} - s_{22} \\otimes s_{311} + q^{5}s_{3} \\otimes s_{11111} + q^{4}s_{3} \\otimes s_{2111} + q^{3}s_{3} \\otimes s_{221} + \\left(- q^{4}\\right)s_{31} \\otimes s_{11111} + \\left(- q^{3}\\right)s_{31} \\otimes s_{2111} + \\left(- q^{2}\\right)s_{31} \\otimes s_{221} + \\left(- q^{4}\\right)s_{4} \\otimes s_{11111} + \\left(- q^{3}\\right)s_{4} \\otimes s_{2111} + \\left(- q^{2}\\right)s_{4} \\otimes s_{221} + q^{3}s_{41} \\otimes s_{11111} + q^{2}s_{41} \\otimes s_{2111} + qs_{41} \\otimes s_{221}</script></html>"
      ],
      "text/plain": [
       "(-q^5)*s[1, 1] # s[1, 1, 1, 1, 1] + (-q^4-q^3)*s[1, 1] # s[2, 1, 1, 1] + (-q^3)*s[1, 1] # s[2, 2, 1] + (-q^2)*s[1, 1] # s[3, 1, 1] + q^4*s[2, 1] # s[1, 1, 1, 1, 1] + (q^3+q^2)*s[2, 1] # s[2, 1, 1, 1] + q^2*s[2, 1] # s[2, 2, 1] + q*s[2, 1] # s[3, 1, 1] + (-q^3)*s[2, 2] # s[1, 1, 1, 1, 1] + (-q^2-q)*s[2, 2] # s[2, 1, 1, 1] + (-q)*s[2, 2] # s[2, 2, 1] - s[2, 2] # s[3, 1, 1] + q^5*s[3] # s[1, 1, 1, 1, 1] + q^4*s[3] # s[2, 1, 1, 1] + q^3*s[3] # s[2, 2, 1] + (-q^4)*s[3, 1] # s[1, 1, 1, 1, 1] + (-q^3)*s[3, 1] # s[2, 1, 1, 1] + (-q^2)*s[3, 1] # s[2, 2, 1] + (-q^4)*s[4] # s[1, 1, 1, 1, 1] + (-q^3)*s[4] # s[2, 1, 1, 1] + (-q^2)*s[4] # s[2, 2, 1] + q^3*s[4, 1] # s[1, 1, 1, 1, 1] + q^2*s[4, 1] # s[2, 1, 1, 1] + q*s[4, 1] # s[2, 2, 1]"
      ]
     },
     "execution_count": 154,
     "metadata": {},
     "output_type": "execute_result"
    }
   ],
   "source": [
    "n=5\n",
    "CalE_mn(n)-tensor([s,s])(add(Tenseur(sigma_prime(mu,n)(X-q),LLT(mu,n,q)) for mu in Dyck(n)))"
   ]
  },
  {
   "cell_type": "code",
   "execution_count": 155,
   "metadata": {},
   "outputs": [
    {
     "data": {
      "text/html": [
       "<html><script type=\"math/tex; mode=display\">\\newcommand{\\Bold}[1]{\\mathbf{#1}}\\left(31, 211, s_{22} + s_{41} + s_{6}, qP_{311}, 2\\right)</script></html>"
      ],
      "text/plain": [
       "([3, 1], [2, 1, 1], s[2, 2] + s[4, 1] + s[6], q*McdH[3, 1, 1], 2)"
      ]
     },
     "metadata": {},
     "output_type": "display_data"
    },
    {
     "data": {
      "text/html": [
       "<html><script type=\"math/tex; mode=display\">\\newcommand{\\Bold}[1]{\\mathbf{#1}}\\left(22, 22, s_{211} + s_{22} + s_{41} + s_{6}, qP_{221}, 3\\right)</script></html>"
      ],
      "text/plain": [
       "([2, 2], [2, 2], s[2, 1, 1] + s[2, 2] + s[4, 1] + s[6], q*McdH[2, 2, 1], 3)"
      ]
     },
     "metadata": {},
     "output_type": "display_data"
    },
    {
     "data": {
      "text/html": [
       "<html><script type=\"math/tex; mode=display\">\\newcommand{\\Bold}[1]{\\mathbf{#1}}\\left(211, 31, s_{22} + s_{41} + s_{6}, \\left(- q + 1\\right)P_{221} + \\left(- q + 1\\right)P_{311} + P_{32}, 2\\right)</script></html>"
      ],
      "text/plain": [
       "([2, 1, 1],\n",
       " [3, 1],\n",
       " s[2, 2] + s[4, 1] + s[6],\n",
       " (-q+1)*McdH[2, 2, 1] + (-q+1)*McdH[3, 1, 1] + McdH[3, 2],\n",
       " 2)"
      ]
     },
     "metadata": {},
     "output_type": "display_data"
    }
   ],
   "source": [
    "n=5\n",
    "for mu in Dyck(n):\n",
    "    if sigma_prime(mu,n).scalar(s[2,2])<>0:\n",
    "        show((mu,mu.conjugate(),sigma_prime(mu,n),PLLT(Partition(mu),5),long_sigma(mu,n)))"
   ]
  },
  {
   "cell_type": "code",
   "execution_count": 121,
   "metadata": {},
   "outputs": [
    {
     "data": {
      "text/html": [
       "<html><script type=\"math/tex; mode=display\">\\newcommand{\\Bold}[1]{\\mathbf{#1}}q^{2}P_{221}</script></html>"
      ],
      "text/plain": [
       "q^2*McdH[2, 2, 1]"
      ]
     },
     "execution_count": 121,
     "metadata": {},
     "output_type": "execute_result"
    }
   ],
   "source": [
    "PLLT(Partition([3,3]),5)"
   ]
  },
  {
   "cell_type": "code",
   "execution_count": 150,
   "metadata": {},
   "outputs": [
    {
     "data": {
      "text/html": [
       "<html><script type=\"math/tex; mode=display\">\\newcommand{\\Bold}[1]{\\mathbf{#1}}\\left(0, s_{1111} + s_{311} + s_{411} + s_{42} + s_{43} + s_{511} + s_{61} + s_{62} + s_{71} + s_{81} + s_{10.}\\right)</script></html>"
      ],
      "text/plain": [
       "([],\n",
       " s[1, 1, 1, 1] + s[3, 1, 1] + s[4, 1, 1] + s[4, 2] + s[4, 3] + s[5, 1, 1] + s[6, 1] + s[6, 2] + s[7, 1] + s[8, 1] + s[10])"
      ]
     },
     "metadata": {},
     "output_type": "display_data"
    },
    {
     "data": {
      "text/html": [
       "<html><script type=\"math/tex; mode=display\">\\newcommand{\\Bold}[1]{\\mathbf{#1}}\\left(1, s_{411} + s_{61} + s_{71} + s_{9}\\right)</script></html>"
      ],
      "text/plain": [
       "([1], s[4, 1, 1] + s[6, 1] + s[7, 1] + s[9])"
      ]
     },
     "metadata": {},
     "output_type": "display_data"
    },
    {
     "data": {
      "text/html": [
       "<html><script type=\"math/tex; mode=display\">\\newcommand{\\Bold}[1]{\\mathbf{#1}}\\left(2, s_{311} + s_{51} + s_{61} + s_{8}\\right)</script></html>"
      ],
      "text/plain": [
       "([2], s[3, 1, 1] + s[5, 1] + s[6, 1] + s[8])"
      ]
     },
     "metadata": {},
     "output_type": "display_data"
    },
    {
     "data": {
      "text/html": [
       "<html><script type=\"math/tex; mode=display\">\\newcommand{\\Bold}[1]{\\mathbf{#1}}\\left(11, s_{311} + s_{51} + s_{61} + s_{8}\\right)</script></html>"
      ],
      "text/plain": [
       "([1, 1], s[3, 1, 1] + s[5, 1] + s[6, 1] + s[8])"
      ]
     },
     "metadata": {},
     "output_type": "display_data"
    },
    {
     "data": {
      "text/html": [
       "<html><script type=\"math/tex; mode=display\">\\newcommand{\\Bold}[1]{\\mathbf{#1}}\\left(3, s_{211} + s_{41} + s_{51} + s_{7}\\right)</script></html>"
      ],
      "text/plain": [
       "([3], s[2, 1, 1] + s[4, 1] + s[5, 1] + s[7])"
      ]
     },
     "metadata": {},
     "output_type": "display_data"
    },
    {
     "data": {
      "text/html": [
       "<html><script type=\"math/tex; mode=display\">\\newcommand{\\Bold}[1]{\\mathbf{#1}}\\left(21, s_{51} + s_{7}\\right)</script></html>"
      ],
      "text/plain": [
       "([2, 1], s[5, 1] + s[7])"
      ]
     },
     "metadata": {},
     "output_type": "display_data"
    },
    {
     "data": {
      "text/html": [
       "<html><script type=\"math/tex; mode=display\">\\newcommand{\\Bold}[1]{\\mathbf{#1}}\\left(111, s_{211} + s_{41} + s_{51} + s_{7}\\right)</script></html>"
      ],
      "text/plain": [
       "([1, 1, 1], s[2, 1, 1] + s[4, 1] + s[5, 1] + s[7])"
      ]
     },
     "metadata": {},
     "output_type": "display_data"
    },
    {
     "data": {
      "text/html": [
       "<html><script type=\"math/tex; mode=display\">\\newcommand{\\Bold}[1]{\\mathbf{#1}}\\left(4, s_{111} + s_{31} + s_{41} + s_{6}\\right)</script></html>"
      ],
      "text/plain": [
       "([4], s[1, 1, 1] + s[3, 1] + s[4, 1] + s[6])"
      ]
     },
     "metadata": {},
     "output_type": "display_data"
    },
    {
     "data": {
      "text/html": [
       "<html><script type=\"math/tex; mode=display\">\\newcommand{\\Bold}[1]{\\mathbf{#1}}\\left(31, s_{41} + s_{6}\\right)</script></html>"
      ],
      "text/plain": [
       "([3, 1], s[4, 1] + s[6])"
      ]
     },
     "metadata": {},
     "output_type": "display_data"
    },
    {
     "data": {
      "text/html": [
       "<html><script type=\"math/tex; mode=display\">\\newcommand{\\Bold}[1]{\\mathbf{#1}}\\left(22, s_{211} + 2s_{41} + s_{6}\\right)</script></html>"
      ],
      "text/plain": [
       "([2, 2], s[2, 1, 1] + 2*s[4, 1] + s[6])"
      ]
     },
     "metadata": {},
     "output_type": "display_data"
    },
    {
     "data": {
      "text/html": [
       "<html><script type=\"math/tex; mode=display\">\\newcommand{\\Bold}[1]{\\mathbf{#1}}\\left(211, s_{41} + s_{6}\\right)</script></html>"
      ],
      "text/plain": [
       "([2, 1, 1], s[4, 1] + s[6])"
      ]
     },
     "metadata": {},
     "output_type": "display_data"
    },
    {
     "data": {
      "text/html": [
       "<html><script type=\"math/tex; mode=display\">\\newcommand{\\Bold}[1]{\\mathbf{#1}}\\left(1111, s_{111} + s_{31} + s_{41} + s_{6}\\right)</script></html>"
      ],
      "text/plain": [
       "([1, 1, 1, 1], s[1, 1, 1] + s[3, 1] + s[4, 1] + s[6])"
      ]
     },
     "metadata": {},
     "output_type": "display_data"
    },
    {
     "data": {
      "text/html": [
       "<html><script type=\"math/tex; mode=display\">\\newcommand{\\Bold}[1]{\\mathbf{#1}}\\left(41, s_{31} + s_{5}\\right)</script></html>"
      ],
      "text/plain": [
       "([4, 1], s[3, 1] + s[5])"
      ]
     },
     "metadata": {},
     "output_type": "display_data"
    },
    {
     "data": {
      "text/html": [
       "<html><script type=\"math/tex; mode=display\">\\newcommand{\\Bold}[1]{\\mathbf{#1}}\\left(32, s_{31} + s_{5}\\right)</script></html>"
      ],
      "text/plain": [
       "([3, 2], s[3, 1] + s[5])"
      ]
     },
     "metadata": {},
     "output_type": "display_data"
    },
    {
     "data": {
      "text/html": [
       "<html><script type=\"math/tex; mode=display\">\\newcommand{\\Bold}[1]{\\mathbf{#1}}\\left(311, s_{31} + s_{5}\\right)</script></html>"
      ],
      "text/plain": [
       "([3, 1, 1], s[3, 1] + s[5])"
      ]
     },
     "metadata": {},
     "output_type": "display_data"
    },
    {
     "data": {
      "text/html": [
       "<html><script type=\"math/tex; mode=display\">\\newcommand{\\Bold}[1]{\\mathbf{#1}}\\left(221, s_{31} + s_{5}\\right)</script></html>"
      ],
      "text/plain": [
       "([2, 2, 1], s[3, 1] + s[5])"
      ]
     },
     "metadata": {},
     "output_type": "display_data"
    },
    {
     "data": {
      "text/html": [
       "<html><script type=\"math/tex; mode=display\">\\newcommand{\\Bold}[1]{\\mathbf{#1}}\\left(2111, s_{31} + s_{5}\\right)</script></html>"
      ],
      "text/plain": [
       "([2, 1, 1, 1], s[3, 1] + s[5])"
      ]
     },
     "metadata": {},
     "output_type": "display_data"
    },
    {
     "data": {
      "text/html": [
       "<html><script type=\"math/tex; mode=display\">\\newcommand{\\Bold}[1]{\\mathbf{#1}}\\left(42, s_{21} + s_{4}\\right)</script></html>"
      ],
      "text/plain": [
       "([4, 2], s[2, 1] + s[4])"
      ]
     },
     "metadata": {},
     "output_type": "display_data"
    },
    {
     "data": {
      "text/html": [
       "<html><script type=\"math/tex; mode=display\">\\newcommand{\\Bold}[1]{\\mathbf{#1}}\\left(411, s_{21} + s_{4}\\right)</script></html>"
      ],
      "text/plain": [
       "([4, 1, 1], s[2, 1] + s[4])"
      ]
     },
     "metadata": {},
     "output_type": "display_data"
    },
    {
     "data": {
      "text/html": [
       "<html><script type=\"math/tex; mode=display\">\\newcommand{\\Bold}[1]{\\mathbf{#1}}\\left(33, s_{111} + s_{21} + s_{31} + s_{4}\\right)</script></html>"
      ],
      "text/plain": [
       "([3, 3], s[1, 1, 1] + s[2, 1] + s[3, 1] + s[4])"
      ]
     },
     "metadata": {},
     "output_type": "display_data"
    },
    {
     "data": {
      "text/html": [
       "<html><script type=\"math/tex; mode=display\">\\newcommand{\\Bold}[1]{\\mathbf{#1}}\\left(321, s_{4}\\right)</script></html>"
      ],
      "text/plain": [
       "([3, 2, 1], s[4])"
      ]
     },
     "metadata": {},
     "output_type": "display_data"
    },
    {
     "data": {
      "text/html": [
       "<html><script type=\"math/tex; mode=display\">\\newcommand{\\Bold}[1]{\\mathbf{#1}}\\left(3111, s_{21} + s_{4}\\right)</script></html>"
      ],
      "text/plain": [
       "([3, 1, 1, 1], s[2, 1] + s[4])"
      ]
     },
     "metadata": {},
     "output_type": "display_data"
    },
    {
     "data": {
      "text/html": [
       "<html><script type=\"math/tex; mode=display\">\\newcommand{\\Bold}[1]{\\mathbf{#1}}\\left(222, s_{111} + s_{21} + s_{31} + s_{4}\\right)</script></html>"
      ],
      "text/plain": [
       "([2, 2, 2], s[1, 1, 1] + s[2, 1] + s[3, 1] + s[4])"
      ]
     },
     "metadata": {},
     "output_type": "display_data"
    },
    {
     "data": {
      "text/html": [
       "<html><script type=\"math/tex; mode=display\">\\newcommand{\\Bold}[1]{\\mathbf{#1}}\\left(2211, s_{21} + s_{4}\\right)</script></html>"
      ],
      "text/plain": [
       "([2, 2, 1, 1], s[2, 1] + s[4])"
      ]
     },
     "metadata": {},
     "output_type": "display_data"
    },
    {
     "data": {
      "text/html": [
       "<html><script type=\"math/tex; mode=display\">\\newcommand{\\Bold}[1]{\\mathbf{#1}}\\left(43, s_{11} + s_{3}\\right)</script></html>"
      ],
      "text/plain": [
       "([4, 3], s[1, 1] + s[3])"
      ]
     },
     "metadata": {},
     "output_type": "display_data"
    },
    {
     "data": {
      "text/html": [
       "<html><script type=\"math/tex; mode=display\">\\newcommand{\\Bold}[1]{\\mathbf{#1}}\\left(421, s_{3}\\right)</script></html>"
      ],
      "text/plain": [
       "([4, 2, 1], s[3])"
      ]
     },
     "metadata": {},
     "output_type": "display_data"
    },
    {
     "data": {
      "text/html": [
       "<html><script type=\"math/tex; mode=display\">\\newcommand{\\Bold}[1]{\\mathbf{#1}}\\left(4111, s_{11} + s_{3}\\right)</script></html>"
      ],
      "text/plain": [
       "([4, 1, 1, 1], s[1, 1] + s[3])"
      ]
     },
     "metadata": {},
     "output_type": "display_data"
    },
    {
     "data": {
      "text/html": [
       "<html><script type=\"math/tex; mode=display\">\\newcommand{\\Bold}[1]{\\mathbf{#1}}\\left(331, s_{21} + s_{3}\\right)</script></html>"
      ],
      "text/plain": [
       "([3, 3, 1], s[2, 1] + s[3])"
      ]
     },
     "metadata": {},
     "output_type": "display_data"
    },
    {
     "data": {
      "text/html": [
       "<html><script type=\"math/tex; mode=display\">\\newcommand{\\Bold}[1]{\\mathbf{#1}}\\left(322, s_{21} + s_{3}\\right)</script></html>"
      ],
      "text/plain": [
       "([3, 2, 2], s[2, 1] + s[3])"
      ]
     },
     "metadata": {},
     "output_type": "display_data"
    },
    {
     "data": {
      "text/html": [
       "<html><script type=\"math/tex; mode=display\">\\newcommand{\\Bold}[1]{\\mathbf{#1}}\\left(3211, s_{3}\\right)</script></html>"
      ],
      "text/plain": [
       "([3, 2, 1, 1], s[3])"
      ]
     },
     "metadata": {},
     "output_type": "display_data"
    },
    {
     "data": {
      "text/html": [
       "<html><script type=\"math/tex; mode=display\">\\newcommand{\\Bold}[1]{\\mathbf{#1}}\\left(2221, s_{11} + s_{3}\\right)</script></html>"
      ],
      "text/plain": [
       "([2, 2, 2, 1], s[1, 1] + s[3])"
      ]
     },
     "metadata": {},
     "output_type": "display_data"
    },
    {
     "data": {
      "text/html": [
       "<html><script type=\"math/tex; mode=display\">\\newcommand{\\Bold}[1]{\\mathbf{#1}}\\left(431, s_{2}\\right)</script></html>"
      ],
      "text/plain": [
       "([4, 3, 1], s[2])"
      ]
     },
     "metadata": {},
     "output_type": "display_data"
    },
    {
     "data": {
      "text/html": [
       "<html><script type=\"math/tex; mode=display\">\\newcommand{\\Bold}[1]{\\mathbf{#1}}\\left(422, s_{11} + s_{2}\\right)</script></html>"
      ],
      "text/plain": [
       "([4, 2, 2], s[1, 1] + s[2])"
      ]
     },
     "metadata": {},
     "output_type": "display_data"
    },
    {
     "data": {
      "text/html": [
       "<html><script type=\"math/tex; mode=display\">\\newcommand{\\Bold}[1]{\\mathbf{#1}}\\left(4211, s_{2}\\right)</script></html>"
      ],
      "text/plain": [
       "([4, 2, 1, 1], s[2])"
      ]
     },
     "metadata": {},
     "output_type": "display_data"
    },
    {
     "data": {
      "text/html": [
       "<html><script type=\"math/tex; mode=display\">\\newcommand{\\Bold}[1]{\\mathbf{#1}}\\left(332, s_{11} + s_{2}\\right)</script></html>"
      ],
      "text/plain": [
       "([3, 3, 2], s[1, 1] + s[2])"
      ]
     },
     "metadata": {},
     "output_type": "display_data"
    },
    {
     "data": {
      "text/html": [
       "<html><script type=\"math/tex; mode=display\">\\newcommand{\\Bold}[1]{\\mathbf{#1}}\\left(3311, s_{11} + s_{2}\\right)</script></html>"
      ],
      "text/plain": [
       "([3, 3, 1, 1], s[1, 1] + s[2])"
      ]
     },
     "metadata": {},
     "output_type": "display_data"
    },
    {
     "data": {
      "text/html": [
       "<html><script type=\"math/tex; mode=display\">\\newcommand{\\Bold}[1]{\\mathbf{#1}}\\left(3221, s_{2}\\right)</script></html>"
      ],
      "text/plain": [
       "([3, 2, 2, 1], s[2])"
      ]
     },
     "metadata": {},
     "output_type": "display_data"
    },
    {
     "data": {
      "text/html": [
       "<html><script type=\"math/tex; mode=display\">\\newcommand{\\Bold}[1]{\\mathbf{#1}}\\left(432, s_{1}\\right)</script></html>"
      ],
      "text/plain": [
       "([4, 3, 2], s[1])"
      ]
     },
     "metadata": {},
     "output_type": "display_data"
    },
    {
     "data": {
      "text/html": [
       "<html><script type=\"math/tex; mode=display\">\\newcommand{\\Bold}[1]{\\mathbf{#1}}\\left(4311, s_{1}\\right)</script></html>"
      ],
      "text/plain": [
       "([4, 3, 1, 1], s[1])"
      ]
     },
     "metadata": {},
     "output_type": "display_data"
    },
    {
     "data": {
      "text/html": [
       "<html><script type=\"math/tex; mode=display\">\\newcommand{\\Bold}[1]{\\mathbf{#1}}\\left(4221, s_{1}\\right)</script></html>"
      ],
      "text/plain": [
       "([4, 2, 2, 1], s[1])"
      ]
     },
     "metadata": {},
     "output_type": "display_data"
    },
    {
     "data": {
      "text/html": [
       "<html><script type=\"math/tex; mode=display\">\\newcommand{\\Bold}[1]{\\mathbf{#1}}\\left(3321, s_{1}\\right)</script></html>"
      ],
      "text/plain": [
       "([3, 3, 2, 1], s[1])"
      ]
     },
     "metadata": {},
     "output_type": "display_data"
    },
    {
     "data": {
      "text/html": [
       "<html><script type=\"math/tex; mode=display\">\\newcommand{\\Bold}[1]{\\mathbf{#1}}\\left(4321, \\mathbb{1}\\right)</script></html>"
      ],
      "text/plain": [
       "([4, 3, 2, 1], s[])"
      ]
     },
     "metadata": {},
     "output_type": "display_data"
    }
   ],
   "source": [
    "for mu in Dyck(5):\n",
    "    show((mu,sigma(mu,5)))"
   ]
  },
  {
   "cell_type": "code",
   "execution_count": 4,
   "metadata": {},
   "outputs": [],
   "source": [
    "def P_dualise(f):\n",
    "    return add(c*Qp(mu) for (mu,c) in P(f))/add(c for (mu,c) in P(f))\n"
   ]
  },
  {
   "cell_type": "code",
   "execution_count": 24,
   "metadata": {},
   "outputs": [
    {
     "data": {
      "text/html": [
       "<html><script type=\"math/tex; mode=display\">\\newcommand{\\Bold}[1]{\\mathbf{#1}}\\left(q^{2} + q + 1\\right)s_{1} + \\left(q + 1\\right)s_{2} + s_{3}</script></html>"
      ],
      "text/plain": [
       "(q^2+q+1)*s[1] + (q+1)*s[2] + s[3]"
      ]
     },
     "execution_count": 24,
     "metadata": {},
     "output_type": "execute_result"
    }
   ],
   "source": [
    "Scalar2(CalFq_n(4),P_dualise(LLT([2,1],4,q)))"
   ]
  },
  {
   "cell_type": "code",
   "execution_count": 20,
   "metadata": {},
   "outputs": [
    {
     "data": {
      "text/html": [
       "<html><script type=\"math/tex; mode=display\">\\newcommand{\\Bold}[1]{\\mathbf{#1}}\\left(q^{3} + q^{2} + q + 1\\right)\\mathbb{1} + \\left(q^{2} + q + 1\\right)s_{1} + \\left(q + 1\\right)s_{2} + s_{3}</script></html>"
      ],
      "text/plain": [
       "(q^3+q^2+q+1)*s[] + (q^2+q+1)*s[1] + (q+1)*s[2] + s[3]"
      ]
     },
     "execution_count": 20,
     "metadata": {},
     "output_type": "execute_result"
    }
   ],
   "source": [
    "sigma([2,1],4)(X+q+1)"
   ]
  },
  {
   "cell_type": "code",
   "execution_count": 9,
   "metadata": {},
   "outputs": [],
   "source": [
    "Scalar2??"
   ]
  },
  {
   "cell_type": "code",
   "execution_count": 29,
   "metadata": {},
   "outputs": [
    {
     "data": {
      "text/html": [
       "<html><script type=\"math/tex; mode=display\">\\newcommand{\\Bold}[1]{\\mathbf{#1}}\\left(q^{2} + q t + t^{2} + 2 q + 2 t + 2\\right)s_{111} + \\left(q + t + 2\\right)s_{21}</script></html>"
      ],
      "text/plain": [
       "(q^2+q*t+t^2+2*q+2*t+2)*s[1, 1, 1] + (q+t+2)*s[2, 1]"
      ]
     },
     "execution_count": 29,
     "metadata": {},
     "output_type": "execute_result"
    }
   ],
   "source": [
    "Eval1(Skew1(e[1],CalE_mn(3)),1+q+t)"
   ]
  },
  {
   "cell_type": "code",
   "execution_count": 30,
   "metadata": {},
   "outputs": [
    {
     "data": {
      "text/html": [
       "<html><script type=\"math/tex; mode=display\">\\newcommand{\\Bold}[1]{\\mathbf{#1}}\\mathbb{1}</script></html>"
      ],
      "text/plain": [
       "s[]"
      ]
     },
     "execution_count": 30,
     "metadata": {},
     "output_type": "execute_result"
    }
   ],
   "source": [
    "Un"
   ]
  },
  {
   "cell_type": "code",
   "execution_count": 31,
   "metadata": {},
   "outputs": [
    {
     "data": {
      "text/html": [
       "<html><script type=\"math/tex; mode=display\">\\newcommand{\\Bold}[1]{\\mathbf{#1}}\\mathbb{1} + s_{1} + s_{2} + s_{3}</script></html>"
      ],
      "text/plain": [
       "s[] + s[1] + s[2] + s[3]"
      ]
     },
     "execution_count": 31,
     "metadata": {},
     "output_type": "execute_result"
    }
   ],
   "source": [
    "s[3](X+1)"
   ]
  },
  {
   "cell_type": "code",
   "execution_count": null,
   "metadata": {},
   "outputs": [],
   "source": []
  }
 ],
 "metadata": {
  "kernelspec": {
   "display_name": "SageMath 8.4.rc1",
   "language": "",
   "name": "sagemath"
  },
  "language_info": {
   "codemirror_mode": {
    "name": "ipython",
    "version": 2
   },
   "file_extension": ".py",
   "mimetype": "text/x-python",
   "name": "python",
   "nbconvert_exporter": "python",
   "pygments_lexer": "ipython2",
   "version": "2.7.15"
  }
 },
 "nbformat": 4,
 "nbformat_minor": 2
}
